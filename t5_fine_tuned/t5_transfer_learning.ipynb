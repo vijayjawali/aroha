{
  "cells": [
    {
      "cell_type": "code",
      "execution_count": 13,
      "metadata": {
        "colab": {
          "base_uri": "https://localhost:8080/"
        },
        "id": "xLl9iGDiCqmR",
        "outputId": "20b0dab2-171c-4268-f900-c08032c8c07a"
      },
      "outputs": [
        {
          "name": "stdout",
          "output_type": "stream",
          "text": [
            "Requirement already satisfied: transformers in c:\\users\\vijay\\anaconda3\\envs\\aroha\\lib\\site-packages (4.31.0)\n",
            "Requirement already satisfied: datasets in c:\\users\\vijay\\anaconda3\\envs\\aroha\\lib\\site-packages (2.14.1)\n",
            "Requirement already satisfied: rouge-score in c:\\users\\vijay\\anaconda3\\envs\\aroha\\lib\\site-packages (0.1.2)\n",
            "Requirement already satisfied: filelock in c:\\users\\vijay\\anaconda3\\envs\\aroha\\lib\\site-packages (from transformers) (3.12.2)\n",
            "Requirement already satisfied: huggingface-hub<1.0,>=0.14.1 in c:\\users\\vijay\\anaconda3\\envs\\aroha\\lib\\site-packages (from transformers) (0.16.4)\n",
            "Requirement already satisfied: numpy>=1.17 in c:\\users\\vijay\\anaconda3\\envs\\aroha\\lib\\site-packages (from transformers) (1.25.1)\n",
            "Requirement already satisfied: packaging>=20.0 in c:\\users\\vijay\\appdata\\roaming\\python\\python39\\site-packages (from transformers) (23.1)\n",
            "Requirement already satisfied: pyyaml>=5.1 in c:\\users\\vijay\\anaconda3\\envs\\aroha\\lib\\site-packages (from transformers) (6.0.1)\n",
            "Requirement already satisfied: regex!=2019.12.17 in c:\\users\\vijay\\anaconda3\\envs\\aroha\\lib\\site-packages (from transformers) (2023.6.3)\n",
            "Requirement already satisfied: requests in c:\\users\\vijay\\anaconda3\\envs\\aroha\\lib\\site-packages (from transformers) (2.31.0)\n",
            "Requirement already satisfied: tokenizers!=0.11.3,<0.14,>=0.11.1 in c:\\users\\vijay\\anaconda3\\envs\\aroha\\lib\\site-packages (from transformers) (0.13.3)\n",
            "Requirement already satisfied: safetensors>=0.3.1 in c:\\users\\vijay\\anaconda3\\envs\\aroha\\lib\\site-packages (from transformers) (0.3.1)\n",
            "Requirement already satisfied: tqdm>=4.27 in c:\\users\\vijay\\anaconda3\\envs\\aroha\\lib\\site-packages (from transformers) (4.65.0)\n",
            "Requirement already satisfied: pyarrow>=8.0.0 in c:\\users\\vijay\\anaconda3\\envs\\aroha\\lib\\site-packages (from datasets) (12.0.1)\n",
            "Requirement already satisfied: dill<0.3.8,>=0.3.0 in c:\\users\\vijay\\anaconda3\\envs\\aroha\\lib\\site-packages (from datasets) (0.3.7)\n",
            "Requirement already satisfied: pandas in c:\\users\\vijay\\anaconda3\\envs\\aroha\\lib\\site-packages (from datasets) (2.0.3)\n",
            "Requirement already satisfied: xxhash in c:\\users\\vijay\\anaconda3\\envs\\aroha\\lib\\site-packages (from datasets) (3.2.0)\n",
            "Requirement already satisfied: multiprocess in c:\\users\\vijay\\anaconda3\\envs\\aroha\\lib\\site-packages (from datasets) (0.70.15)\n",
            "Requirement already satisfied: fsspec[http]>=2021.11.1 in c:\\users\\vijay\\anaconda3\\envs\\aroha\\lib\\site-packages (from datasets) (2023.6.0)\n",
            "Requirement already satisfied: aiohttp in c:\\users\\vijay\\anaconda3\\envs\\aroha\\lib\\site-packages (from datasets) (3.8.5)\n",
            "Requirement already satisfied: absl-py in c:\\users\\vijay\\anaconda3\\envs\\aroha\\lib\\site-packages (from rouge-score) (1.4.0)\n",
            "Requirement already satisfied: nltk in c:\\users\\vijay\\anaconda3\\envs\\aroha\\lib\\site-packages (from rouge-score) (3.8.1)\n",
            "Requirement already satisfied: six>=1.14.0 in c:\\users\\vijay\\appdata\\roaming\\python\\python39\\site-packages (from rouge-score) (1.16.0)\n",
            "Requirement already satisfied: attrs>=17.3.0 in c:\\users\\vijay\\anaconda3\\envs\\aroha\\lib\\site-packages (from aiohttp->datasets) (23.1.0)\n",
            "Requirement already satisfied: charset-normalizer<4.0,>=2.0 in c:\\users\\vijay\\anaconda3\\envs\\aroha\\lib\\site-packages (from aiohttp->datasets) (3.2.0)\n",
            "Requirement already satisfied: multidict<7.0,>=4.5 in c:\\users\\vijay\\anaconda3\\envs\\aroha\\lib\\site-packages (from aiohttp->datasets) (6.0.4)\n",
            "Requirement already satisfied: async-timeout<5.0,>=4.0.0a3 in c:\\users\\vijay\\anaconda3\\envs\\aroha\\lib\\site-packages (from aiohttp->datasets) (4.0.2)\n",
            "Requirement already satisfied: yarl<2.0,>=1.0 in c:\\users\\vijay\\anaconda3\\envs\\aroha\\lib\\site-packages (from aiohttp->datasets) (1.9.2)\n",
            "Requirement already satisfied: frozenlist>=1.1.1 in c:\\users\\vijay\\anaconda3\\envs\\aroha\\lib\\site-packages (from aiohttp->datasets) (1.4.0)\n",
            "Requirement already satisfied: aiosignal>=1.1.2 in c:\\users\\vijay\\anaconda3\\envs\\aroha\\lib\\site-packages (from aiohttp->datasets) (1.3.1)\n",
            "Requirement already satisfied: typing-extensions>=3.7.4.3 in c:\\users\\vijay\\anaconda3\\envs\\aroha\\lib\\site-packages (from huggingface-hub<1.0,>=0.14.1->transformers) (4.7.1)\n",
            "Requirement already satisfied: idna<4,>=2.5 in c:\\users\\vijay\\anaconda3\\envs\\aroha\\lib\\site-packages (from requests->transformers) (3.4)\n",
            "Requirement already satisfied: urllib3<3,>=1.21.1 in c:\\users\\vijay\\anaconda3\\envs\\aroha\\lib\\site-packages (from requests->transformers) (1.26.16)\n",
            "Requirement already satisfied: certifi>=2017.4.17 in c:\\users\\vijay\\anaconda3\\envs\\aroha\\lib\\site-packages (from requests->transformers) (2023.7.22)\n",
            "Requirement already satisfied: colorama in c:\\users\\vijay\\appdata\\roaming\\python\\python39\\site-packages (from tqdm>=4.27->transformers) (0.4.6)\n",
            "Requirement already satisfied: click in c:\\users\\vijay\\anaconda3\\envs\\aroha\\lib\\site-packages (from nltk->rouge-score) (8.1.6)\n",
            "Requirement already satisfied: joblib in c:\\users\\vijay\\anaconda3\\envs\\aroha\\lib\\site-packages (from nltk->rouge-score) (1.3.1)\n",
            "Requirement already satisfied: python-dateutil>=2.8.2 in c:\\users\\vijay\\appdata\\roaming\\python\\python39\\site-packages (from pandas->datasets) (2.8.2)\n",
            "Requirement already satisfied: pytz>=2020.1 in c:\\users\\vijay\\anaconda3\\envs\\aroha\\lib\\site-packages (from pandas->datasets) (2023.3)\n",
            "Requirement already satisfied: tzdata>=2022.1 in c:\\users\\vijay\\anaconda3\\envs\\aroha\\lib\\site-packages (from pandas->datasets) (2023.3)\n",
            "Requirement already satisfied: transformers[torch] in c:\\users\\vijay\\anaconda3\\envs\\aroha\\lib\\site-packages (4.31.0)\n",
            "Requirement already satisfied: filelock in c:\\users\\vijay\\anaconda3\\envs\\aroha\\lib\\site-packages (from transformers[torch]) (3.12.2)\n",
            "Requirement already satisfied: huggingface-hub<1.0,>=0.14.1 in c:\\users\\vijay\\anaconda3\\envs\\aroha\\lib\\site-packages (from transformers[torch]) (0.16.4)\n",
            "Requirement already satisfied: numpy>=1.17 in c:\\users\\vijay\\anaconda3\\envs\\aroha\\lib\\site-packages (from transformers[torch]) (1.25.1)\n",
            "Requirement already satisfied: packaging>=20.0 in c:\\users\\vijay\\appdata\\roaming\\python\\python39\\site-packages (from transformers[torch]) (23.1)\n",
            "Requirement already satisfied: pyyaml>=5.1 in c:\\users\\vijay\\anaconda3\\envs\\aroha\\lib\\site-packages (from transformers[torch]) (6.0.1)\n",
            "Requirement already satisfied: regex!=2019.12.17 in c:\\users\\vijay\\anaconda3\\envs\\aroha\\lib\\site-packages (from transformers[torch]) (2023.6.3)\n",
            "Requirement already satisfied: requests in c:\\users\\vijay\\anaconda3\\envs\\aroha\\lib\\site-packages (from transformers[torch]) (2.31.0)\n",
            "Requirement already satisfied: tokenizers!=0.11.3,<0.14,>=0.11.1 in c:\\users\\vijay\\anaconda3\\envs\\aroha\\lib\\site-packages (from transformers[torch]) (0.13.3)\n",
            "Requirement already satisfied: safetensors>=0.3.1 in c:\\users\\vijay\\anaconda3\\envs\\aroha\\lib\\site-packages (from transformers[torch]) (0.3.1)\n",
            "Requirement already satisfied: tqdm>=4.27 in c:\\users\\vijay\\anaconda3\\envs\\aroha\\lib\\site-packages (from transformers[torch]) (4.65.0)\n",
            "Requirement already satisfied: torch!=1.12.0,>=1.9 in c:\\users\\vijay\\anaconda3\\envs\\aroha\\lib\\site-packages (from transformers[torch]) (2.0.1)\n",
            "Requirement already satisfied: accelerate>=0.20.3 in c:\\users\\vijay\\anaconda3\\envs\\aroha\\lib\\site-packages (from transformers[torch]) (0.21.0)\n",
            "Requirement already satisfied: psutil in c:\\users\\vijay\\appdata\\roaming\\python\\python39\\site-packages (from accelerate>=0.20.3->transformers[torch]) (5.9.5)\n",
            "Requirement already satisfied: fsspec in c:\\users\\vijay\\anaconda3\\envs\\aroha\\lib\\site-packages (from huggingface-hub<1.0,>=0.14.1->transformers[torch]) (2023.6.0)\n",
            "Requirement already satisfied: typing-extensions>=3.7.4.3 in c:\\users\\vijay\\anaconda3\\envs\\aroha\\lib\\site-packages (from huggingface-hub<1.0,>=0.14.1->transformers[torch]) (4.7.1)\n",
            "Requirement already satisfied: sympy in c:\\users\\vijay\\anaconda3\\envs\\aroha\\lib\\site-packages (from torch!=1.12.0,>=1.9->transformers[torch]) (1.12)\n",
            "Requirement already satisfied: networkx in c:\\users\\vijay\\anaconda3\\envs\\aroha\\lib\\site-packages (from torch!=1.12.0,>=1.9->transformers[torch]) (3.1)\n",
            "Requirement already satisfied: jinja2 in c:\\users\\vijay\\anaconda3\\envs\\aroha\\lib\\site-packages (from torch!=1.12.0,>=1.9->transformers[torch]) (3.1.2)\n",
            "Requirement already satisfied: colorama in c:\\users\\vijay\\appdata\\roaming\\python\\python39\\site-packages (from tqdm>=4.27->transformers[torch]) (0.4.6)\n",
            "Requirement already satisfied: charset-normalizer<4,>=2 in c:\\users\\vijay\\anaconda3\\envs\\aroha\\lib\\site-packages (from requests->transformers[torch]) (3.2.0)\n",
            "Requirement already satisfied: idna<4,>=2.5 in c:\\users\\vijay\\anaconda3\\envs\\aroha\\lib\\site-packages (from requests->transformers[torch]) (3.4)\n",
            "Requirement already satisfied: urllib3<3,>=1.21.1 in c:\\users\\vijay\\anaconda3\\envs\\aroha\\lib\\site-packages (from requests->transformers[torch]) (1.26.16)\n",
            "Requirement already satisfied: certifi>=2017.4.17 in c:\\users\\vijay\\anaconda3\\envs\\aroha\\lib\\site-packages (from requests->transformers[torch]) (2023.7.22)\n",
            "Requirement already satisfied: MarkupSafe>=2.0 in c:\\users\\vijay\\anaconda3\\envs\\aroha\\lib\\site-packages (from jinja2->torch!=1.12.0,>=1.9->transformers[torch]) (2.1.3)\n",
            "Requirement already satisfied: mpmath>=0.19 in c:\\users\\vijay\\anaconda3\\envs\\aroha\\lib\\site-packages (from sympy->torch!=1.12.0,>=1.9->transformers[torch]) (1.3.0)\n",
            "Requirement already satisfied: accelerate in c:\\users\\vijay\\anaconda3\\envs\\aroha\\lib\\site-packages (0.21.0)\n",
            "Requirement already satisfied: numpy>=1.17 in c:\\users\\vijay\\anaconda3\\envs\\aroha\\lib\\site-packages (from accelerate) (1.25.1)\n",
            "Requirement already satisfied: packaging>=20.0 in c:\\users\\vijay\\appdata\\roaming\\python\\python39\\site-packages (from accelerate) (23.1)\n",
            "Requirement already satisfied: psutil in c:\\users\\vijay\\appdata\\roaming\\python\\python39\\site-packages (from accelerate) (5.9.5)\n",
            "Requirement already satisfied: pyyaml in c:\\users\\vijay\\anaconda3\\envs\\aroha\\lib\\site-packages (from accelerate) (6.0.1)\n",
            "Requirement already satisfied: torch>=1.10.0 in c:\\users\\vijay\\anaconda3\\envs\\aroha\\lib\\site-packages (from accelerate) (2.0.1)\n",
            "Requirement already satisfied: filelock in c:\\users\\vijay\\anaconda3\\envs\\aroha\\lib\\site-packages (from torch>=1.10.0->accelerate) (3.12.2)\n",
            "Requirement already satisfied: typing-extensions in c:\\users\\vijay\\anaconda3\\envs\\aroha\\lib\\site-packages (from torch>=1.10.0->accelerate) (4.7.1)\n",
            "Requirement already satisfied: sympy in c:\\users\\vijay\\anaconda3\\envs\\aroha\\lib\\site-packages (from torch>=1.10.0->accelerate) (1.12)\n",
            "Requirement already satisfied: networkx in c:\\users\\vijay\\anaconda3\\envs\\aroha\\lib\\site-packages (from torch>=1.10.0->accelerate) (3.1)\n",
            "Requirement already satisfied: jinja2 in c:\\users\\vijay\\anaconda3\\envs\\aroha\\lib\\site-packages (from torch>=1.10.0->accelerate) (3.1.2)\n",
            "Requirement already satisfied: MarkupSafe>=2.0 in c:\\users\\vijay\\anaconda3\\envs\\aroha\\lib\\site-packages (from jinja2->torch>=1.10.0->accelerate) (2.1.3)\n",
            "Requirement already satisfied: mpmath>=0.19 in c:\\users\\vijay\\anaconda3\\envs\\aroha\\lib\\site-packages (from sympy->torch>=1.10.0->accelerate) (1.3.0)\n",
            "Requirement already satisfied: rouge in c:\\users\\vijay\\anaconda3\\envs\\aroha\\lib\\site-packages (1.0.1)\n",
            "Requirement already satisfied: six in c:\\users\\vijay\\appdata\\roaming\\python\\python39\\site-packages (from rouge) (1.16.0)\n"
          ]
        }
      ],
      "source": [
        "! pip install transformers datasets rouge-score\n",
        "! pip install transformers[torch]\n",
        "! pip install accelerate -U\n",
        "! pip install rouge"
      ]
    },
    {
      "cell_type": "code",
      "execution_count": 14,
      "metadata": {
        "id": "XfMPzLzTDB8S"
      },
      "outputs": [],
      "source": [
        "import pandas as pd\n",
        "from datasets import Dataset\n",
        "from transformers import AutoTokenizer, AutoModelForSeq2SeqLM, TrainingArguments, Trainer\n",
        "from rouge import Rouge\n",
        "from datasets import load_dataset\n",
        "import matplotlib.pyplot as plt"
      ]
    },
    {
      "cell_type": "code",
      "execution_count": 15,
      "metadata": {
        "colab": {
          "base_uri": "https://localhost:8080/"
        },
        "id": "siKUZ3giDE9X",
        "outputId": "5b46efa0-c0ad-41d4-9abb-2be6da4fa17f"
      },
      "outputs": [
        {
          "name": "stderr",
          "output_type": "stream",
          "text": [
            "c:\\Users\\vijay\\anaconda3\\envs\\aroha\\lib\\site-packages\\transformers\\models\\t5\\tokenization_t5_fast.py:155: FutureWarning: This tokenizer was incorrectly instantiated with a model max length of 512 which will be corrected in Transformers v5.\n",
            "For now, this behavior is kept to avoid breaking backwards compatibility when padding/encoding with `truncation is True`.\n",
            "- Be aware that you SHOULD NOT rely on t5-base automatically truncating your input to 512 when padding/encoding.\n",
            "- If you want to encode/pad to sequences longer than 512 you can either instantiate this tokenizer with `model_max_length` or pass `max_length` when encoding/padding.\n",
            "- To avoid this warning, please instantiate this tokenizer with `model_max_length` set to your preferred value.\n",
            "  warnings.warn(\n"
          ]
        }
      ],
      "source": [
        "model_name = \"t5-base\"\n",
        "tokenizer = AutoTokenizer.from_pretrained(model_name)"
      ]
    },
    {
      "cell_type": "code",
      "execution_count": 16,
      "metadata": {
        "id": "-nWT82ZRWfNp"
      },
      "outputs": [],
      "source": [
        "max_article_length = 500\n",
        "max_summary_length = 50"
      ]
    },
    {
      "cell_type": "code",
      "execution_count": 17,
      "metadata": {
        "id": "m4l2UY3JDh48"
      },
      "outputs": [],
      "source": [
        "def process_data_to_model_inputs(batch):\n",
        "    inputs = tokenizer(batch[\"article\"], padding=\"max_length\", truncation=True, max_length=max_article_length)\n",
        "    outputs = tokenizer(batch[\"highlights\"], padding=\"max_length\", truncation=True, max_length=max_summary_length)\n",
        "\n",
        "    batch[\"input_ids\"] = inputs.input_ids\n",
        "    batch[\"attention_mask\"] = inputs.attention_mask\n",
        "    batch[\"labels\"] = outputs.input_ids\n",
        "\n",
        "    return batch"
      ]
    },
    {
      "cell_type": "code",
      "execution_count": 18,
      "metadata": {
        "id": "iSIE8OhbD7JO"
      },
      "outputs": [],
      "source": [
        "dataset = load_dataset('cnn_dailymail', '3.0.0')"
      ]
    },
    {
      "cell_type": "code",
      "execution_count": 19,
      "metadata": {
        "id": "7GaSdbrIEQmN"
      },
      "outputs": [],
      "source": [
        "train_data = dataset['train']\n",
        "train_df = pd.DataFrame(train_data).head(100)"
      ]
    },
    {
      "cell_type": "code",
      "execution_count": 20,
      "metadata": {
        "id": "LwLcSs05ES9b"
      },
      "outputs": [],
      "source": [
        "validation_data = dataset['validation']\n",
        "validation_df = pd.DataFrame(validation_data).head(10)"
      ]
    },
    {
      "cell_type": "code",
      "execution_count": 21,
      "metadata": {
        "id": "DoR-cIEtEdlt"
      },
      "outputs": [],
      "source": [
        "test_data = dataset['test']\n",
        "test_df = pd.DataFrame(test_data).head(10)"
      ]
    },
    {
      "cell_type": "code",
      "execution_count": 22,
      "metadata": {
        "id": "Rj0XfBVJDxdK"
      },
      "outputs": [],
      "source": [
        "train_dataset = Dataset.from_pandas(train_df)\n",
        "val_dataset = Dataset.from_pandas(validation_df)\n",
        "test_dataset = Dataset.from_pandas(test_df)"
      ]
    },
    {
      "cell_type": "code",
      "execution_count": 23,
      "metadata": {
        "colab": {
          "base_uri": "https://localhost:8080/",
          "height": 113,
          "referenced_widgets": [
            "2404953303a24f0385e0c06a3669f0f2",
            "da280729395e4995b4672ed861819ef8",
            "49bc7a67a6cf4591a2ed69bfddf74e43",
            "4b89622e5a744a1294b4b9d723db4dab",
            "75e61a5f2655494dbacb284b5dc27238",
            "b75e160d287548ae87f41ccd40659f58",
            "7f31a9f772fb47d38559502a31002f82",
            "f026489a5c6e4bdf88ab4899ed5111f9",
            "20c72c53b2c147a388dcc73fa5c85e16",
            "fc1c9d446c144c6e9d3af5a0b94504b9",
            "085a8def70b74c7a9f075b2b3d609b2d",
            "fc1fe50dff814073bc394d6ebf02cbb6",
            "276ae4a852d547d58d65e539193fdd47",
            "2e96865328054cb7b13eaa16e3268dc1",
            "9f40c20d884542d48303235c1269a8ee",
            "c21d9572637c4828be1b184208f6af08",
            "8b2b72a8f0d347108029cc72c2971f7d",
            "11272c084412485791af004b984c26d7",
            "820fdce268ab4273919bd09d2e617137",
            "73a64fb39b5948f0893ff0c4df793889",
            "bb63bb10c49a4334872887d08511f1f0",
            "b79c4f59bf9f4283ae481d2e6fcd0daf",
            "78a72b842ccf4ce8a4a11bd93d634ab6",
            "49fc324414ab44439c889b4908af25dc",
            "794d2b4f9ff84c91b03a389c7149e0af",
            "dd48a0aef4f946829b31eb704acc1573",
            "e6fe7306fe3d4b60ad2b79820ccc8d40",
            "dc14cc698bf54b7d9e815c3a40631f1c",
            "b81b94fc1d814ba1a7dacf9f0381cb7f",
            "69dbe3b34e4d4f6b8c8480ce38ac79fd",
            "f4a2fb1cb5bc48c68426586651d93c57",
            "3d08bd35c3864780963de5932fb016c9",
            "66d86405293e492896e1066ace1affc4"
          ]
        },
        "id": "Vd6GB79bD3ul",
        "outputId": "626eadd3-2eec-41b0-93e5-1305ef23e18c"
      },
      "outputs": [
        {
          "name": "stderr",
          "output_type": "stream",
          "text": [
            "Map:   0%|          | 0/100 [00:00<?, ? examples/s]"
          ]
        },
        {
          "name": "stderr",
          "output_type": "stream",
          "text": [
            "Map: 100%|██████████| 100/100 [00:00<00:00, 162.87 examples/s]\n",
            "Map: 100%|██████████| 10/10 [00:00<00:00, 249.97 examples/s]\n",
            "Map: 100%|██████████| 10/10 [00:00<00:00, 238.09 examples/s]\n"
          ]
        }
      ],
      "source": [
        "train_dataset = train_dataset.map(process_data_to_model_inputs, batched=True)\n",
        "val_dataset = val_dataset.map(process_data_to_model_inputs, batched=True)\n",
        "test_dataset = test_dataset.map(process_data_to_model_inputs, batched=True)"
      ]
    },
    {
      "cell_type": "code",
      "execution_count": 24,
      "metadata": {
        "id": "bkg9qa2DFEwT"
      },
      "outputs": [],
      "source": [
        "train_dataset.set_format(type=\"torch\", columns=[\"input_ids\", \"attention_mask\", \"labels\"])\n",
        "val_dataset.set_format(type=\"torch\", columns=[\"input_ids\", \"attention_mask\", \"labels\"])\n",
        "test_dataset.set_format(type=\"torch\", columns=[\"input_ids\", \"attention_mask\", \"labels\"])"
      ]
    },
    {
      "cell_type": "code",
      "execution_count": 25,
      "metadata": {
        "id": "io3pPtytFJ28"
      },
      "outputs": [],
      "source": [
        "model = AutoModelForSeq2SeqLM.from_pretrained(model_name)"
      ]
    },
    {
      "cell_type": "code",
      "execution_count": 26,
      "metadata": {
        "id": "13hp24wrFNoG"
      },
      "outputs": [],
      "source": [
        "training_args = TrainingArguments(\n",
        "    output_dir=\"./results\",\n",
        "    per_device_train_batch_size=4,\n",
        "    per_device_eval_batch_size=4,\n",
        "    num_train_epochs=1,\n",
        "    evaluation_strategy=\"epoch\",\n",
        "    save_strategy=\"epoch\",\n",
        "    logging_dir=\"./logs\",\n",
        "    logging_steps=1,\n",
        "    logging_first_step=True,\n",
        ")"
      ]
    },
    {
      "cell_type": "code",
      "execution_count": 27,
      "metadata": {
        "id": "xs1gUzmrS0wc"
      },
      "outputs": [],
      "source": [
        "trainer = Trainer(\n",
        "    model=model,\n",
        "    args=training_args,\n",
        "    train_dataset=train_dataset,\n",
        "    eval_dataset=val_dataset,\n",
        ")"
      ]
    },
    {
      "cell_type": "code",
      "execution_count": 28,
      "metadata": {
        "colab": {
          "base_uri": "https://localhost:8080/",
          "height": 276
        },
        "id": "fRk-KKroS3ti",
        "outputId": "28fab63e-b48d-4abf-d94d-83515c8b800d"
      },
      "outputs": [
        {
          "name": "stderr",
          "output_type": "stream",
          "text": [
            "c:\\Users\\vijay\\anaconda3\\envs\\aroha\\lib\\site-packages\\transformers\\optimization.py:411: FutureWarning: This implementation of AdamW is deprecated and will be removed in a future version. Use the PyTorch implementation torch.optim.AdamW instead, or set `no_deprecation_warning=True` to disable this warning\n",
            "  warnings.warn(\n",
            "  4%|▍         | 1/25 [01:00<23:57, 59.90s/it]"
          ]
        },
        {
          "name": "stdout",
          "output_type": "stream",
          "text": [
            "{'loss': 2.2746, 'learning_rate': 4.8e-05, 'epoch': 0.04}\n"
          ]
        },
        {
          "name": "stderr",
          "output_type": "stream",
          "text": [
            "  8%|▊         | 2/25 [02:24<28:36, 74.62s/it]"
          ]
        },
        {
          "name": "stdout",
          "output_type": "stream",
          "text": [
            "{'loss': 2.7041, 'learning_rate': 4.600000000000001e-05, 'epoch': 0.08}\n"
          ]
        },
        {
          "name": "stderr",
          "output_type": "stream",
          "text": [
            " 12%|█▏        | 3/25 [03:29<25:44, 70.23s/it]"
          ]
        },
        {
          "name": "stdout",
          "output_type": "stream",
          "text": [
            "{'loss': 2.5089, 'learning_rate': 4.4000000000000006e-05, 'epoch': 0.12}\n"
          ]
        },
        {
          "name": "stderr",
          "output_type": "stream",
          "text": [
            " 16%|█▌        | 4/25 [04:21<21:59, 62.84s/it]"
          ]
        },
        {
          "name": "stdout",
          "output_type": "stream",
          "text": [
            "{'loss': 2.5208, 'learning_rate': 4.2e-05, 'epoch': 0.16}\n"
          ]
        },
        {
          "name": "stderr",
          "output_type": "stream",
          "text": [
            " 20%|██        | 5/25 [05:04<18:34, 55.72s/it]"
          ]
        },
        {
          "name": "stdout",
          "output_type": "stream",
          "text": [
            "{'loss': 2.9372, 'learning_rate': 4e-05, 'epoch': 0.2}\n"
          ]
        },
        {
          "name": "stderr",
          "output_type": "stream",
          "text": [
            " 24%|██▍       | 6/25 [05:42<15:43, 49.65s/it]"
          ]
        },
        {
          "name": "stdout",
          "output_type": "stream",
          "text": [
            "{'loss': 2.7985, 'learning_rate': 3.8e-05, 'epoch': 0.24}\n"
          ]
        },
        {
          "name": "stderr",
          "output_type": "stream",
          "text": [
            " 28%|██▊       | 7/25 [06:18<13:32, 45.12s/it]"
          ]
        },
        {
          "name": "stdout",
          "output_type": "stream",
          "text": [
            "{'loss': 2.0739, 'learning_rate': 3.6e-05, 'epoch': 0.28}\n"
          ]
        },
        {
          "name": "stderr",
          "output_type": "stream",
          "text": [
            " 32%|███▏      | 8/25 [06:53<11:55, 42.11s/it]"
          ]
        },
        {
          "name": "stdout",
          "output_type": "stream",
          "text": [
            "{'loss': 1.8618, 'learning_rate': 3.4000000000000007e-05, 'epoch': 0.32}\n"
          ]
        },
        {
          "name": "stderr",
          "output_type": "stream",
          "text": [
            " 36%|███▌      | 9/25 [07:30<10:49, 40.58s/it]"
          ]
        },
        {
          "name": "stdout",
          "output_type": "stream",
          "text": [
            "{'loss': 3.4921, 'learning_rate': 3.2000000000000005e-05, 'epoch': 0.36}\n"
          ]
        },
        {
          "name": "stderr",
          "output_type": "stream",
          "text": [
            " 40%|████      | 10/25 [08:08<09:53, 39.54s/it]"
          ]
        },
        {
          "name": "stdout",
          "output_type": "stream",
          "text": [
            "{'loss': 3.2881, 'learning_rate': 3e-05, 'epoch': 0.4}\n"
          ]
        },
        {
          "name": "stderr",
          "output_type": "stream",
          "text": [
            " 44%|████▍     | 11/25 [08:47<09:11, 39.38s/it]"
          ]
        },
        {
          "name": "stdout",
          "output_type": "stream",
          "text": [
            "{'loss': 2.4444, 'learning_rate': 2.8000000000000003e-05, 'epoch': 0.44}\n"
          ]
        },
        {
          "name": "stderr",
          "output_type": "stream",
          "text": [
            " 48%|████▊     | 12/25 [09:26<08:30, 39.24s/it]"
          ]
        },
        {
          "name": "stdout",
          "output_type": "stream",
          "text": [
            "{'loss': 3.2968, 'learning_rate': 2.6000000000000002e-05, 'epoch': 0.48}\n"
          ]
        },
        {
          "name": "stderr",
          "output_type": "stream",
          "text": [
            " 52%|█████▏    | 13/25 [10:04<07:48, 39.08s/it]"
          ]
        },
        {
          "name": "stdout",
          "output_type": "stream",
          "text": [
            "{'loss': 1.8915, 'learning_rate': 2.4e-05, 'epoch': 0.52}\n"
          ]
        },
        {
          "name": "stderr",
          "output_type": "stream",
          "text": [
            " 56%|█████▌    | 14/25 [10:40<06:58, 38.08s/it]"
          ]
        },
        {
          "name": "stdout",
          "output_type": "stream",
          "text": [
            "{'loss': 2.5474, 'learning_rate': 2.2000000000000003e-05, 'epoch': 0.56}\n"
          ]
        },
        {
          "name": "stderr",
          "output_type": "stream",
          "text": [
            " 60%|██████    | 15/25 [11:16<06:15, 37.52s/it]"
          ]
        },
        {
          "name": "stdout",
          "output_type": "stream",
          "text": [
            "{'loss': 2.1481, 'learning_rate': 2e-05, 'epoch': 0.6}\n"
          ]
        },
        {
          "name": "stderr",
          "output_type": "stream",
          "text": [
            " 64%|██████▍   | 16/25 [11:51<05:30, 36.76s/it]"
          ]
        },
        {
          "name": "stdout",
          "output_type": "stream",
          "text": [
            "{'loss': 2.3294, 'learning_rate': 1.8e-05, 'epoch': 0.64}\n"
          ]
        },
        {
          "name": "stderr",
          "output_type": "stream",
          "text": [
            " 68%|██████▊   | 17/25 [12:26<04:49, 36.21s/it]"
          ]
        },
        {
          "name": "stdout",
          "output_type": "stream",
          "text": [
            "{'loss': 3.8027, 'learning_rate': 1.6000000000000003e-05, 'epoch': 0.68}\n"
          ]
        },
        {
          "name": "stderr",
          "output_type": "stream",
          "text": [
            " 72%|███████▏  | 18/25 [13:03<04:15, 36.48s/it]"
          ]
        },
        {
          "name": "stdout",
          "output_type": "stream",
          "text": [
            "{'loss': 3.0878, 'learning_rate': 1.4000000000000001e-05, 'epoch': 0.72}\n"
          ]
        },
        {
          "name": "stderr",
          "output_type": "stream",
          "text": [
            " 76%|███████▌  | 19/25 [13:41<03:40, 36.71s/it]"
          ]
        },
        {
          "name": "stdout",
          "output_type": "stream",
          "text": [
            "{'loss': 2.1607, 'learning_rate': 1.2e-05, 'epoch': 0.76}\n"
          ]
        },
        {
          "name": "stderr",
          "output_type": "stream",
          "text": [
            " 80%|████████  | 20/25 [14:16<03:01, 36.21s/it]"
          ]
        },
        {
          "name": "stdout",
          "output_type": "stream",
          "text": [
            "{'loss': 1.9687, 'learning_rate': 1e-05, 'epoch': 0.8}\n"
          ]
        },
        {
          "name": "stderr",
          "output_type": "stream",
          "text": [
            " 84%|████████▍ | 21/25 [14:52<02:25, 36.32s/it]"
          ]
        },
        {
          "name": "stdout",
          "output_type": "stream",
          "text": [
            "{'loss': 1.6606, 'learning_rate': 8.000000000000001e-06, 'epoch': 0.84}\n"
          ]
        },
        {
          "name": "stderr",
          "output_type": "stream",
          "text": [
            " 88%|████████▊ | 22/25 [15:27<01:47, 35.89s/it]"
          ]
        },
        {
          "name": "stdout",
          "output_type": "stream",
          "text": [
            "{'loss': 2.8638, 'learning_rate': 6e-06, 'epoch': 0.88}\n"
          ]
        },
        {
          "name": "stderr",
          "output_type": "stream",
          "text": [
            " 92%|█████████▏| 23/25 [16:02<01:11, 35.59s/it]"
          ]
        },
        {
          "name": "stdout",
          "output_type": "stream",
          "text": [
            "{'loss': 2.2091, 'learning_rate': 4.000000000000001e-06, 'epoch': 0.92}\n"
          ]
        },
        {
          "name": "stderr",
          "output_type": "stream",
          "text": [
            " 96%|█████████▌| 24/25 [16:37<00:35, 35.26s/it]"
          ]
        },
        {
          "name": "stdout",
          "output_type": "stream",
          "text": [
            "{'loss': 1.5916, 'learning_rate': 2.0000000000000003e-06, 'epoch': 0.96}\n"
          ]
        },
        {
          "name": "stderr",
          "output_type": "stream",
          "text": [
            "100%|██████████| 25/25 [17:11<00:00, 35.02s/it]"
          ]
        },
        {
          "name": "stdout",
          "output_type": "stream",
          "text": [
            "{'loss': 1.9719, 'learning_rate': 0.0, 'epoch': 1.0}\n"
          ]
        },
        {
          "name": "stderr",
          "output_type": "stream",
          "text": [
            "                                               \n",
            "100%|██████████| 25/25 [17:46<00:00, 35.02s/it]"
          ]
        },
        {
          "name": "stdout",
          "output_type": "stream",
          "text": [
            "{'eval_loss': 4.128125190734863, 'eval_runtime': 34.57, 'eval_samples_per_second': 0.289, 'eval_steps_per_second': 0.087, 'epoch': 1.0}\n"
          ]
        },
        {
          "name": "stderr",
          "output_type": "stream",
          "text": [
            "100%|██████████| 25/25 [17:54<00:00, 42.96s/it]"
          ]
        },
        {
          "name": "stdout",
          "output_type": "stream",
          "text": [
            "{'train_runtime': 1074.2941, 'train_samples_per_second': 0.093, 'train_steps_per_second': 0.023, 'train_loss': 2.4973750352859496, 'epoch': 1.0}\n"
          ]
        },
        {
          "name": "stderr",
          "output_type": "stream",
          "text": [
            "\n"
          ]
        },
        {
          "data": {
            "text/plain": [
              "TrainOutput(global_step=25, training_loss=2.4973750352859496, metrics={'train_runtime': 1074.2941, 'train_samples_per_second': 0.093, 'train_steps_per_second': 0.023, 'train_loss': 2.4973750352859496, 'epoch': 1.0})"
            ]
          },
          "execution_count": 28,
          "metadata": {},
          "output_type": "execute_result"
        }
      ],
      "source": [
        "trainer.train()"
      ]
    },
    {
      "cell_type": "code",
      "execution_count": 29,
      "metadata": {
        "id": "9yAlGXohPV2u"
      },
      "outputs": [],
      "source": [
        "# Extract training and evaluation losses from log history\n",
        "training_losses = [log.get('loss', None) for log in trainer.state.log_history]\n",
        "eval_losses = [log.get('eval_loss', None) for log in trainer.state.log_history]\n",
        "\n",
        "# Remove None values (steps where corresponding loss is not logged)\n",
        "training_losses = [loss for loss in training_losses if loss is not None]\n",
        "eval_losses = [loss for loss in eval_losses if loss is not None]"
      ]
    },
    {
      "cell_type": "code",
      "execution_count": 30,
      "metadata": {
        "colab": {
          "base_uri": "https://localhost:8080/",
          "height": 449
        },
        "id": "_8w3zk7TSiH_",
        "outputId": "6d68210c-f6f3-499e-d552-ec3f35c90b43"
      },
      "outputs": [
        {
          "data": {
            "image/png": "[encoded data removed]",
            "text/plain": [
              "<Figure size 640x480 with 1 Axes>"
            ]
          },
          "metadata": {},
          "output_type": "display_data"
        }
      ],
      "source": [
        "# Plot the losses\n",
        "plt.plot(eval_losses, label='Evaluation loss')\n",
        "plt.xlabel('Epochs')\n",
        "plt.ylabel('Loss')\n",
        "plt.legend()\n",
        "plt.show()"
      ]
    },
    {
      "cell_type": "code",
      "execution_count": 31,
      "metadata": {
        "colab": {
          "base_uri": "https://localhost:8080/",
          "height": 449
        },
        "id": "0KanRX9zSbmv",
        "outputId": "3d6e8905-52d5-429a-cf28-7759618e3bf0"
      },
      "outputs": [
        {
          "data": {
            "image/png": "[encoded data removed]",
            "text/plain": [
              "<Figure size 640x480 with 1 Axes>"
            ]
          },
          "metadata": {},
          "output_type": "display_data"
        }
      ],
      "source": [
        "plt.plot(training_losses, label='Training loss')\n",
        "plt.xlabel('Log steps')\n",
        "plt.ylabel('Loss')\n",
        "plt.legend()\n",
        "plt.show()"
      ]
    },
    {
      "cell_type": "code",
      "execution_count": 32,
      "metadata": {
        "id": "-VG7rNzA5Zrp"
      },
      "outputs": [],
      "source": [
        "trainer.save_model(\"./t5_transfer_learning\")"
      ]
    },
    {
      "cell_type": "code",
      "execution_count": 33,
      "metadata": {
        "colab": {
          "base_uri": "https://localhost:8080/",
          "height": 17
        },
        "id": "1oXnzDBVG6_m",
        "outputId": "0e7b99c3-0e2e-424b-b908-7aacdc03dfdb"
      },
      "outputs": [
        {
          "name": "stderr",
          "output_type": "stream",
          "text": [
            "100%|██████████| 3/3 [00:35<00:00, 11.93s/it]\n"
          ]
        }
      ],
      "source": [
        "generated_summaries = trainer.predict(test_dataset)"
      ]
    },
    {
      "cell_type": "code",
      "execution_count": 34,
      "metadata": {
        "id": "k-h7JGS60bry"
      },
      "outputs": [],
      "source": [
        "predicted_ids = generated_summaries.predictions[0].argmax(-1)"
      ]
    },
    {
      "cell_type": "code",
      "execution_count": 35,
      "metadata": {
        "id": "XR80fLMdIXWI"
      },
      "outputs": [],
      "source": [
        "test_df['summary'] = tokenizer.batch_decode(predicted_ids, skip_special_tokens=True)"
      ]
    },
    {
      "cell_type": "code",
      "execution_count": 36,
      "metadata": {
        "id": "9MIHYWxDEtyN"
      },
      "outputs": [],
      "source": [
        "rouge = Rouge()\n",
        "\n",
        "test_df['rouge_scores'] = test_df.apply(lambda row: rouge.get_scores(row['summary'], row['highlights']), axis=1)"
      ]
    },
    {
      "cell_type": "code",
      "execution_count": 37,
      "metadata": {
        "id": "zJIQLY92JRgz"
      },
      "outputs": [],
      "source": [
        "test_df.to_csv('t5_transfer_learning.csv.zip', index=False, compression='zip')"
      ]
    },
    {
      "cell_type": "code",
      "execution_count": 38,
      "metadata": {
        "colab": {
          "base_uri": "https://localhost:8080/",
          "height": 143
        },
        "id": "TrQQvdZIJX2g",
        "outputId": "2290ee5c-71fa-4eb7-d9ea-04d78aa7d68b"
      },
      "outputs": [
        {
          "data": {
            "text/html": [
              "<div>\n",
              "<style scoped>\n",
              "    .dataframe tbody tr th:only-of-type {\n",
              "        vertical-align: middle;\n",
              "    }\n",
              "\n",
              "    .dataframe tbody tr th {\n",
              "        vertical-align: top;\n",
              "    }\n",
              "\n",
              "    .dataframe thead th {\n",
              "        text-align: right;\n",
              "    }\n",
              "</style>\n",
              "<table border=\"1\" class=\"dataframe\">\n",
              "  <thead>\n",
              "    <tr style=\"text-align: right;\">\n",
              "      <th></th>\n",
              "      <th>ROUGE-1</th>\n",
              "      <th>ROUGE-2</th>\n",
              "      <th>ROUGE-L</th>\n",
              "    </tr>\n",
              "  </thead>\n",
              "  <tbody>\n",
              "    <tr>\n",
              "      <th>recall</th>\n",
              "      <td>0.502994</td>\n",
              "      <td>0.291066</td>\n",
              "      <td>0.489898</td>\n",
              "    </tr>\n",
              "    <tr>\n",
              "      <th>precision</th>\n",
              "      <td>0.603506</td>\n",
              "      <td>0.333387</td>\n",
              "      <td>0.588960</td>\n",
              "    </tr>\n",
              "    <tr>\n",
              "      <th>f1-score</th>\n",
              "      <td>0.545280</td>\n",
              "      <td>0.307786</td>\n",
              "      <td>0.531538</td>\n",
              "    </tr>\n",
              "  </tbody>\n",
              "</table>\n",
              "</div>"
            ],
            "text/plain": [
              "            ROUGE-1   ROUGE-2   ROUGE-L\n",
              "recall     0.502994  0.291066  0.489898\n",
              "precision  0.603506  0.333387  0.588960\n",
              "f1-score   0.545280  0.307786  0.531538"
            ]
          },
          "execution_count": 38,
          "metadata": {},
          "output_type": "execute_result"
        }
      ],
      "source": [
        "rouge_scores = test_df['rouge_scores']\n",
        "\n",
        "rouge_1 = {'r': 0, 'p': 0, 'f': 0}\n",
        "rouge_2 = {'r': 0, 'p': 0, 'f': 0}\n",
        "rouge_l = {'r': 0, 'p': 0, 'f': 0}\n",
        "\n",
        "for scores in rouge_scores:\n",
        "    rouge_1_scores = scores[0]['rouge-1']\n",
        "    rouge_2_scores = scores[0]['rouge-2']\n",
        "    rouge_l_scores = scores[0]['rouge-l']\n",
        "\n",
        "    rouge_1['r'] += rouge_1_scores['r']\n",
        "    rouge_1['p'] += rouge_1_scores['p']\n",
        "    rouge_1['f'] += rouge_1_scores['f']\n",
        "\n",
        "    rouge_2['r'] += rouge_2_scores['r']\n",
        "    rouge_2['p'] += rouge_2_scores['p']\n",
        "    rouge_2['f'] += rouge_2_scores['f']\n",
        "\n",
        "    rouge_l['r'] += rouge_l_scores['r']\n",
        "    rouge_l['p'] += rouge_l_scores['p']\n",
        "    rouge_l['f'] += rouge_l_scores['f']\n",
        "\n",
        "num_rows = len(rouge_scores)\n",
        "\n",
        "rouge_1_avg = {'recall': rouge_1['r'] / num_rows, 'precision': rouge_1['p'] / num_rows, 'f1-score': rouge_1['f'] / num_rows}\n",
        "rouge_2_avg = {'recall': rouge_2['r'] / num_rows, 'precision': rouge_2['p'] / num_rows, 'f1-score': rouge_2['f'] / num_rows}\n",
        "rouge_l_avg = {'recall': rouge_l['r'] / num_rows, 'precision': rouge_l['p'] / num_rows, 'f1-score': rouge_l['f'] / num_rows}\n",
        "\n",
        "average_scores = pd.DataFrame({'ROUGE-1': rouge_1_avg, 'ROUGE-2': rouge_2_avg, 'ROUGE-L': rouge_l_avg})\n",
        "\n",
        "average_scores.to_csv('t5_transfer_learning_rouge.csv', index=True)\n",
        "\n",
        "average_scores"
      ]
    },
    {
      "cell_type": "code",
      "execution_count": 39,
      "metadata": {
        "colab": {
          "base_uri": "https://localhost:8080/",
          "height": 487
        },
        "id": "hW6yXFw_UPQQ",
        "outputId": "674d6a0a-9d81-40f4-f9b5-e967d54248ed"
      },
      "outputs": [
        {
          "data": {
            "image/png": "[encoded data removed]",
            "text/plain": [
              "<Figure size 640x480 with 1 Axes>"
            ]
          },
          "metadata": {},
          "output_type": "display_data"
        }
      ],
      "source": [
        "x_values = average_scores.columns\n",
        "y_values = average_scores.loc['recall']\n",
        "\n",
        "fig, ax1 = plt.subplots()\n",
        "\n",
        "ax1.scatter(x_values, y_values, marker='o', color='black')\n",
        "ax1.set_ylabel('Average Score')\n",
        "ax1.set_xlabel('ROUGE Metrics')\n",
        "ax1.set_title('Average recall Scores')\n",
        "\n",
        "ax1.bar(x_values, y_values, color='orange', alpha=0.6)\n",
        "\n",
        "for i, v in enumerate(y_values):\n",
        "    ax1.text(i, v + 0.001, f'{v:.3f}', ha='center', va='bottom', color='black')\n",
        "\n",
        "plt.tight_layout()\n",
        "\n",
        "plt.show()"
      ]
    },
    {
      "cell_type": "code",
      "execution_count": 40,
      "metadata": {
        "colab": {
          "base_uri": "https://localhost:8080/",
          "height": 487
        },
        "id": "hl1ES5oqUY8G",
        "outputId": "dab39920-6b5c-4bc8-aa09-bce8dd7708ce"
      },
      "outputs": [
        {
          "data": {
            "image/png": "[encoded data removed]",
            "text/plain": [
              "<Figure size 640x480 with 1 Axes>"
            ]
          },
          "metadata": {},
          "output_type": "display_data"
        }
      ],
      "source": [
        "x_values = average_scores.columns\n",
        "y_values = average_scores.loc['precision']\n",
        "\n",
        "fig, ax1 = plt.subplots()\n",
        "\n",
        "ax1.scatter(x_values, y_values, marker='o', color='black')\n",
        "ax1.set_ylabel('Average Score')\n",
        "ax1.set_xlabel('ROUGE Metrics')\n",
        "ax1.set_title('Average precision Scores')\n",
        "\n",
        "ax1.bar(x_values, y_values, color='orange', alpha=0.6)\n",
        "\n",
        "for i, v in enumerate(y_values):\n",
        "    ax1.text(i, v + 0.001, f'{v:.3f}', ha='center', va='bottom', color='black')\n",
        "\n",
        "plt.tight_layout()\n",
        "\n",
        "plt.show()"
      ]
    },
    {
      "cell_type": "code",
      "execution_count": 41,
      "metadata": {
        "colab": {
          "base_uri": "https://localhost:8080/",
          "height": 487
        },
        "id": "zYVJ3rUmUbqi",
        "outputId": "0aa082ff-f766-44ca-fff6-cd730e8faaab"
      },
      "outputs": [
        {
          "data": {
            "image/png": "[encoded data removed]",
            "text/plain": [
              "<Figure size 640x480 with 1 Axes>"
            ]
          },
          "metadata": {},
          "output_type": "display_data"
        }
      ],
      "source": [
        "x_values = average_scores.columns\n",
        "y_values = average_scores.loc['f1-score']\n",
        "\n",
        "fig, ax1 = plt.subplots()\n",
        "\n",
        "ax1.scatter(x_values, y_values, marker='o', color='black')\n",
        "ax1.set_ylabel('Average Score')\n",
        "ax1.set_xlabel('ROUGE Metrics')\n",
        "ax1.set_title('Average f1 Scores')\n",
        "\n",
        "ax1.bar(x_values, y_values, color='orange', alpha=0.6)\n",
        "\n",
        "for i, v in enumerate(y_values):\n",
        "    ax1.text(i, v + 0.001, f'{v:.3f}', ha='center', va='bottom', color='black')\n",
        "\n",
        "plt.tight_layout()\n",
        "\n",
        "plt.show()"
      ]
    },
    {
      "cell_type": "code",
      "execution_count": 42,
      "metadata": {
        "colab": {
          "base_uri": "https://localhost:8080/",
          "height": 449
        },
        "id": "KGYc9gxyUe4J",
        "outputId": "6566fcf7-a2c0-41a9-d514-9176aa702790"
      },
      "outputs": [
        {
          "data": {
            "image/png": "[encoded data removed]",
            "text/plain": [
              "<Figure size 640x480 with 2 Axes>"
            ]
          },
          "metadata": {},
          "output_type": "display_data"
        }
      ],
      "source": [
        "plt.imshow(average_scores, cmap='YlOrRd')\n",
        "\n",
        "plt.xticks(range(len(average_scores.columns)), average_scores.columns)\n",
        "plt.yticks(range(len(average_scores.index)), average_scores.index)\n",
        "plt.xlabel('ROUGE Metrics')\n",
        "plt.ylabel('Average Scores')\n",
        "\n",
        "for i in range(len(average_scores.index)):\n",
        "    for j in range(len(average_scores.columns)):\n",
        "        plt.text(j, i, f'{average_scores.iloc[i, j]:.3f}', ha='center', va='center', color='black')\n",
        "\n",
        "plt.colorbar(label='Average Score')\n",
        "\n",
        "plt.show()"
      ]
    }
  ],
  "metadata": {
    "accelerator": "GPU",
    "colab": {
      "gpuType": "T4",
      "provenance": []
    },
    "kernelspec": {
      "display_name": "Python 3",
      "name": "python3"
    },
    "language_info": {
      "codemirror_mode": {
        "name": "ipython",
        "version": 3
      },
      "file_extension": ".py",
      "mimetype": "text/x-python",
      "name": "python",
      "nbconvert_exporter": "python",
      "pygments_lexer": "ipython3",
      "version": "3.9.17"
    },
    "widgets": {
      "application/vnd.jupyter.widget-state+json": {
        "085a8def70b74c7a9f075b2b3d609b2d": {
          "model_module": "@jupyter-widgets/controls",
          "model_module_version": "1.5.0",
          "model_name": "DescriptionStyleModel",
          "state": {
            "_model_module": "@jupyter-widgets/controls",
            "_model_module_version": "1.5.0",
            "_model_name": "DescriptionStyleModel",
            "_view_count": null,
            "_view_module": "@jupyter-widgets/base",
            "_view_module_version": "1.2.0",
            "_view_name": "StyleView",
            "description_width": ""
          }
        },
        "11272c084412485791af004b984c26d7": {
          "model_module": "@jupyter-widgets/controls",
          "model_module_version": "1.5.0",
          "model_name": "DescriptionStyleModel",
          "state": {
            "_model_module": "@jupyter-widgets/controls",
            "_model_module_version": "1.5.0",
            "_model_name": "DescriptionStyleModel",
            "_view_count": null,
            "_view_module": "@jupyter-widgets/base",
            "_view_module_version": "1.2.0",
            "_view_name": "StyleView",
            "description_width": ""
          }
        },
        "20c72c53b2c147a388dcc73fa5c85e16": {
          "model_module": "@jupyter-widgets/controls",
          "model_module_version": "1.5.0",
          "model_name": "ProgressStyleModel",
          "state": {
            "_model_module": "@jupyter-widgets/controls",
            "_model_module_version": "1.5.0",
            "_model_name": "ProgressStyleModel",
            "_view_count": null,
            "_view_module": "@jupyter-widgets/base",
            "_view_module_version": "1.2.0",
            "_view_name": "StyleView",
            "bar_color": null,
            "description_width": ""
          }
        },
        "2404953303a24f0385e0c06a3669f0f2": {
          "model_module": "@jupyter-widgets/controls",
          "model_module_version": "1.5.0",
          "model_name": "HBoxModel",
          "state": {
            "_dom_classes": [],
            "_model_module": "@jupyter-widgets/controls",
            "_model_module_version": "1.5.0",
            "_model_name": "HBoxModel",
            "_view_count": null,
            "_view_module": "@jupyter-widgets/controls",
            "_view_module_version": "1.5.0",
            "_view_name": "HBoxView",
            "box_style": "",
            "children": [
              "IPY_MODEL_da280729395e4995b4672ed861819ef8",
              "IPY_MODEL_49bc7a67a6cf4591a2ed69bfddf74e43",
              "IPY_MODEL_4b89622e5a744a1294b4b9d723db4dab"
            ],
            "layout": "IPY_MODEL_75e61a5f2655494dbacb284b5dc27238"
          }
        },
        "276ae4a852d547d58d65e539193fdd47": {
          "model_module": "@jupyter-widgets/controls",
          "model_module_version": "1.5.0",
          "model_name": "HTMLModel",
          "state": {
            "_dom_classes": [],
            "_model_module": "@jupyter-widgets/controls",
            "_model_module_version": "1.5.0",
            "_model_name": "HTMLModel",
            "_view_count": null,
            "_view_module": "@jupyter-widgets/controls",
            "_view_module_version": "1.5.0",
            "_view_name": "HTMLView",
            "description": "",
            "description_tooltip": null,
            "layout": "IPY_MODEL_8b2b72a8f0d347108029cc72c2971f7d",
            "placeholder": "​",
            "style": "IPY_MODEL_11272c084412485791af004b984c26d7",
            "value": "Map: 100%"
          }
        },
        "2e96865328054cb7b13eaa16e3268dc1": {
          "model_module": "@jupyter-widgets/controls",
          "model_module_version": "1.5.0",
          "model_name": "FloatProgressModel",
          "state": {
            "_dom_classes": [],
            "_model_module": "@jupyter-widgets/controls",
            "_model_module_version": "1.5.0",
            "_model_name": "FloatProgressModel",
            "_view_count": null,
            "_view_module": "@jupyter-widgets/controls",
            "_view_module_version": "1.5.0",
            "_view_name": "ProgressView",
            "bar_style": "success",
            "description": "",
            "description_tooltip": null,
            "layout": "IPY_MODEL_820fdce268ab4273919bd09d2e617137",
            "max": 10,
            "min": 0,
            "orientation": "horizontal",
            "style": "IPY_MODEL_73a64fb39b5948f0893ff0c4df793889",
            "value": 10
          }
        },
        "3d08bd35c3864780963de5932fb016c9": {
          "model_module": "@jupyter-widgets/base",
          "model_module_version": "1.2.0",
          "model_name": "LayoutModel",
          "state": {
            "_model_module": "@jupyter-widgets/base",
            "_model_module_version": "1.2.0",
            "_model_name": "LayoutModel",
            "_view_count": null,
            "_view_module": "@jupyter-widgets/base",
            "_view_module_version": "1.2.0",
            "_view_name": "LayoutView",
            "align_content": null,
            "align_items": null,
            "align_self": null,
            "border": null,
            "bottom": null,
            "display": null,
            "flex": null,
            "flex_flow": null,
            "grid_area": null,
            "grid_auto_columns": null,
            "grid_auto_flow": null,
            "grid_auto_rows": null,
            "grid_column": null,
            "grid_gap": null,
            "grid_row": null,
            "grid_template_areas": null,
            "grid_template_columns": null,
            "grid_template_rows": null,
            "height": null,
            "justify_content": null,
            "justify_items": null,
            "left": null,
            "margin": null,
            "max_height": null,
            "max_width": null,
            "min_height": null,
            "min_width": null,
            "object_fit": null,
            "object_position": null,
            "order": null,
            "overflow": null,
            "overflow_x": null,
            "overflow_y": null,
            "padding": null,
            "right": null,
            "top": null,
            "visibility": null,
            "width": null
          }
        },
        "49bc7a67a6cf4591a2ed69bfddf74e43": {
          "model_module": "@jupyter-widgets/controls",
          "model_module_version": "1.5.0",
          "model_name": "FloatProgressModel",
          "state": {
            "_dom_classes": [],
            "_model_module": "@jupyter-widgets/controls",
            "_model_module_version": "1.5.0",
            "_model_name": "FloatProgressModel",
            "_view_count": null,
            "_view_module": "@jupyter-widgets/controls",
            "_view_module_version": "1.5.0",
            "_view_name": "ProgressView",
            "bar_style": "success",
            "description": "",
            "description_tooltip": null,
            "layout": "IPY_MODEL_f026489a5c6e4bdf88ab4899ed5111f9",
            "max": 80,
            "min": 0,
            "orientation": "horizontal",
            "style": "IPY_MODEL_20c72c53b2c147a388dcc73fa5c85e16",
            "value": 80
          }
        },
        "49fc324414ab44439c889b4908af25dc": {
          "model_module": "@jupyter-widgets/controls",
          "model_module_version": "1.5.0",
          "model_name": "HTMLModel",
          "state": {
            "_dom_classes": [],
            "_model_module": "@jupyter-widgets/controls",
            "_model_module_version": "1.5.0",
            "_model_name": "HTMLModel",
            "_view_count": null,
            "_view_module": "@jupyter-widgets/controls",
            "_view_module_version": "1.5.0",
            "_view_name": "HTMLView",
            "description": "",
            "description_tooltip": null,
            "layout": "IPY_MODEL_dc14cc698bf54b7d9e815c3a40631f1c",
            "placeholder": "​",
            "style": "IPY_MODEL_b81b94fc1d814ba1a7dacf9f0381cb7f",
            "value": "Map: 100%"
          }
        },
        "4b89622e5a744a1294b4b9d723db4dab": {
          "model_module": "@jupyter-widgets/controls",
          "model_module_version": "1.5.0",
          "model_name": "HTMLModel",
          "state": {
            "_dom_classes": [],
            "_model_module": "@jupyter-widgets/controls",
            "_model_module_version": "1.5.0",
            "_model_name": "HTMLModel",
            "_view_count": null,
            "_view_module": "@jupyter-widgets/controls",
            "_view_module_version": "1.5.0",
            "_view_name": "HTMLView",
            "description": "",
            "description_tooltip": null,
            "layout": "IPY_MODEL_fc1c9d446c144c6e9d3af5a0b94504b9",
            "placeholder": "​",
            "style": "IPY_MODEL_085a8def70b74c7a9f075b2b3d609b2d",
            "value": " 80/80 [00:00&lt;00:00, 168.71 examples/s]"
          }
        },
        "66d86405293e492896e1066ace1affc4": {
          "model_module": "@jupyter-widgets/controls",
          "model_module_version": "1.5.0",
          "model_name": "DescriptionStyleModel",
          "state": {
            "_model_module": "@jupyter-widgets/controls",
            "_model_module_version": "1.5.0",
            "_model_name": "DescriptionStyleModel",
            "_view_count": null,
            "_view_module": "@jupyter-widgets/base",
            "_view_module_version": "1.2.0",
            "_view_name": "StyleView",
            "description_width": ""
          }
        },
        "69dbe3b34e4d4f6b8c8480ce38ac79fd": {
          "model_module": "@jupyter-widgets/base",
          "model_module_version": "1.2.0",
          "model_name": "LayoutModel",
          "state": {
            "_model_module": "@jupyter-widgets/base",
            "_model_module_version": "1.2.0",
            "_model_name": "LayoutModel",
            "_view_count": null,
            "_view_module": "@jupyter-widgets/base",
            "_view_module_version": "1.2.0",
            "_view_name": "LayoutView",
            "align_content": null,
            "align_items": null,
            "align_self": null,
            "border": null,
            "bottom": null,
            "display": null,
            "flex": null,
            "flex_flow": null,
            "grid_area": null,
            "grid_auto_columns": null,
            "grid_auto_flow": null,
            "grid_auto_rows": null,
            "grid_column": null,
            "grid_gap": null,
            "grid_row": null,
            "grid_template_areas": null,
            "grid_template_columns": null,
            "grid_template_rows": null,
            "height": null,
            "justify_content": null,
            "justify_items": null,
            "left": null,
            "margin": null,
            "max_height": null,
            "max_width": null,
            "min_height": null,
            "min_width": null,
            "object_fit": null,
            "object_position": null,
            "order": null,
            "overflow": null,
            "overflow_x": null,
            "overflow_y": null,
            "padding": null,
            "right": null,
            "top": null,
            "visibility": null,
            "width": null
          }
        },
        "73a64fb39b5948f0893ff0c4df793889": {
          "model_module": "@jupyter-widgets/controls",
          "model_module_version": "1.5.0",
          "model_name": "ProgressStyleModel",
          "state": {
            "_model_module": "@jupyter-widgets/controls",
            "_model_module_version": "1.5.0",
            "_model_name": "ProgressStyleModel",
            "_view_count": null,
            "_view_module": "@jupyter-widgets/base",
            "_view_module_version": "1.2.0",
            "_view_name": "StyleView",
            "bar_color": null,
            "description_width": ""
          }
        },
        "75e61a5f2655494dbacb284b5dc27238": {
          "model_module": "@jupyter-widgets/base",
          "model_module_version": "1.2.0",
          "model_name": "LayoutModel",
          "state": {
            "_model_module": "@jupyter-widgets/base",
            "_model_module_version": "1.2.0",
            "_model_name": "LayoutModel",
            "_view_count": null,
            "_view_module": "@jupyter-widgets/base",
            "_view_module_version": "1.2.0",
            "_view_name": "LayoutView",
            "align_content": null,
            "align_items": null,
            "align_self": null,
            "border": null,
            "bottom": null,
            "display": null,
            "flex": null,
            "flex_flow": null,
            "grid_area": null,
            "grid_auto_columns": null,
            "grid_auto_flow": null,
            "grid_auto_rows": null,
            "grid_column": null,
            "grid_gap": null,
            "grid_row": null,
            "grid_template_areas": null,
            "grid_template_columns": null,
            "grid_template_rows": null,
            "height": null,
            "justify_content": null,
            "justify_items": null,
            "left": null,
            "margin": null,
            "max_height": null,
            "max_width": null,
            "min_height": null,
            "min_width": null,
            "object_fit": null,
            "object_position": null,
            "order": null,
            "overflow": null,
            "overflow_x": null,
            "overflow_y": null,
            "padding": null,
            "right": null,
            "top": null,
            "visibility": null,
            "width": null
          }
        },
        "78a72b842ccf4ce8a4a11bd93d634ab6": {
          "model_module": "@jupyter-widgets/controls",
          "model_module_version": "1.5.0",
          "model_name": "HBoxModel",
          "state": {
            "_dom_classes": [],
            "_model_module": "@jupyter-widgets/controls",
            "_model_module_version": "1.5.0",
            "_model_name": "HBoxModel",
            "_view_count": null,
            "_view_module": "@jupyter-widgets/controls",
            "_view_module_version": "1.5.0",
            "_view_name": "HBoxView",
            "box_style": "",
            "children": [
              "IPY_MODEL_49fc324414ab44439c889b4908af25dc",
              "IPY_MODEL_794d2b4f9ff84c91b03a389c7149e0af",
              "IPY_MODEL_dd48a0aef4f946829b31eb704acc1573"
            ],
            "layout": "IPY_MODEL_e6fe7306fe3d4b60ad2b79820ccc8d40"
          }
        },
        "794d2b4f9ff84c91b03a389c7149e0af": {
          "model_module": "@jupyter-widgets/controls",
          "model_module_version": "1.5.0",
          "model_name": "FloatProgressModel",
          "state": {
            "_dom_classes": [],
            "_model_module": "@jupyter-widgets/controls",
            "_model_module_version": "1.5.0",
            "_model_name": "FloatProgressModel",
            "_view_count": null,
            "_view_module": "@jupyter-widgets/controls",
            "_view_module_version": "1.5.0",
            "_view_name": "ProgressView",
            "bar_style": "success",
            "description": "",
            "description_tooltip": null,
            "layout": "IPY_MODEL_69dbe3b34e4d4f6b8c8480ce38ac79fd",
            "max": 10,
            "min": 0,
            "orientation": "horizontal",
            "style": "IPY_MODEL_f4a2fb1cb5bc48c68426586651d93c57",
            "value": 10
          }
        },
        "7f31a9f772fb47d38559502a31002f82": {
          "model_module": "@jupyter-widgets/controls",
          "model_module_version": "1.5.0",
          "model_name": "DescriptionStyleModel",
          "state": {
            "_model_module": "@jupyter-widgets/controls",
            "_model_module_version": "1.5.0",
            "_model_name": "DescriptionStyleModel",
            "_view_count": null,
            "_view_module": "@jupyter-widgets/base",
            "_view_module_version": "1.2.0",
            "_view_name": "StyleView",
            "description_width": ""
          }
        },
        "820fdce268ab4273919bd09d2e617137": {
          "model_module": "@jupyter-widgets/base",
          "model_module_version": "1.2.0",
          "model_name": "LayoutModel",
          "state": {
            "_model_module": "@jupyter-widgets/base",
            "_model_module_version": "1.2.0",
            "_model_name": "LayoutModel",
            "_view_count": null,
            "_view_module": "@jupyter-widgets/base",
            "_view_module_version": "1.2.0",
            "_view_name": "LayoutView",
            "align_content": null,
            "align_items": null,
            "align_self": null,
            "border": null,
            "bottom": null,
            "display": null,
            "flex": null,
            "flex_flow": null,
            "grid_area": null,
            "grid_auto_columns": null,
            "grid_auto_flow": null,
            "grid_auto_rows": null,
            "grid_column": null,
            "grid_gap": null,
            "grid_row": null,
            "grid_template_areas": null,
            "grid_template_columns": null,
            "grid_template_rows": null,
            "height": null,
            "justify_content": null,
            "justify_items": null,
            "left": null,
            "margin": null,
            "max_height": null,
            "max_width": null,
            "min_height": null,
            "min_width": null,
            "object_fit": null,
            "object_position": null,
            "order": null,
            "overflow": null,
            "overflow_x": null,
            "overflow_y": null,
            "padding": null,
            "right": null,
            "top": null,
            "visibility": null,
            "width": null
          }
        },
        "8b2b72a8f0d347108029cc72c2971f7d": {
          "model_module": "@jupyter-widgets/base",
          "model_module_version": "1.2.0",
          "model_name": "LayoutModel",
          "state": {
            "_model_module": "@jupyter-widgets/base",
            "_model_module_version": "1.2.0",
            "_model_name": "LayoutModel",
            "_view_count": null,
            "_view_module": "@jupyter-widgets/base",
            "_view_module_version": "1.2.0",
            "_view_name": "LayoutView",
            "align_content": null,
            "align_items": null,
            "align_self": null,
            "border": null,
            "bottom": null,
            "display": null,
            "flex": null,
            "flex_flow": null,
            "grid_area": null,
            "grid_auto_columns": null,
            "grid_auto_flow": null,
            "grid_auto_rows": null,
            "grid_column": null,
            "grid_gap": null,
            "grid_row": null,
            "grid_template_areas": null,
            "grid_template_columns": null,
            "grid_template_rows": null,
            "height": null,
            "justify_content": null,
            "justify_items": null,
            "left": null,
            "margin": null,
            "max_height": null,
            "max_width": null,
            "min_height": null,
            "min_width": null,
            "object_fit": null,
            "object_position": null,
            "order": null,
            "overflow": null,
            "overflow_x": null,
            "overflow_y": null,
            "padding": null,
            "right": null,
            "top": null,
            "visibility": null,
            "width": null
          }
        },
        "9f40c20d884542d48303235c1269a8ee": {
          "model_module": "@jupyter-widgets/controls",
          "model_module_version": "1.5.0",
          "model_name": "HTMLModel",
          "state": {
            "_dom_classes": [],
            "_model_module": "@jupyter-widgets/controls",
            "_model_module_version": "1.5.0",
            "_model_name": "HTMLModel",
            "_view_count": null,
            "_view_module": "@jupyter-widgets/controls",
            "_view_module_version": "1.5.0",
            "_view_name": "HTMLView",
            "description": "",
            "description_tooltip": null,
            "layout": "IPY_MODEL_bb63bb10c49a4334872887d08511f1f0",
            "placeholder": "​",
            "style": "IPY_MODEL_b79c4f59bf9f4283ae481d2e6fcd0daf",
            "value": " 10/10 [00:00&lt;00:00, 81.19 examples/s]"
          }
        },
        "b75e160d287548ae87f41ccd40659f58": {
          "model_module": "@jupyter-widgets/base",
          "model_module_version": "1.2.0",
          "model_name": "LayoutModel",
          "state": {
            "_model_module": "@jupyter-widgets/base",
            "_model_module_version": "1.2.0",
            "_model_name": "LayoutModel",
            "_view_count": null,
            "_view_module": "@jupyter-widgets/base",
            "_view_module_version": "1.2.0",
            "_view_name": "LayoutView",
            "align_content": null,
            "align_items": null,
            "align_self": null,
            "border": null,
            "bottom": null,
            "display": null,
            "flex": null,
            "flex_flow": null,
            "grid_area": null,
            "grid_auto_columns": null,
            "grid_auto_flow": null,
            "grid_auto_rows": null,
            "grid_column": null,
            "grid_gap": null,
            "grid_row": null,
            "grid_template_areas": null,
            "grid_template_columns": null,
            "grid_template_rows": null,
            "height": null,
            "justify_content": null,
            "justify_items": null,
            "left": null,
            "margin": null,
            "max_height": null,
            "max_width": null,
            "min_height": null,
            "min_width": null,
            "object_fit": null,
            "object_position": null,
            "order": null,
            "overflow": null,
            "overflow_x": null,
            "overflow_y": null,
            "padding": null,
            "right": null,
            "top": null,
            "visibility": null,
            "width": null
          }
        },
        "b79c4f59bf9f4283ae481d2e6fcd0daf": {
          "model_module": "@jupyter-widgets/controls",
          "model_module_version": "1.5.0",
          "model_name": "DescriptionStyleModel",
          "state": {
            "_model_module": "@jupyter-widgets/controls",
            "_model_module_version": "1.5.0",
            "_model_name": "DescriptionStyleModel",
            "_view_count": null,
            "_view_module": "@jupyter-widgets/base",
            "_view_module_version": "1.2.0",
            "_view_name": "StyleView",
            "description_width": ""
          }
        },
        "b81b94fc1d814ba1a7dacf9f0381cb7f": {
          "model_module": "@jupyter-widgets/controls",
          "model_module_version": "1.5.0",
          "model_name": "DescriptionStyleModel",
          "state": {
            "_model_module": "@jupyter-widgets/controls",
            "_model_module_version": "1.5.0",
            "_model_name": "DescriptionStyleModel",
            "_view_count": null,
            "_view_module": "@jupyter-widgets/base",
            "_view_module_version": "1.2.0",
            "_view_name": "StyleView",
            "description_width": ""
          }
        },
        "bb63bb10c49a4334872887d08511f1f0": {
          "model_module": "@jupyter-widgets/base",
          "model_module_version": "1.2.0",
          "model_name": "LayoutModel",
          "state": {
            "_model_module": "@jupyter-widgets/base",
            "_model_module_version": "1.2.0",
            "_model_name": "LayoutModel",
            "_view_count": null,
            "_view_module": "@jupyter-widgets/base",
            "_view_module_version": "1.2.0",
            "_view_name": "LayoutView",
            "align_content": null,
            "align_items": null,
            "align_self": null,
            "border": null,
            "bottom": null,
            "display": null,
            "flex": null,
            "flex_flow": null,
            "grid_area": null,
            "grid_auto_columns": null,
            "grid_auto_flow": null,
            "grid_auto_rows": null,
            "grid_column": null,
            "grid_gap": null,
            "grid_row": null,
            "grid_template_areas": null,
            "grid_template_columns": null,
            "grid_template_rows": null,
            "height": null,
            "justify_content": null,
            "justify_items": null,
            "left": null,
            "margin": null,
            "max_height": null,
            "max_width": null,
            "min_height": null,
            "min_width": null,
            "object_fit": null,
            "object_position": null,
            "order": null,
            "overflow": null,
            "overflow_x": null,
            "overflow_y": null,
            "padding": null,
            "right": null,
            "top": null,
            "visibility": null,
            "width": null
          }
        },
        "c21d9572637c4828be1b184208f6af08": {
          "model_module": "@jupyter-widgets/base",
          "model_module_version": "1.2.0",
          "model_name": "LayoutModel",
          "state": {
            "_model_module": "@jupyter-widgets/base",
            "_model_module_version": "1.2.0",
            "_model_name": "LayoutModel",
            "_view_count": null,
            "_view_module": "@jupyter-widgets/base",
            "_view_module_version": "1.2.0",
            "_view_name": "LayoutView",
            "align_content": null,
            "align_items": null,
            "align_self": null,
            "border": null,
            "bottom": null,
            "display": null,
            "flex": null,
            "flex_flow": null,
            "grid_area": null,
            "grid_auto_columns": null,
            "grid_auto_flow": null,
            "grid_auto_rows": null,
            "grid_column": null,
            "grid_gap": null,
            "grid_row": null,
            "grid_template_areas": null,
            "grid_template_columns": null,
            "grid_template_rows": null,
            "height": null,
            "justify_content": null,
            "justify_items": null,
            "left": null,
            "margin": null,
            "max_height": null,
            "max_width": null,
            "min_height": null,
            "min_width": null,
            "object_fit": null,
            "object_position": null,
            "order": null,
            "overflow": null,
            "overflow_x": null,
            "overflow_y": null,
            "padding": null,
            "right": null,
            "top": null,
            "visibility": null,
            "width": null
          }
        },
        "da280729395e4995b4672ed861819ef8": {
          "model_module": "@jupyter-widgets/controls",
          "model_module_version": "1.5.0",
          "model_name": "HTMLModel",
          "state": {
            "_dom_classes": [],
            "_model_module": "@jupyter-widgets/controls",
            "_model_module_version": "1.5.0",
            "_model_name": "HTMLModel",
            "_view_count": null,
            "_view_module": "@jupyter-widgets/controls",
            "_view_module_version": "1.5.0",
            "_view_name": "HTMLView",
            "description": "",
            "description_tooltip": null,
            "layout": "IPY_MODEL_b75e160d287548ae87f41ccd40659f58",
            "placeholder": "​",
            "style": "IPY_MODEL_7f31a9f772fb47d38559502a31002f82",
            "value": "Map: 100%"
          }
        },
        "dc14cc698bf54b7d9e815c3a40631f1c": {
          "model_module": "@jupyter-widgets/base",
          "model_module_version": "1.2.0",
          "model_name": "LayoutModel",
          "state": {
            "_model_module": "@jupyter-widgets/base",
            "_model_module_version": "1.2.0",
            "_model_name": "LayoutModel",
            "_view_count": null,
            "_view_module": "@jupyter-widgets/base",
            "_view_module_version": "1.2.0",
            "_view_name": "LayoutView",
            "align_content": null,
            "align_items": null,
            "align_self": null,
            "border": null,
            "bottom": null,
            "display": null,
            "flex": null,
            "flex_flow": null,
            "grid_area": null,
            "grid_auto_columns": null,
            "grid_auto_flow": null,
            "grid_auto_rows": null,
            "grid_column": null,
            "grid_gap": null,
            "grid_row": null,
            "grid_template_areas": null,
            "grid_template_columns": null,
            "grid_template_rows": null,
            "height": null,
            "justify_content": null,
            "justify_items": null,
            "left": null,
            "margin": null,
            "max_height": null,
            "max_width": null,
            "min_height": null,
            "min_width": null,
            "object_fit": null,
            "object_position": null,
            "order": null,
            "overflow": null,
            "overflow_x": null,
            "overflow_y": null,
            "padding": null,
            "right": null,
            "top": null,
            "visibility": null,
            "width": null
          }
        },
        "dd48a0aef4f946829b31eb704acc1573": {
          "model_module": "@jupyter-widgets/controls",
          "model_module_version": "1.5.0",
          "model_name": "HTMLModel",
          "state": {
            "_dom_classes": [],
            "_model_module": "@jupyter-widgets/controls",
            "_model_module_version": "1.5.0",
            "_model_name": "HTMLModel",
            "_view_count": null,
            "_view_module": "@jupyter-widgets/controls",
            "_view_module_version": "1.5.0",
            "_view_name": "HTMLView",
            "description": "",
            "description_tooltip": null,
            "layout": "IPY_MODEL_3d08bd35c3864780963de5932fb016c9",
            "placeholder": "​",
            "style": "IPY_MODEL_66d86405293e492896e1066ace1affc4",
            "value": " 10/10 [00:00&lt;00:00, 87.58 examples/s]"
          }
        },
        "e6fe7306fe3d4b60ad2b79820ccc8d40": {
          "model_module": "@jupyter-widgets/base",
          "model_module_version": "1.2.0",
          "model_name": "LayoutModel",
          "state": {
            "_model_module": "@jupyter-widgets/base",
            "_model_module_version": "1.2.0",
            "_model_name": "LayoutModel",
            "_view_count": null,
            "_view_module": "@jupyter-widgets/base",
            "_view_module_version": "1.2.0",
            "_view_name": "LayoutView",
            "align_content": null,
            "align_items": null,
            "align_self": null,
            "border": null,
            "bottom": null,
            "display": null,
            "flex": null,
            "flex_flow": null,
            "grid_area": null,
            "grid_auto_columns": null,
            "grid_auto_flow": null,
            "grid_auto_rows": null,
            "grid_column": null,
            "grid_gap": null,
            "grid_row": null,
            "grid_template_areas": null,
            "grid_template_columns": null,
            "grid_template_rows": null,
            "height": null,
            "justify_content": null,
            "justify_items": null,
            "left": null,
            "margin": null,
            "max_height": null,
            "max_width": null,
            "min_height": null,
            "min_width": null,
            "object_fit": null,
            "object_position": null,
            "order": null,
            "overflow": null,
            "overflow_x": null,
            "overflow_y": null,
            "padding": null,
            "right": null,
            "top": null,
            "visibility": null,
            "width": null
          }
        },
        "f026489a5c6e4bdf88ab4899ed5111f9": {
          "model_module": "@jupyter-widgets/base",
          "model_module_version": "1.2.0",
          "model_name": "LayoutModel",
          "state": {
            "_model_module": "@jupyter-widgets/base",
            "_model_module_version": "1.2.0",
            "_model_name": "LayoutModel",
            "_view_count": null,
            "_view_module": "@jupyter-widgets/base",
            "_view_module_version": "1.2.0",
            "_view_name": "LayoutView",
            "align_content": null,
            "align_items": null,
            "align_self": null,
            "border": null,
            "bottom": null,
            "display": null,
            "flex": null,
            "flex_flow": null,
            "grid_area": null,
            "grid_auto_columns": null,
            "grid_auto_flow": null,
            "grid_auto_rows": null,
            "grid_column": null,
            "grid_gap": null,
            "grid_row": null,
            "grid_template_areas": null,
            "grid_template_columns": null,
            "grid_template_rows": null,
            "height": null,
            "justify_content": null,
            "justify_items": null,
            "left": null,
            "margin": null,
            "max_height": null,
            "max_width": null,
            "min_height": null,
            "min_width": null,
            "object_fit": null,
            "object_position": null,
            "order": null,
            "overflow": null,
            "overflow_x": null,
            "overflow_y": null,
            "padding": null,
            "right": null,
            "top": null,
            "visibility": null,
            "width": null
          }
        },
        "f4a2fb1cb5bc48c68426586651d93c57": {
          "model_module": "@jupyter-widgets/controls",
          "model_module_version": "1.5.0",
          "model_name": "ProgressStyleModel",
          "state": {
            "_model_module": "@jupyter-widgets/controls",
            "_model_module_version": "1.5.0",
            "_model_name": "ProgressStyleModel",
            "_view_count": null,
            "_view_module": "@jupyter-widgets/base",
            "_view_module_version": "1.2.0",
            "_view_name": "StyleView",
            "bar_color": null,
            "description_width": ""
          }
        },
        "fc1c9d446c144c6e9d3af5a0b94504b9": {
          "model_module": "@jupyter-widgets/base",
          "model_module_version": "1.2.0",
          "model_name": "LayoutModel",
          "state": {
            "_model_module": "@jupyter-widgets/base",
            "_model_module_version": "1.2.0",
            "_model_name": "LayoutModel",
            "_view_count": null,
            "_view_module": "@jupyter-widgets/base",
            "_view_module_version": "1.2.0",
            "_view_name": "LayoutView",
            "align_content": null,
            "align_items": null,
            "align_self": null,
            "border": null,
            "bottom": null,
            "display": null,
            "flex": null,
            "flex_flow": null,
            "grid_area": null,
            "grid_auto_columns": null,
            "grid_auto_flow": null,
            "grid_auto_rows": null,
            "grid_column": null,
            "grid_gap": null,
            "grid_row": null,
            "grid_template_areas": null,
            "grid_template_columns": null,
            "grid_template_rows": null,
            "height": null,
            "justify_content": null,
            "justify_items": null,
            "left": null,
            "margin": null,
            "max_height": null,
            "max_width": null,
            "min_height": null,
            "min_width": null,
            "object_fit": null,
            "object_position": null,
            "order": null,
            "overflow": null,
            "overflow_x": null,
            "overflow_y": null,
            "padding": null,
            "right": null,
            "top": null,
            "visibility": null,
            "width": null
          }
        },
        "fc1fe50dff814073bc394d6ebf02cbb6": {
          "model_module": "@jupyter-widgets/controls",
          "model_module_version": "1.5.0",
          "model_name": "HBoxModel",
          "state": {
            "_dom_classes": [],
            "_model_module": "@jupyter-widgets/controls",
            "_model_module_version": "1.5.0",
            "_model_name": "HBoxModel",
            "_view_count": null,
            "_view_module": "@jupyter-widgets/controls",
            "_view_module_version": "1.5.0",
            "_view_name": "HBoxView",
            "box_style": "",
            "children": [
              "IPY_MODEL_276ae4a852d547d58d65e539193fdd47",
              "IPY_MODEL_2e96865328054cb7b13eaa16e3268dc1",
              "IPY_MODEL_9f40c20d884542d48303235c1269a8ee"
            ],
            "layout": "IPY_MODEL_c21d9572637c4828be1b184208f6af08"
          }
        }
      }
    }
  },
  "nbformat": 4,
  "nbformat_minor": 0
}
