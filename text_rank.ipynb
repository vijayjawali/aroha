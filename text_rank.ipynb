{
 "cells": [
  {
   "attachments": {},
   "cell_type": "markdown",
   "metadata": {},
   "source": [
    "## TextRank"
   ]
  },
  {
   "attachments": {},
   "cell_type": "markdown",
   "metadata": {},
   "source": [
    "TextRank is an unsupervised algorithm used for automatic text summarization and keyword extraction. It works by representing text as a graph, where sentences or words are nodes connected by weighted edges. The algorithm calculates the importance of each node (sentence) based on the number and strength of its connections, similar to Google's PageRank algorithm. TextRank assigns higher scores to nodes that have more inbound connections from important nodes, indicating their significance in the text. The top-ranked sentences or words are then selected as the summary or keywords, respectively, providing a concise representation of the original text.\n",
    "\n",
    "<center><img src = \"markdown_files/text_rank.png\"></center>\n",
    "\n",
    "[Reference Link](https://www.analyticsvidhya.com/blog/2018/11/introduction-text-summarization-textrank-python/)"
   ]
  },
  {
   "cell_type": "code",
   "execution_count": 564,
   "metadata": {},
   "outputs": [],
   "source": [
    "import contractions\n",
    "import string\n",
    "import re\n",
    "import math\n",
    "\n",
    "import pandas as pd\n",
    "import matplotlib.pyplot as plt\n",
    "\n",
    "from datasets import load_dataset\n",
    "\n",
    "import nltk\n",
    "from nltk.corpus import stopwords\n",
    "from nltk.tokenize import word_tokenize, sent_tokenize\n",
    "\n",
    "import networkx as nx\n",
    "from rouge import Rouge\n",
    "\n",
    "from sklearn.metrics.pairwise import cosine_similarity\n",
    "from sklearn.feature_extraction.text import TfidfVectorizer"
   ]
  },
  {
   "cell_type": "code",
   "execution_count": 565,
   "metadata": {},
   "outputs": [
    {
     "name": "stderr",
     "output_type": "stream",
     "text": [
      "Found cached dataset cnn_dailymail (C:/Users/vijay/.cache/huggingface/datasets/cnn_dailymail/3.0.0/3.0.0/1b3c71476f6d152c31c1730e83ccb08bcf23e348233f4fcc11e182248e6bf7de)\n"
     ]
    },
    {
     "data": {
      "application/vnd.jupyter.widget-view+json": {
       "model_id": "fd1c51a432ef476d99f91515a195f2b4",
       "version_major": 2,
       "version_minor": 0
      },
      "text/plain": [
       "  0%|          | 0/3 [00:00<?, ?it/s]"
      ]
     },
     "metadata": {},
     "output_type": "display_data"
    }
   ],
   "source": [
    "dataset = load_dataset('cnn_dailymail', '3.0.0')\n",
    "data = dataset['test']\n",
    "data_df = pd.DataFrame(data)"
   ]
  },
  {
   "cell_type": "code",
   "execution_count": 566,
   "metadata": {},
   "outputs": [
    {
     "name": "stderr",
     "output_type": "stream",
     "text": [
      "[nltk_data] Downloading package wordnet to\n",
      "[nltk_data]     C:\\Users\\vijay\\AppData\\Roaming\\nltk_data...\n",
      "[nltk_data]   Package wordnet is already up-to-date!\n"
     ]
    }
   ],
   "source": [
    "nltk.download('wordnet')\n",
    "stop_words = set(stopwords.words('english'))"
   ]
  },
  {
   "attachments": {},
   "cell_type": "markdown",
   "metadata": {},
   "source": [
    "### Text preprocessing"
   ]
  },
  {
   "attachments": {},
   "cell_type": "markdown",
   "metadata": {},
   "source": [
    "#### Preprocessing steps:\n",
    "<ol>\n",
    "<li>convert all characters in the text to lowercase</li>\n",
    "\n",
    "**Example**: if the input text is \"Hello World\", it will be converted to \"hello world\".\n",
    "\n",
    "<li>Tokenize the article into sentences using sent_tokenize function from the NLTK library.</li>\n",
    "\n",
    "**Example**: if the input text is \"Hello! How are you? I hope you're doing well. Have a great day!\", it will be tokenized into the list of sentences ['Hello!', 'How are you?', \"I hope you're doing well.\", 'Have a great day!']\n",
    "\n",
    "For each of the sentences perform the following preprocessing steps :\n",
    "<ol>\n",
    "<li>Remove all punctuation marks from the text using the translate method and maketrans function from the string module.</li>\n",
    "\n",
    "**Example**: if the input text is \"Hello, World!\", it will be converted to \"Hello World\".\n",
    "\n",
    "<li>Remove any non-alphanumeric characters from the text using regular expressions. It replaces any character that is not a word character (\\w) or whitespace character (\\s) with an empty string.</li> \n",
    "\n",
    "**Example**: if the input text is \"Hello @world!\", it will be converted to \"Hello World\".\n",
    "\n",
    "<li>Expand contracted words in the text using the contractions library.</li>\n",
    "\n",
    "**Example**: if the input preprocessed text is \"I'm happy\", it will be expanded to \"I am happy\".\n",
    "\n",
    "<li>Tokenize the preprocessed text into individual words using the word_tokenize function from the NLTK library.</li> \n",
    "\n",
    "**Example**: if the input text is \"Hello World\", it will be tokenized into the list of tokens: ['Hello', 'World'].\n",
    "\n",
    "<li>Remove stop words from the list of tokens. Stop words are commonly occurring words (e.g., \"the\", \"is\", \"and\") that do not carry much meaning in the context of natural language processing tasks.</li>\n",
    "\n",
    "**Example**: if the input tokens are ['Hello', 'World', 'this', 'is', 'a'], and the stop words list contains ['this', 'is', 'a'], the resulting tokens will be ['Hello', 'World'].\n",
    "\n",
    "</ol>\n",
    "</ol>"
   ]
  },
  {
   "cell_type": "code",
   "execution_count": 567,
   "metadata": {},
   "outputs": [],
   "source": [
    "def preprocess_text(text):\n",
    "    \"\"\"\n",
    "    Preprocesses the input text by performing several text cleaning steps.\n",
    "    \n",
    "    Args:\n",
    "        text (str): The input text to be preprocessed.\n",
    "        \n",
    "    Returns:\n",
    "        tuple: A tuple containing two elements:\n",
    "            - preprocessed_sentences (list): A list of preprocessed sentences, where each sentence is tokenized.\n",
    "            - sentences (list): A list of original sentences (not preprocessed).\n",
    "    \"\"\"\n",
    "    # Convert the text to lowercase.\n",
    "    text = text.lower()\n",
    "    \n",
    "    # Tokenize the text into sentences.\n",
    "    sentences = sent_tokenize(text)\n",
    "    stop_words = set(stopwords.words('english'))\n",
    "    preprocessed_sentences = []\n",
    "    \n",
    "    for sentence in sentences:\n",
    "        \n",
    "        # Remove punctuation from each sentence.\n",
    "        sentence = sentence.translate(str.maketrans(\"\", \"\", string.punctuation))\n",
    "        \n",
    "        # Remove non-alphanumeric characters\n",
    "        sentence = re.sub(r\"[^\\w\\s]\", \"\", sentence)\n",
    "        \n",
    "        # Expand contractions\n",
    "        sentence = contractions.fix(sentence)\n",
    "        \n",
    "        # Tokenize the sentence into individual words\n",
    "        tokens = word_tokenize(sentence)\n",
    "        \n",
    "        # Remove stop words\n",
    "        tokens = [token for token in tokens if token not in stop_words]\n",
    "        \n",
    "        preprocessed_sentences.append(tokens)\n",
    "    \n",
    "    return preprocessed_sentences, sentences"
   ]
  },
  {
   "attachments": {},
   "cell_type": "markdown",
   "metadata": {},
   "source": [
    "### Apply pre-processing steps and Tokenize sentences in an article"
   ]
  },
  {
   "cell_type": "code",
   "execution_count": 568,
   "metadata": {},
   "outputs": [],
   "source": [
    "data_df['processed_article', 'sentence_tokens'] = data_df['article'].apply(preprocess_text)"
   ]
  },
  {
   "cell_type": "code",
   "execution_count": 569,
   "metadata": {},
   "outputs": [],
   "source": [
    "data_df['processed_article'] = data_df['processed_article', 'sentence_tokens'].apply(lambda x:x[0])\n",
    "data_df['sentence_tokens'] = data_df['processed_article', 'sentence_tokens'].apply(lambda x:x[1])"
   ]
  },
  {
   "attachments": {},
   "cell_type": "markdown",
   "metadata": {},
   "source": [
    "### Build Similarity Matrix\n",
    "\n",
    "- The function plays a key role in text summarization using the TextRank algorithm. \n",
    "- It takes a list of sentences as input and constructs a similarity matrix. First, it converts each sentence into a numerical representation called a sentence vector. \n",
    "- Then, it applies the TF-IDF transformation to these vectors, which assigns weights to words based on their frequency and rarity across the document. This step helps capture the importance of words within each sentence. \n",
    "- Finally, it calculates the cosine similarity between all pairs of sentences using the TF-IDF vectors. The resulting similarity matrix provides a measure of how similar or related each sentence is to the others.\n",
    "- By comparing the sentences based on their TF-IDF representations, the algorithm can determine the most central and representative sentences in the text.\n",
    "\n",
    "**Example**:\n",
    "Let's consider three sentences:\n",
    "\n",
    "\"I love to play soccer.\"<br>\n",
    "\"Soccer is my favorite sport.\"<br>\n",
    "\"I enjoy watching soccer matches.\"<br>\n",
    "\n",
    "- The first step is to convert each sentence into a numerical representation called a sentence vector\n",
    "\n",
    "Sentence 1 vector: [1, 1, 0, 0, 1, 0]<br>\n",
    "Sentence 2 vector: [1, 1, 1, 1, 0, 1]<br>\n",
    "Sentence 3 vector: [1, 0, 1, 0, 1, 1]<br>\n",
    "\n",
    "- Apply the TF-IDF transformation to the sentence vectors.\n",
    "\n",
    "$$TF-IDF = \\lgroup\\frac {\\text{Term Frequency}}  {\\text{Total terms in sentence}}\\rgroup * log\\lgroup\\frac{\\text{Total sentences}} {\\text{Number of sentences containing the word}}\\rgroup$$\n",
    "\n",
    "\n",
    "Sentence 1 TF-IDF vector: [0.25, 0.25, 0, 0, 0.405, 0]<br>\n",
    "Sentence 2 TF-IDF vector: [0.25, 0.25, 0.405, 0.405, 0, 0.405]<br>\n",
    "Sentence 3 TF-IDF vector: [0.25, 0, 0.405, 0, 0.405, 0.405]<br>\n",
    "\n",
    "- Calculate the similarity between pairs of sentences using the cosine similarity formula:\n",
    "\n",
    "$$Similarity(A, B) = (A • B) / (||A|| * ||B||)$$\n",
    "\n",
    "<center>\n",
    "\n",
    "|           | Sentence 1 | Sentence 2 | Sentence 3 |\n",
    "|-----------|:----------:|:----------:|:----------:|\n",
    "| Sentence 1 |   1.000    |   0.670    |   0.354    |\n",
    "| Sentence 2 |   0.670    |   1.000    |   0.537    |\n",
    "| Sentence 3 |   0.354    |   0.537    |   1.000    |\n",
    "\n",
    "</center>\n",
    "\n",
    "The similarity matrix shows the pairwise similarity scores between the sentences. Each element in the matrix represents the similarity between the corresponding pair of sentences. Higher values indicate greater similarity.\n"
   ]
  },
  {
   "cell_type": "code",
   "execution_count": 570,
   "metadata": {},
   "outputs": [],
   "source": [
    "def build_similarity_matrix(sentences):\n",
    "    sentence_vectors = []\n",
    "    \n",
    "    for sentence in sentences:\n",
    "        sentence_vectors.append(' '.join(sentence))\n",
    "    \n",
    "    vectorizer = TfidfVectorizer().fit_transform(sentence_vectors)\n",
    "    similarity_matrix = cosine_similarity(vectorizer)\n",
    "    \n",
    "    return similarity_matrix"
   ]
  },
  {
   "cell_type": "code",
   "execution_count": 571,
   "metadata": {},
   "outputs": [],
   "source": [
    "data_df['similarity_matrix'] =  data_df['processed_article'].apply(build_similarity_matrix)"
   ]
  },
  {
   "attachments": {},
   "cell_type": "markdown",
   "metadata": {},
   "source": [
    "### Calculate number of sentences to retain"
   ]
  },
  {
   "cell_type": "code",
   "execution_count": 572,
   "metadata": {},
   "outputs": [],
   "source": [
    "data_df['num_retain_sentence'] = data_df['processed_article'].apply(lambda x: math.ceil(len(x)/10))"
   ]
  },
  {
   "attachments": {},
   "cell_type": "markdown",
   "metadata": {},
   "source": [
    "### Calculate most important sentences to form a summary\n",
    "\n",
    "The function summarizes a piece of text using a technique called TextRank. \n",
    "- It works by analyzing the relationships between sentences and assigning importance scores to each sentence based on its connections within the text.\n",
    "- First, a similarity matrix is created, which represents how similar each pair of sentences is. \n",
    "- Then, a graph is constructed using the similarity matrix, where sentences are represented as nodes and their similarities as edges. \n",
    "- The importance of each sentence is determined using the PageRank algorithm, which considers the connections and centrality of each sentence in the graph.\n",
    "- The sentences are ranked based on their importance scores, and the top-ranked sentences are selected to form the summary.\n",
    "\n",
    "**Example**: \n",
    "\n",
    "A graph is constructed from the similarity matrix\n",
    "- Graph: \n",
    "    - Node 1 (Sentence 1) -> Node 2 (Sentence 2) with edge weight 0.670\n",
    "    - Node 1 (Sentence 1) -> Node 3 (Sentence 3) with edge weight 0.354\n",
    "    - Node 2 (Sentence 2) -> Node 3 (Sentence 3) with edge weight 0.537\n",
    "\n",
    "\n",
    "The PageRank algorithm is applied to the graph to calculate the importance scores of each sentence.\n",
    "\n",
    "$$Score(V) = (1 - d) + d * \\left(\\frac{{Score(T1)}}{{C(T1)}} + \\frac{{Score(T2)}}{{C(T2)}} + \\ldots + \\frac{{Score(Tn)}}{{C(Tn)}}\\right)$$\n",
    "\n",
    "where:\n",
    "- Score(V): Represents the score of a particular vertex (sentence in this case).\n",
    "- d: Refers to the damping factor, typically set to 0.85.\n",
    "- T1, T2, ..., Tn: Denote the vertices (sentences) that have edges pointing to the vertex V.\n",
    "- C(T1), C(T2), ..., C(Tn): Represent the out-degree of the vertices T1, T2, ..., Tn.\n",
    "\n",
    "The sentence scores are initialized to 1. Then, the scores are updated iteratively until they converge. This is done by calculating the new score for each sentence using the PageRank formula and updating the scores accordingly. After convergence, the final scores are obtained:\n",
    "\n",
    "Sentence 1 score: 0.447<br>\n",
    "Sentence 2 score: 0.322<br>\n",
    "Sentence 3 score: 0.231<br>\n",
    "\n",
    "These scores reflect the importance of each sentence in the text.\n",
    "\n",
    "Finally, the sentences are ranked based on their importance scores. The top n sentences with the highest scores are selected to form the summary.\n",
    "\n",
    "let's assume we want to retain 2 sentences:\n",
    "\n",
    "Ranked sentences: Sentence 1, Sentence 2, Sentence 3<br>\n",
    "**Summary**:<br> \"I love to play soccer. Soccer is my favorite sport.\""
   ]
  },
  {
   "cell_type": "code",
   "execution_count": 573,
   "metadata": {},
   "outputs": [],
   "source": [
    "def get_summary(row):\n",
    "    \n",
    "    sentence_tokens = row['sentence_tokens']\n",
    "    \n",
    "    similarity_matrix = row['similarity_matrix']\n",
    "    top_n=row['num_retain_sentence']\n",
    "    graph = nx.from_numpy_array(similarity_matrix)\n",
    "    \n",
    "    scores = nx.pagerank(graph)\n",
    "    ranked_sentences = sorted(((scores[i], s) for i, s in enumerate(sentence_tokens)), reverse=True)\n",
    "    \n",
    "    sentence_array = [sentence[1] for sentence in ranked_sentences[:top_n]]\n",
    "    \n",
    "    return ''.join([''.join(sentence) for sentence in sentence_array])\n"
   ]
  },
  {
   "attachments": {},
   "cell_type": "markdown",
   "metadata": {},
   "source": [
    "#### Apply summarization"
   ]
  },
  {
   "cell_type": "code",
   "execution_count": 574,
   "metadata": {},
   "outputs": [],
   "source": [
    "data_df['summary'] = data_df.apply(lambda row: get_summary(row), axis=1)"
   ]
  },
  {
   "attachments": {},
   "cell_type": "markdown",
   "metadata": {},
   "source": [
    "### Calculate ROUGE Scores\n",
    "\n",
    "The **ROUGE** (Recall-Oriented Understudy for Gisting Evaluation) scores represent the evaluation metrics for summarization. ROUGE measures the similarity between the generated summary (system summary) and the reference summary (ground truth summary) in terms of overlapping n-grams.\n",
    "\n",
    "The scores are reported as follows:\n",
    "\n",
    "**ROUGE-1**: This metric focuses on the overlap of unigram (single word) sequences between the system summary and the reference summary. It measures the recall (r), precision (p), and F1 score (f) for unigrams.\n",
    "\n",
    "**ROUGE-2**: This metric considers the overlap of bigram (two-word) sequences between the system summary and the reference summary. It measures the recall, precision, and F1 score for bigrams.\n",
    "\n",
    "**ROUGE-L**: This metric calculates the longest common subsequence (LCS) between the system summary and the reference summary. It measures the recall, precision, and F1 score based on the LCS.\n",
    "\n",
    "\n",
    "- **Precision**: Precision measures the accuracy or correctness of the generated summary. It is the ratio of the number of correctly identified relevant elements (such as words or n-grams) in the generated summary to the total number of identified elements. A higher precision indicates a lower rate of false positives.\n",
    "\n",
    "- **Recall**: Recall measures the comprehensiveness or completeness of the generated summary. It is the ratio of the number of correctly identified relevant elements in the generated summary to the total number of relevant elements present in the reference summary. A higher recall indicates a lower rate of false negatives.\n",
    "\n",
    "- **F1 score**: The F1 score is the harmonic mean of precision and recall. It provides a balanced measure that considers both precision and recall. The F1 score is calculated using the formula: F1 = 2 * (precision * recall) / (precision + recall). It ranges from 0 to 1, where a higher F1 score indicates a better balance between precision and recall."
   ]
  },
  {
   "cell_type": "code",
   "execution_count": 575,
   "metadata": {},
   "outputs": [],
   "source": [
    "rouge = Rouge()\n",
    "\n",
    "data_df['rouge_scores'] = data_df.apply(lambda row: rouge.get_scores(row['summary'], row['highlights']), axis=1)"
   ]
  },
  {
   "attachments": {},
   "cell_type": "markdown",
   "metadata": {},
   "source": [
    "#### Calculate Average Recall, Precision, and F1 score for Rouge-1, Rouge-2 and Rouge-L"
   ]
  },
  {
   "cell_type": "code",
   "execution_count": 576,
   "metadata": {},
   "outputs": [
    {
     "data": {
      "text/html": [
       "<div>\n",
       "<style scoped>\n",
       "    .dataframe tbody tr th:only-of-type {\n",
       "        vertical-align: middle;\n",
       "    }\n",
       "\n",
       "    .dataframe tbody tr th {\n",
       "        vertical-align: top;\n",
       "    }\n",
       "\n",
       "    .dataframe thead th {\n",
       "        text-align: right;\n",
       "    }\n",
       "</style>\n",
       "<table border=\"1\" class=\"dataframe\">\n",
       "  <thead>\n",
       "    <tr style=\"text-align: right;\">\n",
       "      <th></th>\n",
       "      <th>ROUGE-1</th>\n",
       "      <th>ROUGE-2</th>\n",
       "      <th>ROUGE-L</th>\n",
       "    </tr>\n",
       "  </thead>\n",
       "  <tbody>\n",
       "    <tr>\n",
       "      <th>recall</th>\n",
       "      <td>0.308735</td>\n",
       "      <td>0.102407</td>\n",
       "      <td>0.284861</td>\n",
       "    </tr>\n",
       "    <tr>\n",
       "      <th>precision</th>\n",
       "      <td>0.234754</td>\n",
       "      <td>0.072806</td>\n",
       "      <td>0.216755</td>\n",
       "    </tr>\n",
       "    <tr>\n",
       "      <th>f1-score</th>\n",
       "      <td>0.251790</td>\n",
       "      <td>0.078841</td>\n",
       "      <td>0.232322</td>\n",
       "    </tr>\n",
       "  </tbody>\n",
       "</table>\n",
       "</div>"
      ],
      "text/plain": [
       "            ROUGE-1   ROUGE-2   ROUGE-L\n",
       "recall     0.308735  0.102407  0.284861\n",
       "precision  0.234754  0.072806  0.216755\n",
       "f1-score   0.251790  0.078841  0.232322"
      ]
     },
     "execution_count": 576,
     "metadata": {},
     "output_type": "execute_result"
    }
   ],
   "source": [
    "rouge_scores = data_df['rouge_scores']\n",
    "\n",
    "rouge_1 = {'r': 0, 'p': 0, 'f': 0}\n",
    "rouge_2 = {'r': 0, 'p': 0, 'f': 0}\n",
    "rouge_l = {'r': 0, 'p': 0, 'f': 0}\n",
    "\n",
    "for scores in rouge_scores:\n",
    "    rouge_1_scores = scores[0]['rouge-1']\n",
    "    rouge_2_scores = scores[0]['rouge-2']\n",
    "    rouge_l_scores = scores[0]['rouge-l']\n",
    "\n",
    "    rouge_1['r'] += rouge_1_scores['r']\n",
    "    rouge_1['p'] += rouge_1_scores['p']\n",
    "    rouge_1['f'] += rouge_1_scores['f']\n",
    "\n",
    "    rouge_2['r'] += rouge_2_scores['r']\n",
    "    rouge_2['p'] += rouge_2_scores['p']\n",
    "    rouge_2['f'] += rouge_2_scores['f']\n",
    "\n",
    "    rouge_l['r'] += rouge_l_scores['r']\n",
    "    rouge_l['p'] += rouge_l_scores['p']\n",
    "    rouge_l['f'] += rouge_l_scores['f']\n",
    "\n",
    "num_rows = len(rouge_scores)\n",
    "\n",
    "rouge_1_avg = {'recall': rouge_1['r'] / num_rows, 'precision': rouge_1['p'] / num_rows, 'f1-score': rouge_1['f'] / num_rows}\n",
    "rouge_2_avg = {'recall': rouge_2['r'] / num_rows, 'precision': rouge_2['p'] / num_rows, 'f1-score': rouge_2['f'] / num_rows}\n",
    "rouge_l_avg = {'recall': rouge_l['r'] / num_rows, 'precision': rouge_l['p'] / num_rows, 'f1-score': rouge_l['f'] / num_rows}\n",
    "\n",
    "average_scores = pd.DataFrame({'ROUGE-1': rouge_1_avg, 'ROUGE-2': rouge_2_avg, 'ROUGE-L': rouge_l_avg})\n",
    "\n",
    "average_scores"
   ]
  },
  {
   "attachments": {},
   "cell_type": "markdown",
   "metadata": {},
   "source": [
    "#### Barplot for ROUGE scores"
   ]
  },
  {
   "cell_type": "code",
   "execution_count": 577,
   "metadata": {},
   "outputs": [
    {
     "data": {
      "image/png": "[encoded data removed]",
      "text/plain": [
       "<Figure size 640x480 with 1 Axes>"
      ]
     },
     "metadata": {},
     "output_type": "display_data"
    }
   ],
   "source": [
    "x_values = average_scores.columns\n",
    "y_values = average_scores.loc['recall']\n",
    "\n",
    "fig, ax1 = plt.subplots()\n",
    "\n",
    "ax1.scatter(x_values, y_values, marker='o', color='black')\n",
    "ax1.set_ylabel('Average Score')\n",
    "ax1.set_xlabel('ROUGE Metrics')\n",
    "ax1.set_title('Average recall Scores')\n",
    "\n",
    "ax1.bar(x_values, y_values, color='orange', alpha=0.6)\n",
    "\n",
    "for i, v in enumerate(y_values):\n",
    "    ax1.text(i, v + 0.001, f'{v:.3f}', ha='center', va='bottom', color='black')\n",
    "\n",
    "plt.tight_layout()\n",
    "\n",
    "plt.show()"
   ]
  },
  {
   "cell_type": "code",
   "execution_count": 578,
   "metadata": {},
   "outputs": [
    {
     "data": {
      "image/png": "[encoded data removed]",
      "text/plain": [
       "<Figure size 640x480 with 1 Axes>"
      ]
     },
     "metadata": {},
     "output_type": "display_data"
    }
   ],
   "source": [
    "x_values = average_scores.columns\n",
    "y_values = average_scores.loc['precision']\n",
    "\n",
    "fig, ax1 = plt.subplots()\n",
    "\n",
    "ax1.scatter(x_values, y_values, marker='o', color='black')\n",
    "ax1.set_ylabel('Average Score')\n",
    "ax1.set_xlabel('ROUGE Metrics')\n",
    "ax1.set_title('Average precision Scores')\n",
    "\n",
    "ax1.bar(x_values, y_values, color='orange', alpha=0.6)\n",
    "\n",
    "for i, v in enumerate(y_values):\n",
    "    ax1.text(i, v + 0.001, f'{v:.3f}', ha='center', va='bottom', color='black')\n",
    "\n",
    "plt.tight_layout()\n",
    "\n",
    "plt.show()"
   ]
  },
  {
   "cell_type": "code",
   "execution_count": 579,
   "metadata": {},
   "outputs": [
    {
     "data": {
      "image/png": "[encoded data removed]",
      "text/plain": [
       "<Figure size 640x480 with 1 Axes>"
      ]
     },
     "metadata": {},
     "output_type": "display_data"
    }
   ],
   "source": [
    "x_values = average_scores.columns\n",
    "y_values = average_scores.loc['f1-score']\n",
    "\n",
    "fig, ax1 = plt.subplots()\n",
    "\n",
    "ax1.scatter(x_values, y_values, marker='o', color='black')\n",
    "ax1.set_ylabel('Average Score')\n",
    "ax1.set_xlabel('ROUGE Metrics')\n",
    "ax1.set_title('Average f1 Scores')\n",
    "\n",
    "ax1.bar(x_values, y_values, color='orange', alpha=0.6)\n",
    "\n",
    "for i, v in enumerate(y_values):\n",
    "    ax1.text(i, v + 0.001, f'{v:.3f}', ha='center', va='bottom', color='black')\n",
    "\n",
    "plt.tight_layout()\n",
    "\n",
    "plt.show()"
   ]
  },
  {
   "attachments": {},
   "cell_type": "markdown",
   "metadata": {},
   "source": [
    "#### Plot Heatmap for ROUGE scores"
   ]
  },
  {
   "cell_type": "code",
   "execution_count": 580,
   "metadata": {},
   "outputs": [
    {
     "data": {
      "image/png": "[encoded data removed]",
      "text/plain": [
       "<Figure size 640x480 with 2 Axes>"
      ]
     },
     "metadata": {},
     "output_type": "display_data"
    }
   ],
   "source": [
    "plt.imshow(average_scores, cmap='YlOrRd')\n",
    "\n",
    "plt.xticks(range(len(average_scores.columns)), average_scores.columns)\n",
    "plt.yticks(range(len(average_scores.index)), average_scores.index)\n",
    "plt.xlabel('ROUGE Metrics')\n",
    "plt.ylabel('Average Scores')\n",
    "\n",
    "for i in range(len(average_scores.index)):\n",
    "    for j in range(len(average_scores.columns)):\n",
    "        plt.text(j, i, f'{average_scores.iloc[i, j]:.3f}', ha='center', va='center', color='black')\n",
    "\n",
    "plt.colorbar(label='Average Score')\n",
    "\n",
    "plt.show()"
   ]
  }
 ],
 "metadata": {
  "kernelspec": {
   "display_name": "venv",
   "language": "python",
   "name": "python3"
  },
  "language_info": {
   "codemirror_mode": {
    "name": "ipython",
    "version": 3
   },
   "file_extension": ".py",
   "mimetype": "text/x-python",
   "name": "python",
   "nbconvert_exporter": "python",
   "pygments_lexer": "ipython3",
   "version": "3.9.13"
  },
  "orig_nbformat": 4
 },
 "nbformat": 4,
 "nbformat_minor": 2
}
