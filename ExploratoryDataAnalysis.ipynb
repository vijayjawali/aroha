{
 "cells": [
  {
   "cell_type": "code",
   "execution_count": 33,
   "outputs": [],
   "source": [
    "import requests\n",
    "import pandas as pd\n",
    "import datasets"
   ],
   "metadata": {
    "collapsed": false,
    "ExecuteTime": {
     "end_time": "2023-06-11T08:58:54.978019Z",
     "start_time": "2023-06-11T08:58:53.378294600Z"
    }
   }
  },
  {
   "cell_type": "code",
   "execution_count": 29,
   "metadata": {
    "collapsed": true,
    "ExecuteTime": {
     "end_time": "2023-06-11T08:41:25.552586100Z",
     "start_time": "2023-06-11T08:41:24.707846900Z"
    }
   },
   "outputs": [
    {
     "data": {
      "text/plain": "{'splits': [{'dataset': 'cnn_dailymail', 'config': '1.0.0', 'split': 'train'},\n  {'dataset': 'cnn_dailymail', 'config': '1.0.0', 'split': 'validation'},\n  {'dataset': 'cnn_dailymail', 'config': '1.0.0', 'split': 'test'},\n  {'dataset': 'cnn_dailymail', 'config': '2.0.0', 'split': 'train'},\n  {'dataset': 'cnn_dailymail', 'config': '2.0.0', 'split': 'validation'},\n  {'dataset': 'cnn_dailymail', 'config': '2.0.0', 'split': 'test'},\n  {'dataset': 'cnn_dailymail', 'config': '3.0.0', 'split': 'train'},\n  {'dataset': 'cnn_dailymail', 'config': '3.0.0', 'split': 'validation'},\n  {'dataset': 'cnn_dailymail', 'config': '3.0.0', 'split': 'test'}],\n 'pending': [],\n 'failed': []}"
     },
     "execution_count": 29,
     "metadata": {},
     "output_type": "execute_result"
    }
   ],
   "source": [
    "url = \"https://datasets-server.huggingface.co/splits?dataset=cnn_dailymail\"\n",
    "\n",
    "response = requests.get(url)\n",
    "data = response.json()\n",
    "\n",
    "data"
   ]
  },
  {
   "cell_type": "code",
   "execution_count": 30,
   "outputs": [
    {
     "data": {
      "text/plain": "[{'feature_idx': 0,\n  'name': 'article',\n  'type': {'dtype': 'string', '_type': 'Value'}},\n {'feature_idx': 1,\n  'name': 'highlights',\n  'type': {'dtype': 'string', '_type': 'Value'}},\n {'feature_idx': 2,\n  'name': 'id',\n  'type': {'dtype': 'string', '_type': 'Value'}}]"
     },
     "execution_count": 30,
     "metadata": {},
     "output_type": "execute_result"
    }
   ],
   "source": [
    "url = \"https://datasets-server.huggingface.co/rows?dataset=cnn_dailymail&config=3.0.0&split=train&offset=0&limit=100\"\n",
    "\n",
    "response = requests.get(url)\n",
    "data = response.json()\n",
    "\n",
    "data['features']"
   ],
   "metadata": {
    "collapsed": false,
    "ExecuteTime": {
     "end_time": "2023-06-11T08:42:22.292506800Z",
     "start_time": "2023-06-11T08:42:20.122308500Z"
    }
   }
  },
  {
   "cell_type": "code",
   "execution_count": 32,
   "outputs": [
    {
     "data": {
      "text/plain": "                                              article  \\\n0   LONDON, England (Reuters) -- Harry Potter star...   \n1   Editor's note: In our Behind the Scenes series...   \n2   MINNEAPOLIS, Minnesota (CNN) -- Drivers who we...   \n3   WASHINGTON (CNN) -- Doctors removed five small...   \n4   (CNN)  -- The National Football League has ind...   \n..                                                ...   \n95  DENVER, Colorado -- A Colorado man terrorized ...   \n96  LONDON, England (CNN) -- Previously unseen foo...   \n97  WASHINGTON (CNN) -- Republicans reacted with s...   \n98  ST. PETERSBURG, Florida (CNN) -- The acrimony ...   \n99  BAGHDAD, Iraq (CNN) -- None of the 1,000-plus ...   \n\n                                           highlights  \\\n0   Harry Potter star Daniel Radcliffe gets £20M f...   \n1   Mentally ill inmates in Miami are housed on th...   \n2   NEW: \"I thought I was going to die,\" driver sa...   \n3   Five small polyps found during procedure; \"non...   \n4   NEW: NFL chief, Atlanta Falcons owner critical...   \n..                                                ...   \n95  Some witnesses say Colorado does nothing to pr...   \n96  NEW: Jury shown new footage of Diana taken hou...   \n97  Republican Sen. Lindsey Graham: \"I am astounde...   \n98  YouTube questions address taxes, the Bible, ab...   \n99  More than 1,000 freed detainees reportedly kee...   \n\n                                          id  \n0   42c027e4ff9730fbb3de84c1af0d2c506e41c3e4  \n1   ee8871b15c50d0db17b0179a6d2beab35065f1e9  \n2   06352019a19ae31e527f37f7571c6dd7f0c5da37  \n3   24521a2abb2e1f5e34e6824e0f9e56904a2b0e88  \n4   7fe70cc8b12fab2d0a258fababf7d9c6b5e1262a  \n..                                       ...  \n95  f70a7abb6c5b0ef383ea12a4d9ca046a5bd854e5  \n96  a3dd38ec7bc9d7e8423b96d8fd0641a2a5d5c984  \n97  654c6b29b96d2a5a818d91400c20f838b0e8b6df  \n98  764d9ce99a1e3f79d95fbc4b68adbce14e7f8bcd  \n99  f16446db34e2861f0450dfa34d8cdda541ab7b19  \n\n[100 rows x 3 columns]",
      "text/html": "<div>\n<style scoped>\n    .dataframe tbody tr th:only-of-type {\n        vertical-align: middle;\n    }\n\n    .dataframe tbody tr th {\n        vertical-align: top;\n    }\n\n    .dataframe thead th {\n        text-align: right;\n    }\n</style>\n<table border=\"1\" class=\"dataframe\">\n  <thead>\n    <tr style=\"text-align: right;\">\n      <th></th>\n      <th>article</th>\n      <th>highlights</th>\n      <th>id</th>\n    </tr>\n  </thead>\n  <tbody>\n    <tr>\n      <th>0</th>\n      <td>LONDON, England (Reuters) -- Harry Potter star...</td>\n      <td>Harry Potter star Daniel Radcliffe gets £20M f...</td>\n      <td>42c027e4ff9730fbb3de84c1af0d2c506e41c3e4</td>\n    </tr>\n    <tr>\n      <th>1</th>\n      <td>Editor's note: In our Behind the Scenes series...</td>\n      <td>Mentally ill inmates in Miami are housed on th...</td>\n      <td>ee8871b15c50d0db17b0179a6d2beab35065f1e9</td>\n    </tr>\n    <tr>\n      <th>2</th>\n      <td>MINNEAPOLIS, Minnesota (CNN) -- Drivers who we...</td>\n      <td>NEW: \"I thought I was going to die,\" driver sa...</td>\n      <td>06352019a19ae31e527f37f7571c6dd7f0c5da37</td>\n    </tr>\n    <tr>\n      <th>3</th>\n      <td>WASHINGTON (CNN) -- Doctors removed five small...</td>\n      <td>Five small polyps found during procedure; \"non...</td>\n      <td>24521a2abb2e1f5e34e6824e0f9e56904a2b0e88</td>\n    </tr>\n    <tr>\n      <th>4</th>\n      <td>(CNN)  -- The National Football League has ind...</td>\n      <td>NEW: NFL chief, Atlanta Falcons owner critical...</td>\n      <td>7fe70cc8b12fab2d0a258fababf7d9c6b5e1262a</td>\n    </tr>\n    <tr>\n      <th>...</th>\n      <td>...</td>\n      <td>...</td>\n      <td>...</td>\n    </tr>\n    <tr>\n      <th>95</th>\n      <td>DENVER, Colorado -- A Colorado man terrorized ...</td>\n      <td>Some witnesses say Colorado does nothing to pr...</td>\n      <td>f70a7abb6c5b0ef383ea12a4d9ca046a5bd854e5</td>\n    </tr>\n    <tr>\n      <th>96</th>\n      <td>LONDON, England (CNN) -- Previously unseen foo...</td>\n      <td>NEW: Jury shown new footage of Diana taken hou...</td>\n      <td>a3dd38ec7bc9d7e8423b96d8fd0641a2a5d5c984</td>\n    </tr>\n    <tr>\n      <th>97</th>\n      <td>WASHINGTON (CNN) -- Republicans reacted with s...</td>\n      <td>Republican Sen. Lindsey Graham: \"I am astounde...</td>\n      <td>654c6b29b96d2a5a818d91400c20f838b0e8b6df</td>\n    </tr>\n    <tr>\n      <th>98</th>\n      <td>ST. PETERSBURG, Florida (CNN) -- The acrimony ...</td>\n      <td>YouTube questions address taxes, the Bible, ab...</td>\n      <td>764d9ce99a1e3f79d95fbc4b68adbce14e7f8bcd</td>\n    </tr>\n    <tr>\n      <th>99</th>\n      <td>BAGHDAD, Iraq (CNN) -- None of the 1,000-plus ...</td>\n      <td>More than 1,000 freed detainees reportedly kee...</td>\n      <td>f16446db34e2861f0450dfa34d8cdda541ab7b19</td>\n    </tr>\n  </tbody>\n</table>\n<p>100 rows × 3 columns</p>\n</div>"
     },
     "execution_count": 32,
     "metadata": {},
     "output_type": "execute_result"
    }
   ],
   "source": [
    "url = \"https://datasets-server.huggingface.co/rows?dataset=cnn_dailymail&config=3.0.0&split=train\"\n",
    "response = requests.get(url)\n",
    "data = response.json()\n",
    "\n",
    "# Convert JSON to DataFrame\n",
    "df = pd.DataFrame(data['rows'])\n",
    "df = df['row'].apply(pd.Series)\n",
    "\n",
    "# Display the DataFrame\n",
    "df"
   ],
   "metadata": {
    "collapsed": false,
    "ExecuteTime": {
     "end_time": "2023-06-11T08:49:18.559163300Z",
     "start_time": "2023-06-11T08:49:16.703124800Z"
    }
   }
  },
  {
   "cell_type": "code",
   "execution_count": 35,
   "outputs": [
    {
     "name": "stdout",
     "output_type": "stream",
     "text": [
      "Downloading and preparing dataset cnn_dailymail/3.0.0 to C:/Users/vijay/.cache/huggingface/datasets/cnn_dailymail/3.0.0/3.0.0/1b3c71476f6d152c31c1730e83ccb08bcf23e348233f4fcc11e182248e6bf7de...\n"
     ]
    },
    {
     "data": {
      "text/plain": "Downloading data files:   0%|          | 0/5 [00:00<?, ?it/s]",
      "application/vnd.jupyter.widget-view+json": {
       "version_major": 2,
       "version_minor": 0,
       "model_id": "57bb1a884d344ef09b3fdb290e677f12"
      }
     },
     "metadata": {},
     "output_type": "display_data"
    },
    {
     "data": {
      "text/plain": "Downloading data:   0%|          | 0.00/159M [00:00<?, ?B/s]",
      "application/vnd.jupyter.widget-view+json": {
       "version_major": 2,
       "version_minor": 0,
       "model_id": "aabfbbbad378463685b37bdb04d56398"
      }
     },
     "metadata": {},
     "output_type": "display_data"
    },
    {
     "data": {
      "text/plain": "Downloading data:   0%|          | 0.00/376M [00:00<?, ?B/s]",
      "application/vnd.jupyter.widget-view+json": {
       "version_major": 2,
       "version_minor": 0,
       "model_id": "88218a5e42a340d3b42fed3bcb747cb4"
      }
     },
     "metadata": {},
     "output_type": "display_data"
    },
    {
     "data": {
      "text/plain": "Downloading data:   0%|          | 0.00/12.3M [00:00<?, ?B/s]",
      "application/vnd.jupyter.widget-view+json": {
       "version_major": 2,
       "version_minor": 0,
       "model_id": "0d4d9ae2ab574f458b9eae96142ac69a"
      }
     },
     "metadata": {},
     "output_type": "display_data"
    },
    {
     "data": {
      "text/plain": "Downloading data:   0%|          | 0.00/661k [00:00<?, ?B/s]",
      "application/vnd.jupyter.widget-view+json": {
       "version_major": 2,
       "version_minor": 0,
       "model_id": "5d94ea29c74b4a83b38465ea80cab4f2"
      }
     },
     "metadata": {},
     "output_type": "display_data"
    },
    {
     "data": {
      "text/plain": "Downloading data:   0%|          | 0.00/572k [00:00<?, ?B/s]",
      "application/vnd.jupyter.widget-view+json": {
       "version_major": 2,
       "version_minor": 0,
       "model_id": "18d32be055734a218df3e5cc3987826f"
      }
     },
     "metadata": {},
     "output_type": "display_data"
    },
    {
     "data": {
      "text/plain": "Generating train split:   0%|          | 0/287113 [00:00<?, ? examples/s]",
      "application/vnd.jupyter.widget-view+json": {
       "version_major": 2,
       "version_minor": 0,
       "model_id": "837f91719fd04b98aaabfec43e2a529f"
      }
     },
     "metadata": {},
     "output_type": "display_data"
    },
    {
     "data": {
      "text/plain": "Generating validation split:   0%|          | 0/13368 [00:00<?, ? examples/s]",
      "application/vnd.jupyter.widget-view+json": {
       "version_major": 2,
       "version_minor": 0,
       "model_id": "59be2d86ca2d408ebd62f323259cf890"
      }
     },
     "metadata": {},
     "output_type": "display_data"
    },
    {
     "data": {
      "text/plain": "Generating test split:   0%|          | 0/11490 [00:00<?, ? examples/s]",
      "application/vnd.jupyter.widget-view+json": {
       "version_major": 2,
       "version_minor": 0,
       "model_id": "40f5f1d9263a497c8b20c9f961526d85"
      }
     },
     "metadata": {},
     "output_type": "display_data"
    },
    {
     "name": "stdout",
     "output_type": "stream",
     "text": [
      "Dataset cnn_dailymail downloaded and prepared to C:/Users/vijay/.cache/huggingface/datasets/cnn_dailymail/3.0.0/3.0.0/1b3c71476f6d152c31c1730e83ccb08bcf23e348233f4fcc11e182248e6bf7de. Subsequent calls will reuse this data.\n"
     ]
    },
    {
     "data": {
      "text/plain": "  0%|          | 0/3 [00:00<?, ?it/s]",
      "application/vnd.jupyter.widget-view+json": {
       "version_major": 2,
       "version_minor": 0,
       "model_id": "0f07ab61baf646d7ba35c3b2dbdc6ce8"
      }
     },
     "metadata": {},
     "output_type": "display_data"
    }
   ],
   "source": [
    "from datasets import load_dataset\n",
    "\n",
    "dataset = load_dataset('cnn_dailymail', '3.0.0')"
   ],
   "metadata": {
    "collapsed": false,
    "ExecuteTime": {
     "end_time": "2023-06-11T09:09:02.782165600Z",
     "start_time": "2023-06-11T08:59:37.496348400Z"
    }
   }
  },
  {
   "cell_type": "code",
   "execution_count": 41,
   "outputs": [
    {
     "data": {
      "text/plain": "DatasetDict({\n    train: Dataset({\n        features: ['article', 'highlights', 'id'],\n        num_rows: 287113\n    })\n    validation: Dataset({\n        features: ['article', 'highlights', 'id'],\n        num_rows: 13368\n    })\n    test: Dataset({\n        features: ['article', 'highlights', 'id'],\n        num_rows: 11490\n    })\n})"
     },
     "execution_count": 41,
     "metadata": {},
     "output_type": "execute_result"
    }
   ],
   "source": [
    "dataset"
   ],
   "metadata": {
    "collapsed": false,
    "ExecuteTime": {
     "end_time": "2023-06-11T09:16:47.528467Z",
     "start_time": "2023-06-11T09:16:47.491566600Z"
    }
   }
  },
  {
   "cell_type": "code",
   "execution_count": 42,
   "outputs": [
    {
     "name": "stdout",
     "output_type": "stream",
     "text": [
      "Dataset({\n",
      "    features: ['article', 'highlights', 'id'],\n",
      "    num_rows: 287113\n",
      "})\n"
     ]
    }
   ],
   "source": [
    "train_data = dataset['train']\n",
    "print(train_data)"
   ],
   "metadata": {
    "collapsed": false,
    "ExecuteTime": {
     "end_time": "2023-06-11T09:16:50.913417900Z",
     "start_time": "2023-06-11T09:16:50.851584300Z"
    }
   }
  },
  {
   "cell_type": "code",
   "execution_count": 43,
   "outputs": [
    {
     "data": {
      "text/plain": "                                             article  \\\n0  LONDON, England (Reuters) -- Harry Potter star...   \n1  Editor's note: In our Behind the Scenes series...   \n2  MINNEAPOLIS, Minnesota (CNN) -- Drivers who we...   \n3  WASHINGTON (CNN) -- Doctors removed five small...   \n4  (CNN)  -- The National Football League has ind...   \n5  BAGHDAD, Iraq (CNN) -- Dressed in a Superman s...   \n6  BAGHDAD, Iraq (CNN) -- The women are too afrai...   \n7  BOGOTA, Colombia (CNN) -- A key rebel commande...   \n8  WASHINGTON (CNN) -- White House press secretar...   \n9  (CNN) -- Police and FBI agents are investigati...   \n\n                                          highlights  \\\n0  Harry Potter star Daniel Radcliffe gets £20M f...   \n1  Mentally ill inmates in Miami are housed on th...   \n2  NEW: \"I thought I was going to die,\" driver sa...   \n3  Five small polyps found during procedure; \"non...   \n4  NEW: NFL chief, Atlanta Falcons owner critical...   \n5  Parents beam with pride, can't stop from smili...   \n6  Aid workers: Violence, increased cost of livin...   \n7  Tomas Medina Caracas was a fugitive from a U.S...   \n8  President Bush says Tony Snow \"will battle can...   \n9  Empty anti-tank weapon turns up in front of Ne...   \n\n                                         id  \n0  42c027e4ff9730fbb3de84c1af0d2c506e41c3e4  \n1  ee8871b15c50d0db17b0179a6d2beab35065f1e9  \n2  06352019a19ae31e527f37f7571c6dd7f0c5da37  \n3  24521a2abb2e1f5e34e6824e0f9e56904a2b0e88  \n4  7fe70cc8b12fab2d0a258fababf7d9c6b5e1262a  \n5  a1ebb8bb4d370a1fdf28769206d572be60642d70  \n6  7c0e61ac829a3b3b653e2e3e7536cc4881d1f264  \n7  f0d73bdab711763e745cdc75850861c9018f235d  \n8  5e22bbfc7232418b8d2dd646b952e404df5bd048  \n9  613d6311ec2c1985bd44707d1796d275452fe156  ",
      "text/html": "<div>\n<style scoped>\n    .dataframe tbody tr th:only-of-type {\n        vertical-align: middle;\n    }\n\n    .dataframe tbody tr th {\n        vertical-align: top;\n    }\n\n    .dataframe thead th {\n        text-align: right;\n    }\n</style>\n<table border=\"1\" class=\"dataframe\">\n  <thead>\n    <tr style=\"text-align: right;\">\n      <th></th>\n      <th>article</th>\n      <th>highlights</th>\n      <th>id</th>\n    </tr>\n  </thead>\n  <tbody>\n    <tr>\n      <th>0</th>\n      <td>LONDON, England (Reuters) -- Harry Potter star...</td>\n      <td>Harry Potter star Daniel Radcliffe gets £20M f...</td>\n      <td>42c027e4ff9730fbb3de84c1af0d2c506e41c3e4</td>\n    </tr>\n    <tr>\n      <th>1</th>\n      <td>Editor's note: In our Behind the Scenes series...</td>\n      <td>Mentally ill inmates in Miami are housed on th...</td>\n      <td>ee8871b15c50d0db17b0179a6d2beab35065f1e9</td>\n    </tr>\n    <tr>\n      <th>2</th>\n      <td>MINNEAPOLIS, Minnesota (CNN) -- Drivers who we...</td>\n      <td>NEW: \"I thought I was going to die,\" driver sa...</td>\n      <td>06352019a19ae31e527f37f7571c6dd7f0c5da37</td>\n    </tr>\n    <tr>\n      <th>3</th>\n      <td>WASHINGTON (CNN) -- Doctors removed five small...</td>\n      <td>Five small polyps found during procedure; \"non...</td>\n      <td>24521a2abb2e1f5e34e6824e0f9e56904a2b0e88</td>\n    </tr>\n    <tr>\n      <th>4</th>\n      <td>(CNN)  -- The National Football League has ind...</td>\n      <td>NEW: NFL chief, Atlanta Falcons owner critical...</td>\n      <td>7fe70cc8b12fab2d0a258fababf7d9c6b5e1262a</td>\n    </tr>\n    <tr>\n      <th>5</th>\n      <td>BAGHDAD, Iraq (CNN) -- Dressed in a Superman s...</td>\n      <td>Parents beam with pride, can't stop from smili...</td>\n      <td>a1ebb8bb4d370a1fdf28769206d572be60642d70</td>\n    </tr>\n    <tr>\n      <th>6</th>\n      <td>BAGHDAD, Iraq (CNN) -- The women are too afrai...</td>\n      <td>Aid workers: Violence, increased cost of livin...</td>\n      <td>7c0e61ac829a3b3b653e2e3e7536cc4881d1f264</td>\n    </tr>\n    <tr>\n      <th>7</th>\n      <td>BOGOTA, Colombia (CNN) -- A key rebel commande...</td>\n      <td>Tomas Medina Caracas was a fugitive from a U.S...</td>\n      <td>f0d73bdab711763e745cdc75850861c9018f235d</td>\n    </tr>\n    <tr>\n      <th>8</th>\n      <td>WASHINGTON (CNN) -- White House press secretar...</td>\n      <td>President Bush says Tony Snow \"will battle can...</td>\n      <td>5e22bbfc7232418b8d2dd646b952e404df5bd048</td>\n    </tr>\n    <tr>\n      <th>9</th>\n      <td>(CNN) -- Police and FBI agents are investigati...</td>\n      <td>Empty anti-tank weapon turns up in front of Ne...</td>\n      <td>613d6311ec2c1985bd44707d1796d275452fe156</td>\n    </tr>\n  </tbody>\n</table>\n</div>"
     },
     "execution_count": 43,
     "metadata": {},
     "output_type": "execute_result"
    }
   ],
   "source": [
    "train_df = pd.DataFrame(train_data)\n",
    "\n",
    "train_df.head(10)"
   ],
   "metadata": {
    "collapsed": false,
    "ExecuteTime": {
     "end_time": "2023-06-11T09:17:34.918773800Z",
     "start_time": "2023-06-11T09:17:01.206900300Z"
    }
   }
  },
  {
   "cell_type": "code",
   "execution_count": 44,
   "outputs": [
    {
     "name": "stdout",
     "output_type": "stream",
     "text": [
      "Dataset({\n",
      "    features: ['article', 'highlights', 'id'],\n",
      "    num_rows: 11490\n",
      "})\n"
     ]
    }
   ],
   "source": [
    "test_data = dataset['test']\n",
    "print(test_data)"
   ],
   "metadata": {
    "collapsed": false,
    "ExecuteTime": {
     "end_time": "2023-06-11T09:17:34.984596900Z",
     "start_time": "2023-06-11T09:17:34.923759300Z"
    }
   }
  },
  {
   "cell_type": "code",
   "execution_count": 45,
   "outputs": [
    {
     "data": {
      "text/plain": "                                             article  \\\n0  (CNN)The Palestinian Authority officially beca...   \n1  (CNN)Never mind cats having nine lives. A stra...   \n2  (CNN)If you've been following the news lately,...   \n3  (CNN)Five Americans who were monitored for thr...   \n4  (CNN)A Duke student has admitted to hanging a ...   \n5  (CNN)He's a blue chip college basketball recru...   \n6  (CNN)Governments around the world are using th...   \n7  (CNN)Andrew Getty, one of the heirs to billion...   \n8  (CNN)Filipinos are being warned to be on guard...   \n9  (CNN)For the first time in eight years, a TV l...   \n\n                                          highlights  \\\n0  Membership gives the ICC jurisdiction over all...   \n1  Theia, a bully breed mix, was apparently hit b...   \n2  Mohammad Javad Zarif has spent more time with ...   \n3  17 Americans were exposed to the Ebola virus w...   \n4  Student is no longer on Duke University campus...   \n5  College-bound basketball star asks girl with D...   \n6  Amnesty's annual death penalty report catalogs...   \n7  Andrew Getty's death appears to be from natura...   \n8  Once a super typhoon, Maysak is now a tropical...   \n9  Bob Barker returned to host \"The Price Is Righ...   \n\n                                         id  \n0  f001ec5c4704938247d27a44948eebb37ae98d01  \n1  230c522854991d053fe98a718b1defa077a8efef  \n2  4495ba8f3a340d97a9df1476f8a35502bcce1f69  \n3  a38e72fed88684ec8d60dd5856282e999dc8c0ca  \n4  c27cf1b136cc270023de959e7ab24638021bc43f  \n5  1b2cc634e2bfc6f2595260e7ed9b42f77ecbb0ce  \n6  e2706dce6cf26bc61b082438188fdb6e130d9e40  \n7  0d3c8c276d079c4c225f034c69aa024cdab7869d  \n8  6222f33c2c79b80be437335eeb3f488509e92cf5  \n9  2bd8ada1de6a7b02f59430cc82045eb8d29cf033  ",
      "text/html": "<div>\n<style scoped>\n    .dataframe tbody tr th:only-of-type {\n        vertical-align: middle;\n    }\n\n    .dataframe tbody tr th {\n        vertical-align: top;\n    }\n\n    .dataframe thead th {\n        text-align: right;\n    }\n</style>\n<table border=\"1\" class=\"dataframe\">\n  <thead>\n    <tr style=\"text-align: right;\">\n      <th></th>\n      <th>article</th>\n      <th>highlights</th>\n      <th>id</th>\n    </tr>\n  </thead>\n  <tbody>\n    <tr>\n      <th>0</th>\n      <td>(CNN)The Palestinian Authority officially beca...</td>\n      <td>Membership gives the ICC jurisdiction over all...</td>\n      <td>f001ec5c4704938247d27a44948eebb37ae98d01</td>\n    </tr>\n    <tr>\n      <th>1</th>\n      <td>(CNN)Never mind cats having nine lives. A stra...</td>\n      <td>Theia, a bully breed mix, was apparently hit b...</td>\n      <td>230c522854991d053fe98a718b1defa077a8efef</td>\n    </tr>\n    <tr>\n      <th>2</th>\n      <td>(CNN)If you've been following the news lately,...</td>\n      <td>Mohammad Javad Zarif has spent more time with ...</td>\n      <td>4495ba8f3a340d97a9df1476f8a35502bcce1f69</td>\n    </tr>\n    <tr>\n      <th>3</th>\n      <td>(CNN)Five Americans who were monitored for thr...</td>\n      <td>17 Americans were exposed to the Ebola virus w...</td>\n      <td>a38e72fed88684ec8d60dd5856282e999dc8c0ca</td>\n    </tr>\n    <tr>\n      <th>4</th>\n      <td>(CNN)A Duke student has admitted to hanging a ...</td>\n      <td>Student is no longer on Duke University campus...</td>\n      <td>c27cf1b136cc270023de959e7ab24638021bc43f</td>\n    </tr>\n    <tr>\n      <th>5</th>\n      <td>(CNN)He's a blue chip college basketball recru...</td>\n      <td>College-bound basketball star asks girl with D...</td>\n      <td>1b2cc634e2bfc6f2595260e7ed9b42f77ecbb0ce</td>\n    </tr>\n    <tr>\n      <th>6</th>\n      <td>(CNN)Governments around the world are using th...</td>\n      <td>Amnesty's annual death penalty report catalogs...</td>\n      <td>e2706dce6cf26bc61b082438188fdb6e130d9e40</td>\n    </tr>\n    <tr>\n      <th>7</th>\n      <td>(CNN)Andrew Getty, one of the heirs to billion...</td>\n      <td>Andrew Getty's death appears to be from natura...</td>\n      <td>0d3c8c276d079c4c225f034c69aa024cdab7869d</td>\n    </tr>\n    <tr>\n      <th>8</th>\n      <td>(CNN)Filipinos are being warned to be on guard...</td>\n      <td>Once a super typhoon, Maysak is now a tropical...</td>\n      <td>6222f33c2c79b80be437335eeb3f488509e92cf5</td>\n    </tr>\n    <tr>\n      <th>9</th>\n      <td>(CNN)For the first time in eight years, a TV l...</td>\n      <td>Bob Barker returned to host \"The Price Is Righ...</td>\n      <td>2bd8ada1de6a7b02f59430cc82045eb8d29cf033</td>\n    </tr>\n  </tbody>\n</table>\n</div>"
     },
     "execution_count": 45,
     "metadata": {},
     "output_type": "execute_result"
    }
   ],
   "source": [
    "test_df = pd.DataFrame(test_data)\n",
    "\n",
    "test_df.head(10)"
   ],
   "metadata": {
    "collapsed": false,
    "ExecuteTime": {
     "end_time": "2023-06-11T09:17:36.844625300Z",
     "start_time": "2023-06-11T09:17:34.936724Z"
    }
   }
  },
  {
   "cell_type": "code",
   "execution_count": 46,
   "outputs": [
    {
     "name": "stdout",
     "output_type": "stream",
     "text": [
      "Dataset({\n",
      "    features: ['article', 'highlights', 'id'],\n",
      "    num_rows: 13368\n",
      "})\n"
     ]
    }
   ],
   "source": [
    "validation_data = dataset['validation']\n",
    "print(validation_data)"
   ],
   "metadata": {
    "collapsed": false,
    "ExecuteTime": {
     "end_time": "2023-06-11T09:17:36.912443100Z",
     "start_time": "2023-06-11T09:17:36.852603Z"
    }
   }
  },
  {
   "cell_type": "code",
   "execution_count": 47,
   "outputs": [
    {
     "data": {
      "text/plain": "                                             article  \\\n0  (CNN)Share, and your gift will be multiplied. ...   \n1  (CNN)On the 6th of April 1996, San Jose Clash ...   \n2  (CNN)French striker Bafetimbi Gomis, who has a...   \n3  (CNN)It was an act of frustration perhaps more...   \n4  (CNN)A Pennsylvania community is pulling toget...   \n5  (CNN)My vote for Father of the Year goes to Cu...   \n6  (CNN)Another one for the \"tourists behaving ba...   \n7  (CNN)Following last year's successful U.K. tou...   \n8  (CNN)A shooting at a bar popular with expatria...   \n9  (CNN)Manchester United defender Jonny Evans an...   \n\n                                          highlights  \\\n0  Zully Broussard decided to give a kidney to a ...   \n1  The 20th MLS season begins this weekend .\\nLea...   \n2  Bafetimbi Gomis collapses within 10 minutes of...   \n3  Rory McIlroy throws club into water at WGC Cad...   \n4  Cayman Naib, 13, hasn't been heard from since ...   \n5  Ruben Navarrette: Schilling deserves praise fo...   \n6  Two American women arrested for carving initia...   \n7  It will be a first time for the tour stateside...   \n8  A jihadist group claims responsibility in an a...   \n9  Alleged incident happened in match at St James...   \n\n                                         id  \n0  a4942dd663020ca54575471657a0af38d82897d6  \n1  4157bc4da185971e2742f349d69a037343bc0d95  \n2  60736693e3b1b32d14337a317190c6606e879a85  \n3  8cdf9cc3ed0276b7a7944cc18ba459355b5984ad  \n4  2e6613d531843515bf5401286cc3e45c4df530d2  \n5  fbc5ac3a3a7bb6c4d628cfbeef92b67bb18562f9  \n6  d093aa07380f75e63265793fcaa171772a6f4616  \n7  0485e4f199828cd03857391cbe573142193ca953  \n8  c6df0bbd0b5eaa67e1f2b70892bf0a5dfb761895  \n9  4a323dd3a1be975d93e941361082937cd2aafc88  ",
      "text/html": "<div>\n<style scoped>\n    .dataframe tbody tr th:only-of-type {\n        vertical-align: middle;\n    }\n\n    .dataframe tbody tr th {\n        vertical-align: top;\n    }\n\n    .dataframe thead th {\n        text-align: right;\n    }\n</style>\n<table border=\"1\" class=\"dataframe\">\n  <thead>\n    <tr style=\"text-align: right;\">\n      <th></th>\n      <th>article</th>\n      <th>highlights</th>\n      <th>id</th>\n    </tr>\n  </thead>\n  <tbody>\n    <tr>\n      <th>0</th>\n      <td>(CNN)Share, and your gift will be multiplied. ...</td>\n      <td>Zully Broussard decided to give a kidney to a ...</td>\n      <td>a4942dd663020ca54575471657a0af38d82897d6</td>\n    </tr>\n    <tr>\n      <th>1</th>\n      <td>(CNN)On the 6th of April 1996, San Jose Clash ...</td>\n      <td>The 20th MLS season begins this weekend .\\nLea...</td>\n      <td>4157bc4da185971e2742f349d69a037343bc0d95</td>\n    </tr>\n    <tr>\n      <th>2</th>\n      <td>(CNN)French striker Bafetimbi Gomis, who has a...</td>\n      <td>Bafetimbi Gomis collapses within 10 minutes of...</td>\n      <td>60736693e3b1b32d14337a317190c6606e879a85</td>\n    </tr>\n    <tr>\n      <th>3</th>\n      <td>(CNN)It was an act of frustration perhaps more...</td>\n      <td>Rory McIlroy throws club into water at WGC Cad...</td>\n      <td>8cdf9cc3ed0276b7a7944cc18ba459355b5984ad</td>\n    </tr>\n    <tr>\n      <th>4</th>\n      <td>(CNN)A Pennsylvania community is pulling toget...</td>\n      <td>Cayman Naib, 13, hasn't been heard from since ...</td>\n      <td>2e6613d531843515bf5401286cc3e45c4df530d2</td>\n    </tr>\n    <tr>\n      <th>5</th>\n      <td>(CNN)My vote for Father of the Year goes to Cu...</td>\n      <td>Ruben Navarrette: Schilling deserves praise fo...</td>\n      <td>fbc5ac3a3a7bb6c4d628cfbeef92b67bb18562f9</td>\n    </tr>\n    <tr>\n      <th>6</th>\n      <td>(CNN)Another one for the \"tourists behaving ba...</td>\n      <td>Two American women arrested for carving initia...</td>\n      <td>d093aa07380f75e63265793fcaa171772a6f4616</td>\n    </tr>\n    <tr>\n      <th>7</th>\n      <td>(CNN)Following last year's successful U.K. tou...</td>\n      <td>It will be a first time for the tour stateside...</td>\n      <td>0485e4f199828cd03857391cbe573142193ca953</td>\n    </tr>\n    <tr>\n      <th>8</th>\n      <td>(CNN)A shooting at a bar popular with expatria...</td>\n      <td>A jihadist group claims responsibility in an a...</td>\n      <td>c6df0bbd0b5eaa67e1f2b70892bf0a5dfb761895</td>\n    </tr>\n    <tr>\n      <th>9</th>\n      <td>(CNN)Manchester United defender Jonny Evans an...</td>\n      <td>Alleged incident happened in match at St James...</td>\n      <td>4a323dd3a1be975d93e941361082937cd2aafc88</td>\n    </tr>\n  </tbody>\n</table>\n</div>"
     },
     "execution_count": 47,
     "metadata": {},
     "output_type": "execute_result"
    }
   ],
   "source": [
    "validation_df = pd.DataFrame(validation_data)\n",
    "\n",
    "validation_df.head(10)"
   ],
   "metadata": {
    "collapsed": false,
    "ExecuteTime": {
     "end_time": "2023-06-11T09:17:39.024796500Z",
     "start_time": "2023-06-11T09:17:36.867562600Z"
    }
   }
  },
  {
   "cell_type": "code",
   "execution_count": null,
   "outputs": [],
   "source": [],
   "metadata": {
    "collapsed": false
   }
  }
 ],
 "metadata": {
  "kernelspec": {
   "display_name": "Python 3",
   "language": "python",
   "name": "python3"
  },
  "language_info": {
   "codemirror_mode": {
    "name": "ipython",
    "version": 2
   },
   "file_extension": ".py",
   "mimetype": "text/x-python",
   "name": "python",
   "nbconvert_exporter": "python",
   "pygments_lexer": "ipython2",
   "version": "2.7.6"
  }
 },
 "nbformat": 4,
 "nbformat_minor": 0
}
