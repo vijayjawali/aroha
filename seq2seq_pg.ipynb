{
 "cells": [
  {
   "cell_type": "code",
   "execution_count": 25,
   "metadata": {},
   "outputs": [],
   "source": [
    "import contractions\n",
    "import string\n",
    "import re\n",
    "import numpy as np\n",
    "import pandas as pd\n",
    "import tensorflow as tf\n",
    "from datasets import load_dataset\n",
    "\n",
    "from tensorflow.keras import backend as K\n",
    "from tensorflow.keras.preprocessing.text import Tokenizer\n",
    "from tensorflow.keras.preprocessing.sequence import pad_sequences\n",
    "from tensorflow.keras.models import Model, load_model\n",
    "from tensorflow.keras.layers import Input, LSTM, Embedding, Dense, TimeDistributed\n",
    "from tensorflow.keras.callbacks import EarlyStopping\n",
    "\n",
    "import nltk\n",
    "from nltk.corpus import stopwords, wordnet\n",
    "from nltk.stem import WordNetLemmatizer\n",
    "from nltk.tokenize import word_tokenize, sent_tokenize"
   ]
  },
  {
   "cell_type": "code",
   "execution_count": 26,
   "metadata": {},
   "outputs": [
    {
     "name": "stderr",
     "output_type": "stream",
     "text": [
      "Found cached dataset cnn_dailymail (C:/Users/vijay/.cache/huggingface/datasets/cnn_dailymail/3.0.0/3.0.0/1b3c71476f6d152c31c1730e83ccb08bcf23e348233f4fcc11e182248e6bf7de)\n"
     ]
    },
    {
     "data": {
      "application/vnd.jupyter.widget-view+json": {
       "model_id": "956533e755f64ba8b975bf81c635eec9",
       "version_major": 2,
       "version_minor": 0
      },
      "text/plain": [
       "  0%|          | 0/3 [00:00<?, ?it/s]"
      ]
     },
     "metadata": {},
     "output_type": "display_data"
    }
   ],
   "source": [
    "dataset = load_dataset('cnn_dailymail', '3.0.0')"
   ]
  },
  {
   "cell_type": "code",
   "execution_count": 27,
   "metadata": {},
   "outputs": [],
   "source": [
    "train_data = dataset['train']\n",
    "train_df = pd.DataFrame(train_data).sample(frac=0.1)"
   ]
  },
  {
   "cell_type": "code",
   "execution_count": 28,
   "metadata": {},
   "outputs": [],
   "source": [
    "validation_data = dataset['validation']\n",
    "validation_df = pd.DataFrame(validation_data).sample(frac=0.1)"
   ]
  },
  {
   "cell_type": "code",
   "execution_count": 29,
   "metadata": {},
   "outputs": [],
   "source": [
    "test_data = dataset['test']\n",
    "test_df = pd.DataFrame(test_data).sample(frac=0.1)"
   ]
  },
  {
   "cell_type": "code",
   "execution_count": 30,
   "metadata": {},
   "outputs": [
    {
     "name": "stderr",
     "output_type": "stream",
     "text": [
      "[nltk_data] Downloading package wordnet to\n",
      "[nltk_data]     C:\\Users\\vijay\\AppData\\Roaming\\nltk_data...\n",
      "[nltk_data]   Package wordnet is already up-to-date!\n"
     ]
    }
   ],
   "source": [
    "nltk.download('wordnet')\n",
    "def preprocess_text(text):\n",
    "    \n",
    "    text = text.lower()\n",
    "    \n",
    "    text = text.translate(str.maketrans(\"\", \"\", string.punctuation))\n",
    "\n",
    "    text = re.sub(r\"[^\\w\\s]\", \"\", text)\n",
    "\n",
    "    text = ''.join([char for char in text if char.isalpha() or char.isspace()])\n",
    "\n",
    "    tokens = word_tokenize(text)\n",
    "\n",
    "    stop_words = set(stopwords.words('english'))\n",
    "    tokens = [token for token in tokens if token not in stop_words]\n",
    "    \n",
    "    lemmatizer = WordNetLemmatizer()\n",
    "    tokens = [lemmatizer.lemmatize(token, wordnet.VERB) for token in tokens]\n",
    "\n",
    "    preprocessed_text = ' '.join(tokens)\n",
    "    \n",
    "    preprocessed_text = contractions.fix(preprocessed_text)\n",
    "\n",
    "    return preprocessed_text"
   ]
  },
  {
   "cell_type": "code",
   "execution_count": 31,
   "metadata": {},
   "outputs": [],
   "source": [
    "train_df['article'] = train_df['article'].apply(preprocess_text)"
   ]
  },
  {
   "cell_type": "code",
   "execution_count": 32,
   "metadata": {},
   "outputs": [],
   "source": [
    "train_articles = train_df['article'].tolist()\n",
    "train_summaries = train_df['highlights'].tolist()"
   ]
  },
  {
   "cell_type": "code",
   "execution_count": 33,
   "metadata": {},
   "outputs": [],
   "source": [
    "test_articles = test_df['article'].tolist()\n",
    "test_summaries = test_df['highlights'].tolist()"
   ]
  },
  {
   "cell_type": "code",
   "execution_count": 34,
   "metadata": {},
   "outputs": [],
   "source": [
    "validation_articles = validation_df['article'].tolist()\n",
    "validation_summaries = validation_df['highlights'].tolist()"
   ]
  },
  {
   "cell_type": "code",
   "execution_count": 35,
   "metadata": {},
   "outputs": [],
   "source": [
    "article_tokenizer = Tokenizer()\n",
    "article_tokenizer.fit_on_texts(train_articles + validation_articles + test_articles)\n",
    "\n",
    "summary_tokenizer = Tokenizer()\n",
    "summary_tokenizer.fit_on_texts(train_summaries + validation_summaries + test_summaries)"
   ]
  },
  {
   "cell_type": "code",
   "execution_count": 36,
   "metadata": {},
   "outputs": [],
   "source": [
    "train_articles_seq = article_tokenizer.texts_to_sequences(train_articles)\n",
    "train_summaries_seq = summary_tokenizer.texts_to_sequences(train_summaries)\n",
    "\n",
    "validation_articles_seq = article_tokenizer.texts_to_sequences(validation_articles)\n",
    "validation_summaries_seq = summary_tokenizer.texts_to_sequences(validation_summaries)\n",
    "\n",
    "test_articles_seq = article_tokenizer.texts_to_sequences(test_articles)\n",
    "test_summaries_seq = summary_tokenizer.texts_to_sequences(test_summaries)"
   ]
  },
  {
   "cell_type": "code",
   "execution_count": 37,
   "metadata": {},
   "outputs": [],
   "source": [
    "article_max_len = 500\n",
    "summary_max_len = 50\n",
    "\n",
    "train_articles_seq = pad_sequences(train_articles_seq, maxlen=article_max_len, padding='post')\n",
    "train_summaries_seq = pad_sequences(train_summaries_seq, maxlen=summary_max_len, padding='post')"
   ]
  },
  {
   "cell_type": "code",
   "execution_count": 38,
   "metadata": {},
   "outputs": [],
   "source": [
    "validation_articles_seq = pad_sequences(validation_articles_seq, maxlen=article_max_len, padding='post')\n",
    "validation_summaries_seq = pad_sequences(validation_summaries_seq, maxlen=summary_max_len, padding='post')"
   ]
  },
  {
   "cell_type": "code",
   "execution_count": 39,
   "metadata": {},
   "outputs": [],
   "source": [
    "test_articles_seq = pad_sequences(test_articles_seq, maxlen=article_max_len, padding='post')\n",
    "test_summaries_seq = pad_sequences(test_summaries_seq, maxlen=summary_max_len, padding='post')"
   ]
  },
  {
   "cell_type": "code",
   "execution_count": 40,
   "metadata": {},
   "outputs": [],
   "source": [
    "# Define the input/output shapes and vocabulary size\n",
    "article_vocab_size = len(article_tokenizer.word_index) + 1\n",
    "summary_vocab_size = len(summary_tokenizer.word_index) + 1\n",
    "embedding_dim = 200"
   ]
  },
  {
   "cell_type": "code",
   "execution_count": 41,
   "metadata": {},
   "outputs": [],
   "source": [
    "encoder_inputs = Input(shape=(article_max_len,))\n",
    "encoder_embedding = Embedding(article_vocab_size, embedding_dim, mask_zero=True)(encoder_inputs)\n",
    "encoder_lstm1 = LSTM(128, return_sequences=True, return_state=True)\n",
    "encoder_outputs1, _, _ = encoder_lstm1(encoder_embedding)\n",
    "encoder_lstm2 = LSTM(128, return_sequences=True, return_state=True)\n",
    "encoder_outputs2, _, _ = encoder_lstm2(encoder_outputs1)\n",
    "encoder_lstm3 = LSTM(128, return_sequences=False, return_state=True)\n",
    "encoder_outputs, state_h, state_c = encoder_lstm3(encoder_outputs2)\n",
    "encoder_states = [state_h, state_c]\n",
    "\n",
    "# Decoder\n",
    "decoder_inputs = Input(shape=(summary_max_len,))\n",
    "decoder_embedding = Embedding(summary_vocab_size, embedding_dim, mask_zero=True)(decoder_inputs)\n",
    "decoder_lstm = LSTM(128, return_sequences=True, return_state=True)\n",
    "decoder_outputs, _, _ = decoder_lstm(decoder_embedding, initial_state=encoder_states)\n",
    "# decoder_dense = TimeDistributed(Dense(summary_vocab_size, activation='softmax'))\n",
    "# decoder_outputs = decoder_dense(decoder_outputs)\n",
    "\n",
    "# # Create the model\n",
    "# model = Model([encoder_inputs, decoder_inputs], decoder_outputs)\n"
   ]
  },
  {
   "cell_type": "code",
   "execution_count": 42,
   "metadata": {},
   "outputs": [],
   "source": [
    "# Attention mechanism\n",
    "attention = tf.keras.layers.Attention()([decoder_outputs, encoder_outputs])\n",
    "context_vector = tf.keras.layers.Concatenate(axis=-1)([decoder_outputs, attention])\n",
    "\n",
    "# Pointer network\n",
    "pointer_probs = TimeDistributed(Dense(1, activation='sigmoid'))(context_vector)\n",
    "pointer_probs = tf.keras.layers.Flatten()(pointer_probs)\n",
    "pointer_probs = tf.keras.layers.RepeatVector(summary_max_len)(pointer_probs)\n",
    "\n",
    "# Final probabilities\n",
    "vocab_probs = TimeDistributed(Dense(summary_vocab_size, activation='softmax'))(decoder_outputs)\n",
    "final_probs = K.concatenate([vocab_probs, pointer_probs], axis=-1)\n",
    "\n",
    "model = Model([encoder_inputs, decoder_inputs], final_probs)"
   ]
  },
  {
   "cell_type": "code",
   "execution_count": 43,
   "metadata": {},
   "outputs": [
    {
     "name": "stdout",
     "output_type": "stream",
     "text": [
      "Model: \"model_1\"\n",
      "__________________________________________________________________________________________________\n",
      " Layer (type)                   Output Shape         Param #     Connected to                     \n",
      "==================================================================================================\n",
      " input_3 (InputLayer)           [(None, 500)]        0           []                               \n",
      "                                                                                                  \n",
      " embedding_2 (Embedding)        (None, 500, 200)     41671200    ['input_3[0][0]']                \n",
      "                                                                                                  \n",
      " lstm_4 (LSTM)                  [(None, 500, 128),   168448      ['embedding_2[0][0]']            \n",
      "                                 (None, 128),                                                     \n",
      "                                 (None, 128)]                                                     \n",
      "                                                                                                  \n",
      " input_4 (InputLayer)           [(None, 50)]         0           []                               \n",
      "                                                                                                  \n",
      " lstm_5 (LSTM)                  [(None, 500, 128),   131584      ['lstm_4[0][0]']                 \n",
      "                                 (None, 128),                                                     \n",
      "                                 (None, 128)]                                                     \n",
      "                                                                                                  \n",
      " embedding_3 (Embedding)        (None, 50, 200)      14829400    ['input_4[0][0]']                \n",
      "                                                                                                  \n",
      " lstm_6 (LSTM)                  [(None, 128),        131584      ['lstm_5[0][0]']                 \n",
      "                                 (None, 128),                                                     \n",
      "                                 (None, 128)]                                                     \n",
      "                                                                                                  \n",
      " lstm_7 (LSTM)                  [(None, 50, 128),    168448      ['embedding_3[0][0]',            \n",
      "                                 (None, 128),                     'lstm_6[0][1]',                 \n",
      "                                 (None, 128)]                     'lstm_6[0][2]']                 \n",
      "                                                                                                  \n",
      " attention_1 (Attention)        (None, 50, 128)      0           ['lstm_7[0][0]',                 \n",
      "                                                                  'lstm_6[0][0]']                 \n",
      "                                                                                                  \n",
      " concatenate_1 (Concatenate)    (None, 50, 256)      0           ['lstm_7[0][0]',                 \n",
      "                                                                  'attention_1[0][0]']            \n",
      "                                                                                                  \n",
      " time_distributed_2 (TimeDistri  (None, 50, 1)       257         ['concatenate_1[0][0]']          \n",
      " buted)                                                                                           \n",
      "                                                                                                  \n",
      " flatten_1 (Flatten)            (None, 50)           0           ['time_distributed_2[0][0]']     \n",
      "                                                                                                  \n",
      " time_distributed_3 (TimeDistri  (None, 50, 74147)   9564963     ['lstm_7[0][0]']                 \n",
      " buted)                                                                                           \n",
      "                                                                                                  \n",
      " repeat_vector_1 (RepeatVector)  (None, 50, 50)      0           ['flatten_1[0][0]']              \n",
      "                                                                                                  \n",
      " tf.concat_1 (TFOpLambda)       (None, 50, 74197)    0           ['time_distributed_3[0][0]',     \n",
      "                                                                  'repeat_vector_1[0][0]']        \n",
      "                                                                                                  \n",
      "==================================================================================================\n",
      "Total params: 66,665,884\n",
      "Trainable params: 66,665,884\n",
      "Non-trainable params: 0\n",
      "__________________________________________________________________________________________________\n"
     ]
    }
   ],
   "source": [
    "# Compile the model\n",
    "model.compile(optimizer='adam', loss='sparse_categorical_crossentropy')\n",
    "\n",
    "# Define early stopping callback\n",
    "early_stopping = EarlyStopping(monitor='val_loss', patience=3)\n",
    "\n",
    "# Print the model summary\n",
    "model.summary()"
   ]
  },
  {
   "cell_type": "code",
   "execution_count": 44,
   "metadata": {},
   "outputs": [
    {
     "name": "stdout",
     "output_type": "stream",
     "text": [
      "Epoch 1/100\n",
      "  7/225 [..............................] - ETA: 3:41:11 - loss: 14.2269"
     ]
    }
   ],
   "source": [
    "# Fit the model\n",
    "history = model.fit(\n",
    "    [train_articles_seq, train_summaries_seq],\n",
    "    np.expand_dims(train_summaries_seq, axis=-1),\n",
    "    validation_data=(\n",
    "        [validation_articles_seq, validation_summaries_seq], \n",
    "        np.expand_dims(validation_summaries_seq, axis=-1)),\n",
    "    epochs=10,\n",
    "    batch_size=128,\n",
    "    callbacks=[early_stopping]\n",
    ")"
   ]
  },
  {
   "cell_type": "code",
   "execution_count": null,
   "metadata": {},
   "outputs": [
    {
     "data": {
      "image/png": "[encoded data removed]",
      "text/plain": [
       "<Figure size 640x480 with 1 Axes>"
      ]
     },
     "metadata": {},
     "output_type": "display_data"
    }
   ],
   "source": [
    "from matplotlib import pyplot as plt\n",
    "\n",
    "plt.plot(history.history['loss'], label='train')\n",
    "plt.plot(history.history['val_loss'], label='val')\n",
    "plt.legend()\n",
    "plt.show()"
   ]
  },
  {
   "cell_type": "code",
   "execution_count": null,
   "metadata": {},
   "outputs": [
    {
     "name": "stdout",
     "output_type": "stream",
     "text": [
      "18/18 [==============================] - 72s 4s/step - loss: 4.7009\n",
      "Test Loss: 4.700936317443848\n"
     ]
    }
   ],
   "source": [
    "loss = model.evaluate(\n",
    "    [test_articles_seq, test_summaries_seq],  # Use the input articles and summaries, excluding the last word\n",
    "    tf.expand_dims(test_summaries_seq, axis=-1)  # Use the target summaries, excluding the first word\n",
    ")\n",
    "\n",
    "print(\"Test Loss:\", loss)"
   ]
  },
  {
   "cell_type": "code",
   "execution_count": null,
   "metadata": {},
   "outputs": [],
   "source": [
    "article_reverse_word_index=article_tokenizer.index_word\n",
    "summary_reverse_word_index=summary_tokenizer.index_word"
   ]
  },
  {
   "cell_type": "code",
   "execution_count": null,
   "metadata": {},
   "outputs": [
    {
     "name": "stdout",
     "output_type": "stream",
     "text": [
      "1/1 [==============================] - 0s 489ms/step\n",
      "prediction_sequences: [array([  5,  31,   3,   7,   5,   1,  16,   5,  67,  68,   0,   0,   1,\n",
      "         1,  65, 236, 394,   0,   1,   0,   0,  67,  68,   0,   0,   1,\n",
      "        56,   3,   0,   1,   0,  11,   7, 110,   3,  35,   0,   9,   5,\n",
      "         0,   0,   0,   0,   0,   0,   0,   0,   0,   0,   0], dtype=int64)]\n",
      "Article: BOGOTA, Colombia (CNN) -- A key rebel commander and fugitive from a U.S. drug trafficking indictment was killed over the weekend in an air attack on a guerrilla encampment, the Colombian military said Monday. Alleged cocaine trafficker and FARC rebel Tomas Medina Caracas in an Interpol photo. Tomas Medina Caracas, known popularly as \"El Negro Acacio,\" was a member of the high command of the Fuerzas Armadas Revolucionarias de Colombia and, according to Colombian and U.S. officials, helped manage the group's extensive cocaine trafficking network. He had been in the cross-hairs of the U.S. Justice Department since 2002. He was charged with conspiracy to import cocaine into the United States and manufacturing and distributing cocaine within Colombia to fund the FARC's 42-year insurgency against the government. U.S. officials alleged Medina Caracas managed the rebel group's sales of cocaine to international drug traffickers, who in turn smuggled it into the United States. He was also indicted in the United States along with two other FARC commanders in November 2002 on charges of conspiring to kidnap two U.S. oil workers from neighboring Venezuela in 1997 and holding one of them for nine months until a $1 million ransom was paid. Officials said the army's Rapid Response Force, backed by elements of the Colombian Air Force, tracked Medina Caracas down at a FARC camp in the jungle in the south of the country. \"After a bombardment, the troops occupied the camp, and they've found 14 dead rebels so far, along with rifles, pistols, communications equipment and ... four GPS systems,\" Defense Minister Juan Manuel Santos said at a news conference. \"The death of 'El Negro Acacio' was confirmed by various sources, including members of FARC itself.\" Medina Caracas commanded FARC's 16th Front in the southern departments of Vichada and Guainia. Established in 1964 as the military wing of the Colombian Communist Party, FARC is Colombia's oldest, largest, most capable and best-equipped Marxist rebel group, according to the U.S. Department of State. E-mail to a friend . Journalist Fernando Ramos contributed to this report.\n",
      "Golden Summary: Tomas Medina Caracas was a fugitive from a U.S. drug trafficking indictment . \"El Negro Acacio\" allegedly helped manage extensive cocaine network . U.S. Justice Department indicted him in 2002 . Colombian military: He was killed in an attack on a guerrilla encampment .\n",
      "Prediction Summary: a new in was a the from a u s the the home it's believe the u s the him in the he was killed in an on a\n",
      "\n"
     ]
    }
   ],
   "source": [
    "def generate_text_predictions(articles, summaries):\n",
    "    # Convert the texts to sequences\n",
    "    article_sequences = article_tokenizer.texts_to_sequences(articles)\n",
    "    article_sequences = pad_sequences(article_sequences, maxlen=500, padding='post')\n",
    "\n",
    "    summary_sequences = summary_tokenizer.texts_to_sequences(summaries)\n",
    "    summary_sequences = pad_sequences(summary_sequences, maxlen=50, padding='post')\n",
    "\n",
    "    # Generate predictions\n",
    "    predictions = model.predict([article_sequences, summary_sequences])\n",
    "\n",
    "    # Convert predictions to text format\n",
    "    prediction_sequences = []\n",
    "    for pred in predictions:\n",
    "        pred_indices = np.argmax(pred, axis=-1)\n",
    "        prediction_sequences.append(pred_indices)\n",
    "\n",
    "    text_predictions = summary_tokenizer.sequences_to_texts(prediction_sequences)\n",
    "    \n",
    "    return text_predictions\n",
    "\n",
    "# Example usage:\n",
    "articles = [\n",
    "    \"\"\"BOGOTA, Colombia (CNN) -- A key rebel commander and fugitive from a U.S. drug trafficking indictment was killed over the weekend in an air attack on a guerrilla encampment, the Colombian military said Monday. Alleged cocaine trafficker and FARC rebel Tomas Medina Caracas in an Interpol photo. Tomas Medina Caracas, known popularly as \"El Negro Acacio,\" was a member of the high command of the Fuerzas Armadas Revolucionarias de Colombia and, according to Colombian and U.S. officials, helped manage the group's extensive cocaine trafficking network. He had been in the cross-hairs of the U.S. Justice Department since 2002. He was charged with conspiracy to import cocaine into the United States and manufacturing and distributing cocaine within Colombia to fund the FARC's 42-year insurgency against the government. U.S. officials alleged Medina Caracas managed the rebel group's sales of cocaine to international drug traffickers, who in turn smuggled it into the United States. He was also indicted in the United States along with two other FARC commanders in November 2002 on charges of conspiring to kidnap two U.S. oil workers from neighboring Venezuela in 1997 and holding one of them for nine months until a $1 million ransom was paid. Officials said the army's Rapid Response Force, backed by elements of the Colombian Air Force, tracked Medina Caracas down at a FARC camp in the jungle in the south of the country. \"After a bombardment, the troops occupied the camp, and they've found 14 dead rebels so far, along with rifles, pistols, communications equipment and ... four GPS systems,\" Defense Minister Juan Manuel Santos said at a news conference. \"The death of 'El Negro Acacio' was confirmed by various sources, including members of FARC itself.\" Medina Caracas commanded FARC's 16th Front in the southern departments of Vichada and Guainia. Established in 1964 as the military wing of the Colombian Communist Party, FARC is Colombia's oldest, largest, most capable and best-equipped Marxist rebel group, according to the U.S. Department of State. E-mail to a friend . Journalist Fernando Ramos contributed to this report.\"\"\"\n",
    "]\n",
    "\n",
    "summaries = [\n",
    "    \"\"\"Tomas Medina Caracas was a fugitive from a U.S. drug trafficking indictment . \"El Negro Acacio\" allegedly helped manage extensive cocaine network . U.S. Justice Department indicted him in 2002 . Colombian military: He was killed in an attack on a guerrilla encampment .\"\"\"\n",
    "]\n",
    "\n",
    "predictions = generate_text_predictions(articles, summaries)\n",
    "for text, summ, pred in zip(articles, summaries, predictions):\n",
    "    print(\"Article:\", text)\n",
    "    print(\"Golden Summary:\", summ)\n",
    "    print(\"Prediction Summary:\", pred)\n",
    "    print()"
   ]
  },
  {
   "cell_type": "code",
   "execution_count": null,
   "metadata": {},
   "outputs": [],
   "source": [
    "# import numpy as np\n",
    "# from keras.preprocessing.text import Tokenizer\n",
    "# from keras.preprocessing.sequence import pad_sequences\n",
    "# from keras.models import load_model\n",
    "\n",
    "# def generate_text_predictions(articles, summaries):\n",
    "#     model = load_model('text_generation_model.h5')  # Load the trained model\n",
    "#     summary_tokenizer = Tokenizer()  # Create a new tokenizer for the summaries\n",
    "#     summary_tokenizer.fit_on_texts(summaries)  # Fit the tokenizer on the summary texts\n",
    "#     text_predictions = []\n",
    "\n",
    "#     for article in articles:\n",
    "#         sequences = summary_tokenizer.texts_to_sequences([article])  # Convert article text to sequences\n",
    "#         input_data = pad_sequences(sequences, maxlen=1000)  # Pad the input sequence\n",
    "#         pred = model.predict(input_data)  # Generate predictions\n",
    "#         pred_indices = np.argmax(pred, axis=-1)\n",
    "#         pred_indices_list = pred_indices.tolist()  # Convert numpy array to list\n",
    "#         pred_text = summary_tokenizer.sequences_to_texts(pred_indices_list)\n",
    "#         text_predictions.append(pred_text)\n",
    "\n",
    "#     return text_predictions\n",
    "\n",
    "# # Example usage\n",
    "# articles = [\n",
    "#     \"\"\"BOGOTA, Colombia (CNN) -- A key rebel commander and fugitive from a U.S. drug trafficking indictment was killed over the weekend in an air attack on a guerrilla encampment, the Colombian military said Monday. Alleged cocaine trafficker and FARC rebel Tomas Medina Caracas in an Interpol photo. Tomas Medina Caracas, known popularly as \"El Negro Acacio,\" was a member of the high command of the Fuerzas Armadas Revolucionarias de Colombia and, according to Colombian and U.S. officials, helped manage the group's extensive cocaine trafficking network. He had been in the cross-hairs of the U.S. Justice Department since 2002. He was charged with conspiracy to import cocaine into the United States and manufacturing and distributing cocaine within Colombia to fund the FARC's 42-year insurgency against the government. U.S. officials alleged Medina Caracas managed the rebel group's sales of cocaine to international drug traffickers, who in turn smuggled it into the United States. He was also indicted in the United States along with two other FARC commanders in November 2002 on charges of conspiring to kidnap two U.S. oil workers from neighboring Venezuela in 1997 and holding one of them for nine months until a $1 million ransom was paid. Officials said the army's Rapid Response Force, backed by elements of the Colombian Air Force, tracked Medina Caracas down at a FARC camp in the jungle in the south of the country. \"After a bombardment, the troops occupied the camp, and they've found 14 dead rebels so far, along with rifles, pistols, communications equipment and ... four GPS systems,\" Defense Minister Juan Manuel Santos said at a news conference. \"The death of 'El Negro Acacio' was confirmed by various sources, including members of FARC itself.\" Medina Caracas commanded FARC's 16th Front in the southern departments of Vichada and Guainia. Established in 1964 as the military wing of the Colombian Communist Party, FARC is Colombia's oldest, largest, most capable and best-equipped Marxist rebel group, according to the U.S. Department of State. E-mail to a friend . Journalist Fernando Ramos contributed to this report.\"\"\"\n",
    "# ]\n",
    "\n",
    "# summaries = [\n",
    "#     \"\"\"Tomas Medina Caracas was a fugitive from a U.S. drug trafficking indictment . \"El Negro Acacio\" allegedly helped manage extensive cocaine network . U.S. Justice Department indicted him in 2002 . Colombian military: He was killed in an attack on a guerrilla encampment .\"\"\"\n",
    "# ]\n",
    "\n",
    "# predictions = generate_text_predictions(articles, summaries)\n",
    "\n",
    "# for text, summ, pred in zip(articles, summaries, predictions):\n",
    "#     print(\"Article:\", text)\n",
    "#     print(\"Summary:\", summ)\n",
    "#     print(\"Predicted Summary:\", pred)\n",
    "#     print()\n"
   ]
  }
 ],
 "metadata": {
  "kernelspec": {
   "display_name": "venv",
   "language": "python",
   "name": "python3"
  },
  "language_info": {
   "codemirror_mode": {
    "name": "ipython",
    "version": 3
   },
   "file_extension": ".py",
   "mimetype": "text/x-python",
   "name": "python",
   "nbconvert_exporter": "python",
   "pygments_lexer": "ipython3",
   "version": "3.9.13"
  },
  "orig_nbformat": 4
 },
 "nbformat": 4,
 "nbformat_minor": 2
}
