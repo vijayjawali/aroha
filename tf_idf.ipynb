{
 "cells": [
  {
   "attachments": {},
   "cell_type": "markdown",
   "metadata": {},
   "source": [
    "## TF-IDF"
   ]
  },
  {
   "attachments": {},
   "cell_type": "markdown",
   "metadata": {},
   "source": [
    "The formula for calculating the TF-IDF (Term Frequency-Inverse Document Frequency) weight of a term in a document within a collection of documents is as follows:\n",
    "\n",
    "$$TF-IDF = TF * IDF$$\n",
    "\n",
    "where:\n",
    "- TF (Term Frequency) measures the frequency of a term in a document and is calculated as the number of times the term appears in the document divided by the total number of terms in the document.\n",
    "   $$TF = \\lgroup\\frac {\\text{Number of occurrences of the term in the document}}  {\\text{Total number of terms in the document }}\\rgroup$$\n",
    "\n",
    "- IDF (Inverse Document Frequency) measures the importance of a term in the entire collection of documents and is calculated as the logarithm of the total number of documents divided by the number of documents containing the term, with the result being inverted.\n",
    "   $$IDF = log\\lgroup\\frac{\\text{Total number of documents}} {\\text{Number of documents containing the term}}\\rgroup$$\n",
    "\n",
    "The TF-IDF value represents the relevance of a term within a document and across the collection of documents. Higher TF-IDF values indicate that a term is more important to a particular document or collection.\n",
    "\n",
    "<center><img src = \"markdown_files/tf_idf.png\"></center>\n",
    "\n",
    "[Reference Link](https://medium.com/voice-tech-podcast/automatic-extractive-text-summarization-using-tfidf-3fc9a7b26f5#:~:text=tf%20is%20calculated%20as%20the,of%20words%20in%20the%20sentence.&text=This%20function%20finds%20the%20idf,a%20log10%20of%20that%20value.)"
   ]
  },
  {
   "cell_type": "code",
   "execution_count": 1,
   "metadata": {},
   "outputs": [],
   "source": [
    "import nltk\n",
    "import os\n",
    "import re\n",
    "import math\n",
    "import operator\n",
    "import contractions\n",
    "import string\n",
    "import pandas as pd\n",
    "import matplotlib.pyplot as plt\n",
    "from rouge import Rouge\n",
    "from datasets import load_dataset\n",
    "from nltk.stem import WordNetLemmatizer\n",
    "from nltk.corpus import stopwords, wordnet\n",
    "from nltk.tokenize import sent_tokenize,word_tokenize"
   ]
  },
  {
   "cell_type": "code",
   "execution_count": 2,
   "metadata": {},
   "outputs": [
    {
     "name": "stderr",
     "output_type": "stream",
     "text": [
      "[nltk_data] Downloading package wordnet to\n",
      "[nltk_data]     C:\\Users\\vijay\\AppData\\Roaming\\nltk_data...\n",
      "[nltk_data]   Package wordnet is already up-to-date!\n"
     ]
    }
   ],
   "source": [
    "nltk.download('wordnet')\n",
    "stop_words = set(stopwords.words('english'))\n",
    "lemmatizer = WordNetLemmatizer()"
   ]
  },
  {
   "attachments": {},
   "cell_type": "markdown",
   "metadata": {},
   "source": [
    "### Text preprocessing"
   ]
  },
  {
   "attachments": {},
   "cell_type": "markdown",
   "metadata": {},
   "source": [
    "#### Preprocessing steps:\n",
    "<ol>\n",
    "<li>convert all characters in the text to lowercase</li>\n",
    "\n",
    "**Example**: if the input text is \"Hello World\", it will be converted to \"hello world\".\n",
    "\n",
    "<li>Remove all punctuation marks from the text using the translate method and maketrans function from the string module.</li>\n",
    "\n",
    "**Example**: if the input text is \"Hello, World!\", it will be converted to \"Hello World\".\n",
    "\n",
    "<li>Remove any non-alphanumeric characters from the text using regular expressions. It replaces any character that is not a word character (\\w) or whitespace character (\\s) with an empty string.</li> \n",
    "\n",
    "**Example**: if the input text is \"Hello @world!\", it will be converted to \"Hello World\".\n",
    "\n",
    "<li>Tokenize the preprocessed text into individual words using the word_tokenize function from the NLTK library.</li> \n",
    "\n",
    "**Example**: if the input text is \"Hello World\", it will be tokenized into the list of tokens: ['Hello', 'World'].\n",
    "\n",
    "<li>Remove stop words from the list of tokens. Stop words are commonly occurring words (e.g., \"the\", \"is\", \"and\") that do not carry much meaning in the context of natural language processing tasks.</li>\n",
    "\n",
    "**Example**: if the input tokens are ['Hello', 'World', 'this', 'is', 'a'], and the stop words list contains ['this', 'is', 'a'], the resulting tokens will be ['Hello', 'World'].\n",
    "\n",
    "<li>Expand contracted words in the text using the contractions library.</li>\n",
    "\n",
    "**Example**: if the input preprocessed text is \"I'm happy\", it will be expanded to \"I am happy\"."
   ]
  },
  {
   "cell_type": "code",
   "execution_count": 3,
   "metadata": {},
   "outputs": [],
   "source": [
    "def preprocess_text(text):\n",
    "    \"\"\"\n",
    "    Preprocesses the input text by performing several text cleaning steps.\n",
    "\n",
    "    Parameters:\n",
    "        text (str): The input text to be preprocessed.\n",
    "\n",
    "    Returns:\n",
    "        str: The preprocessed text.\n",
    "\n",
    "    \"\"\"\n",
    "    # Convert text to lowercase\n",
    "    text = text.lower()\n",
    "    \n",
    "    # Remove punctuation\n",
    "    text = text.translate(str.maketrans(\"\", \"\", string.punctuation))\n",
    "    \n",
    "    # Remove non-alphanumeric characters\n",
    "    text = re.sub(r\"[^\\w\\s]\", \"\", text)\n",
    "    \n",
    "    # Tokenize the text into individual words\n",
    "    tokens = word_tokenize(text)\n",
    "    \n",
    "    # Remove stop words\n",
    "    tokens = [token for token in tokens if token not in stop_words]\n",
    "    \n",
    "    # Join the preprocessed tokens back into a string\n",
    "    preprocessed_text = ' '.join(tokens)\n",
    "    \n",
    "    # Expand contractions\n",
    "    preprocessed_text = contractions.fix(preprocessed_text)\n",
    "    \n",
    "    return preprocessed_text"
   ]
  },
  {
   "attachments": {},
   "cell_type": "markdown",
   "metadata": {},
   "source": [
    "### Calculate Term-Frequency score"
   ]
  },
  {
   "cell_type": "code",
   "execution_count": 4,
   "metadata": {},
   "outputs": [],
   "source": [
    "def tf_score(word, sentence):\n",
    "    \"\"\"\n",
    "    Calculate the term frequency score of a word in a given sentence.\n",
    "    \n",
    "    Args:\n",
    "        word (str): The word for which the TF score is calculated.\n",
    "        sentence (str): The input sentence.\n",
    "    \n",
    "    Returns:\n",
    "        float: The TF score of the word in the sentence.\n",
    "    \"\"\"\n",
    "    word_frequency_in_sentence = sentence.split().count(word)\n",
    "    len_sentence = len(sentence.split())\n",
    "    tf = word_frequency_in_sentence / len_sentence\n",
    "    return tf\n"
   ]
  },
  {
   "attachments": {},
   "cell_type": "markdown",
   "metadata": {},
   "source": [
    "### Calculate Inverse Document Frequency score"
   ]
  },
  {
   "cell_type": "code",
   "execution_count": 5,
   "metadata": {},
   "outputs": [],
   "source": [
    "def idf_score(no_of_sentences, word, sentences):\n",
    "    \"\"\"\n",
    "    Calculate the inverse document frequency score of a word in a collection of sentences.\n",
    "    \n",
    "    Args:\n",
    "        no_of_sentences (int): The total number of sentences in the collection.\n",
    "        word (str): The word for which the IDF score is calculated.\n",
    "        sentences (list): The collection of sentences.\n",
    "    \n",
    "    Returns:\n",
    "        float: The IDF score of the word in the collection of sentences.\n",
    "    \"\"\"\n",
    "    no_of_sentence_containing_word = sum(1 for sentence in sentences if word in sentence)\n",
    "    idf = math.log10(no_of_sentences / (no_of_sentence_containing_word + 1))\n",
    "    return idf"
   ]
  },
  {
   "attachments": {},
   "cell_type": "markdown",
   "metadata": {},
   "source": [
    "### Read the data"
   ]
  },
  {
   "cell_type": "code",
   "execution_count": 6,
   "metadata": {},
   "outputs": [
    {
     "name": "stderr",
     "output_type": "stream",
     "text": [
      "Found cached dataset cnn_dailymail (C:/Users/vijay/.cache/huggingface/datasets/cnn_dailymail/3.0.0/3.0.0/1b3c71476f6d152c31c1730e83ccb08bcf23e348233f4fcc11e182248e6bf7de)\n"
     ]
    },
    {
     "data": {
      "application/vnd.jupyter.widget-view+json": {
       "model_id": "41e3fed8576044018eabb48c968c2ac7",
       "version_major": 2,
       "version_minor": 0
      },
      "text/plain": [
       "  0%|          | 0/3 [00:00<?, ?it/s]"
      ]
     },
     "metadata": {},
     "output_type": "display_data"
    }
   ],
   "source": [
    "dataset = load_dataset('cnn_dailymail', '3.0.0')\n",
    "data = dataset['test']\n",
    "data_df = pd.DataFrame(data)"
   ]
  },
  {
   "attachments": {},
   "cell_type": "markdown",
   "metadata": {},
   "source": [
    "### Apply pre-processing steps"
   ]
  },
  {
   "cell_type": "code",
   "execution_count": 7,
   "metadata": {},
   "outputs": [],
   "source": [
    "data_df['processed_article'] = data_df['article'].apply(preprocess_text)"
   ]
  },
  {
   "attachments": {},
   "cell_type": "markdown",
   "metadata": {},
   "source": [
    "### Tokenize words in an article"
   ]
  },
  {
   "cell_type": "code",
   "execution_count": 8,
   "metadata": {},
   "outputs": [],
   "source": [
    "data_df['word_tokens'] = data_df['processed_article'].apply(word_tokenize)"
   ]
  },
  {
   "attachments": {},
   "cell_type": "markdown",
   "metadata": {},
   "source": [
    "### Tokenize sentences in an article"
   ]
  },
  {
   "cell_type": "code",
   "execution_count": 9,
   "metadata": {},
   "outputs": [],
   "source": [
    "data_df['sentence_tokens'] = data_df['article'].apply(sent_tokenize)"
   ]
  },
  {
   "attachments": {},
   "cell_type": "markdown",
   "metadata": {},
   "source": [
    "### Calculate number of sentences to retain"
   ]
  },
  {
   "cell_type": "code",
   "execution_count": 10,
   "metadata": {},
   "outputs": [],
   "source": [
    "data_df['num_retain_sentence'] = data_df['sentence_tokens'].apply(lambda x: math.ceil(len(x)/10))"
   ]
  },
  {
   "attachments": {},
   "cell_type": "markdown",
   "metadata": {},
   "source": [
    "### Calculate most important sentences to form a summary"
   ]
  },
  {
   "attachments": {},
   "cell_type": "markdown",
   "metadata": {},
   "source": [
    "The summary function takes a group of sentences as input and generates a summary by selecting the most important sentences.<br>\n",
    "It does this by considering the significance of the words in each sentence and how they relate to the entire collection of sentences.<br>\n",
    "The function calculates a score called TF-IDF for each sentence, which reflects the importance of the words it contains Then, it ranks the sentences based on these scores and picks the top ones to form the summary.<br>\n",
    "This approach helps to condense the information and highlight the key points from the given sentences, making it easier to grasp the main ideas without reading through all of them.<br>\n",
    "\n",
    "**Example**:<br>\n",
    "row = {<br>\n",
    "    &nbsp;&nbsp;&nbsp;&nbsp;'num_retain_sentence': 3,<br>\n",
    "    &nbsp;&nbsp;&nbsp;&nbsp;'sentence_tokens': [<br>\n",
    "        &nbsp;&nbsp;&nbsp;&nbsp;&nbsp;&nbsp;&nbsp;&nbsp;\"The cat is on the mat.\",<br>\n",
    "        &nbsp;&nbsp;&nbsp;&nbsp;&nbsp;&nbsp;&nbsp;&nbsp;\"The dog is chasing the ball.\",<br>\n",
    "        &nbsp;&nbsp;&nbsp;&nbsp;&nbsp;&nbsp;&nbsp;&nbsp;\"The bird is flying in the sky.\",<br>\n",
    "        &nbsp;&nbsp;&nbsp;&nbsp;&nbsp;&nbsp;&nbsp;&nbsp;\"The sun is shining brightly.\"<br>\n",
    "    &nbsp;&nbsp;&nbsp;&nbsp;]<br>\n",
    "}<br>\n",
    "\n",
    "If no_of_sentences is set to 2.<br>\n",
    "The resulting summary would be:<br>\n",
    "\"The bird is flying in the sky. The sun is shining brightly.\"\n"
   ]
  },
  {
   "cell_type": "code",
   "execution_count": 11,
   "metadata": {},
   "outputs": [],
   "source": [
    "def get_summary(row):\n",
    "    \"\"\"\n",
    "    Generate a summary from a collection of sentences based on TF-IDF scores.\n",
    "    \n",
    "    Args:\n",
    "        row (dict): A dictionary containing the row data with keys 'num_retain_sentence' and 'sentence_tokens'.\n",
    "    \n",
    "    Returns:\n",
    "        str: The generated summary as a string.\n",
    "    \"\"\"\n",
    "    no_of_sentences = row['num_retain_sentence']\n",
    "    sentences = row['sentence_tokens']\n",
    "    \n",
    "    sentences_tf_idf = {}\n",
    "    for i, sentence in enumerate(sentences, 1):\n",
    "        sentence_tf_idf = 0\n",
    "        sentence = re.sub(r'\\d+', '', sentence)\n",
    "        pos_tagged_sentence = nltk.pos_tag(sentence.split())\n",
    "        for word, pos_tag in pos_tagged_sentence:\n",
    "            if word.lower() not in stop_words and len(word) > 1 and pos_tag.startswith(('NN', 'VB')):\n",
    "                word = lemmatizer.lemmatize(word.lower())\n",
    "                tf = tf_score(word, sentence)\n",
    "                idf = idf_score(len(sentences), word, sentences)\n",
    "                tf_idf = tf * idf\n",
    "                sentence_tf_idf += tf_idf\n",
    "        sentences_tf_idf[i] = sentence_tf_idf\n",
    "        \n",
    "    sentences_tf_idf = sorted(sentences_tf_idf.items(), key=lambda x: x[1], reverse=True)\n",
    "    \n",
    "    summary = []\n",
    "    sentence_no = [x[0] for x in sentences_tf_idf[:no_of_sentences]]\n",
    "    sentence_no.sort()\n",
    "    \n",
    "    for i, sentence in enumerate(sentences, 1):\n",
    "        if i in sentence_no:\n",
    "            summary.append(sentence)\n",
    "    \n",
    "    return \" \".join(summary)"
   ]
  },
  {
   "attachments": {},
   "cell_type": "markdown",
   "metadata": {},
   "source": [
    "#### Apply summarization"
   ]
  },
  {
   "cell_type": "code",
   "execution_count": 12,
   "metadata": {},
   "outputs": [],
   "source": [
    "data_df['summary'] = data_df.apply(lambda row: get_summary(row), axis=1)"
   ]
  },
  {
   "attachments": {},
   "cell_type": "markdown",
   "metadata": {},
   "source": [
    "### Calculate ROGUE Scores"
   ]
  },
  {
   "attachments": {},
   "cell_type": "markdown",
   "metadata": {},
   "source": [
    "The **ROUGE** (Recall-Oriented Understudy for Gisting Evaluation) scores represent the evaluation metrics for summarization. ROUGE measures the similarity between the generated summary (system summary) and the reference summary (ground truth summary) in terms of overlapping n-grams.\n",
    "\n",
    "The scores are reported as follows:\n",
    "\n",
    "**ROUGE-1**: This metric focuses on the overlap of unigram (single word) sequences between the system summary and the reference summary. It measures the recall (r), precision (p), and F1 score (f) for unigrams.\n",
    "\n",
    "**ROUGE-2**: This metric considers the overlap of bigram (two-word) sequences between the system summary and the reference summary. It measures the recall, precision, and F1 score for bigrams.\n",
    "\n",
    "**ROUGE-L**: This metric calculates the longest common subsequence (LCS) between the system summary and the reference summary. It measures the recall, precision, and F1 score based on the LCS.\n",
    "\n",
    "\n",
    "- **Precision**: Precision measures the accuracy or correctness of the generated summary. It is the ratio of the number of correctly identified relevant elements (such as words or n-grams) in the generated summary to the total number of identified elements. A higher precision indicates a lower rate of false positives.\n",
    "\n",
    "- **Recall**: Recall measures the comprehensiveness or completeness of the generated summary. It is the ratio of the number of correctly identified relevant elements in the generated summary to the total number of relevant elements present in the reference summary. A higher recall indicates a lower rate of false negatives.\n",
    "\n",
    "- **F1 score**: The F1 score is the harmonic mean of precision and recall. It provides a balanced measure that considers both precision and recall. The F1 score is calculated using the formula: F1 = 2 * (precision * recall) / (precision + recall). It ranges from 0 to 1, where a higher F1 score indicates a better balance between precision and recall."
   ]
  },
  {
   "cell_type": "code",
   "execution_count": 13,
   "metadata": {},
   "outputs": [],
   "source": [
    "rouge = Rouge()\n",
    "\n",
    "data_df['rouge_scores'] = data_df.apply(lambda row: rouge.get_scores(row['summary'], row['highlights']), axis=1)"
   ]
  },
  {
   "attachments": {},
   "cell_type": "markdown",
   "metadata": {},
   "source": [
    "#### Calculate Average Recall, Precision, and F1 score for Rouge-1, Rouge-2 and Rouge-L"
   ]
  },
  {
   "cell_type": "code",
   "execution_count": 14,
   "metadata": {},
   "outputs": [
    {
     "data": {
      "text/html": [
       "<div>\n",
       "<style scoped>\n",
       "    .dataframe tbody tr th:only-of-type {\n",
       "        vertical-align: middle;\n",
       "    }\n",
       "\n",
       "    .dataframe tbody tr th {\n",
       "        vertical-align: top;\n",
       "    }\n",
       "\n",
       "    .dataframe thead th {\n",
       "        text-align: right;\n",
       "    }\n",
       "</style>\n",
       "<table border=\"1\" class=\"dataframe\">\n",
       "  <thead>\n",
       "    <tr style=\"text-align: right;\">\n",
       "      <th></th>\n",
       "      <th>ROUGE-1</th>\n",
       "      <th>ROUGE-2</th>\n",
       "      <th>ROUGE-L</th>\n",
       "    </tr>\n",
       "  </thead>\n",
       "  <tbody>\n",
       "    <tr>\n",
       "      <th>recall</th>\n",
       "      <td>0.214578</td>\n",
       "      <td>0.044079</td>\n",
       "      <td>0.195946</td>\n",
       "    </tr>\n",
       "    <tr>\n",
       "      <th>precision</th>\n",
       "      <td>0.185978</td>\n",
       "      <td>0.039681</td>\n",
       "      <td>0.169996</td>\n",
       "    </tr>\n",
       "    <tr>\n",
       "      <th>f1-score</th>\n",
       "      <td>0.187506</td>\n",
       "      <td>0.038691</td>\n",
       "      <td>0.171198</td>\n",
       "    </tr>\n",
       "  </tbody>\n",
       "</table>\n",
       "</div>"
      ],
      "text/plain": [
       "            ROUGE-1   ROUGE-2   ROUGE-L\n",
       "recall     0.214578  0.044079  0.195946\n",
       "precision  0.185978  0.039681  0.169996\n",
       "f1-score   0.187506  0.038691  0.171198"
      ]
     },
     "execution_count": 14,
     "metadata": {},
     "output_type": "execute_result"
    }
   ],
   "source": [
    "rouge_scores = data_df['rouge_scores']\n",
    "\n",
    "rouge_1 = {'r': 0, 'p': 0, 'f': 0}\n",
    "rouge_2 = {'r': 0, 'p': 0, 'f': 0}\n",
    "rouge_l = {'r': 0, 'p': 0, 'f': 0}\n",
    "\n",
    "for scores in rouge_scores:\n",
    "    rouge_1_scores = scores[0]['rouge-1']\n",
    "    rouge_2_scores = scores[0]['rouge-2']\n",
    "    rouge_l_scores = scores[0]['rouge-l']\n",
    "\n",
    "    rouge_1['r'] += rouge_1_scores['r']\n",
    "    rouge_1['p'] += rouge_1_scores['p']\n",
    "    rouge_1['f'] += rouge_1_scores['f']\n",
    "\n",
    "    rouge_2['r'] += rouge_2_scores['r']\n",
    "    rouge_2['p'] += rouge_2_scores['p']\n",
    "    rouge_2['f'] += rouge_2_scores['f']\n",
    "\n",
    "    rouge_l['r'] += rouge_l_scores['r']\n",
    "    rouge_l['p'] += rouge_l_scores['p']\n",
    "    rouge_l['f'] += rouge_l_scores['f']\n",
    "\n",
    "num_rows = len(rouge_scores)\n",
    "\n",
    "rouge_1_avg = {'recall': rouge_1['r'] / num_rows, 'precision': rouge_1['p'] / num_rows, 'f1-score': rouge_1['f'] / num_rows}\n",
    "rouge_2_avg = {'recall': rouge_2['r'] / num_rows, 'precision': rouge_2['p'] / num_rows, 'f1-score': rouge_2['f'] / num_rows}\n",
    "rouge_l_avg = {'recall': rouge_l['r'] / num_rows, 'precision': rouge_l['p'] / num_rows, 'f1-score': rouge_l['f'] / num_rows}\n",
    "\n",
    "average_scores = pd.DataFrame({'ROUGE-1': rouge_1_avg, 'ROUGE-2': rouge_2_avg, 'ROUGE-L': rouge_l_avg})\n",
    "\n",
    "average_scores"
   ]
  },
  {
   "attachments": {},
   "cell_type": "markdown",
   "metadata": {},
   "source": [
    "#### Barplot for ROGUE scores"
   ]
  },
  {
   "cell_type": "code",
   "execution_count": 19,
   "metadata": {},
   "outputs": [
    {
     "data": {
      "image/png": "[encoded data removed]",
      "text/plain": [
       "<Figure size 640x480 with 1 Axes>"
      ]
     },
     "metadata": {},
     "output_type": "display_data"
    }
   ],
   "source": [
    "x_values = average_scores.columns\n",
    "y_values = average_scores.loc['recall']\n",
    "\n",
    "fig, ax1 = plt.subplots()\n",
    "\n",
    "ax1.scatter(x_values, y_values, marker='o', color='black')\n",
    "ax1.set_ylabel('Average Score')\n",
    "ax1.set_xlabel('ROUGE Metrics')\n",
    "ax1.set_title('Average recall Scores')\n",
    "\n",
    "ax1.bar(x_values, y_values, color='orange', alpha=0.6)\n",
    "\n",
    "for i, v in enumerate(y_values):\n",
    "    ax1.text(i, v + 0.001, f'{v:.3f}', ha='center', va='bottom', color='black')\n",
    "\n",
    "plt.tight_layout()\n",
    "\n",
    "plt.show()"
   ]
  },
  {
   "cell_type": "code",
   "execution_count": 20,
   "metadata": {},
   "outputs": [
    {
     "data": {
      "image/png": "[encoded data removed]",
      "text/plain": [
       "<Figure size 640x480 with 1 Axes>"
      ]
     },
     "metadata": {},
     "output_type": "display_data"
    }
   ],
   "source": [
    "x_values = average_scores.columns\n",
    "y_values = average_scores.loc['precision']\n",
    "\n",
    "fig, ax1 = plt.subplots()\n",
    "\n",
    "ax1.scatter(x_values, y_values, marker='o', color='black')\n",
    "ax1.set_ylabel('Average Score')\n",
    "ax1.set_xlabel('ROUGE Metrics')\n",
    "ax1.set_title('Average precision Scores')\n",
    "\n",
    "ax1.bar(x_values, y_values, color='orange', alpha=0.6)\n",
    "\n",
    "for i, v in enumerate(y_values):\n",
    "    ax1.text(i, v + 0.001, f'{v:.3f}', ha='center', va='bottom', color='black')\n",
    "\n",
    "plt.tight_layout()\n",
    "\n",
    "plt.show()"
   ]
  },
  {
   "cell_type": "code",
   "execution_count": 21,
   "metadata": {},
   "outputs": [
    {
     "data": {
      "image/png": "[encoded data removed]",
      "text/plain": [
       "<Figure size 640x480 with 1 Axes>"
      ]
     },
     "metadata": {},
     "output_type": "display_data"
    }
   ],
   "source": [
    "x_values = average_scores.columns\n",
    "y_values = average_scores.loc['f1-score']\n",
    "\n",
    "fig, ax1 = plt.subplots()\n",
    "\n",
    "ax1.scatter(x_values, y_values, marker='o', color='black')\n",
    "ax1.set_ylabel('Average Score')\n",
    "ax1.set_xlabel('ROUGE Metrics')\n",
    "ax1.set_title('Average f1 Scores')\n",
    "\n",
    "ax1.bar(x_values, y_values, color='orange', alpha=0.6)\n",
    "\n",
    "for i, v in enumerate(y_values):\n",
    "    ax1.text(i, v + 0.001, f'{v:.3f}', ha='center', va='bottom', color='black')\n",
    "\n",
    "plt.tight_layout()\n",
    "\n",
    "plt.show()"
   ]
  },
  {
   "attachments": {},
   "cell_type": "markdown",
   "metadata": {},
   "source": [
    "#### Plot Heatmap for ROGUE scores"
   ]
  },
  {
   "cell_type": "code",
   "execution_count": 22,
   "metadata": {},
   "outputs": [
    {
     "data": {
      "image/png": "[encoded data removed]",
      "text/plain": [
       "<Figure size 640x480 with 2 Axes>"
      ]
     },
     "metadata": {},
     "output_type": "display_data"
    }
   ],
   "source": [
    "plt.imshow(average_scores, cmap='YlOrRd')\n",
    "\n",
    "plt.xticks(range(len(average_scores.columns)), average_scores.columns)\n",
    "plt.yticks(range(len(average_scores.index)), average_scores.index)\n",
    "plt.xlabel('ROUGE Metrics')\n",
    "plt.ylabel('Average Scores')\n",
    "\n",
    "for i in range(len(average_scores.index)):\n",
    "    for j in range(len(average_scores.columns)):\n",
    "        plt.text(j, i, f'{average_scores.iloc[i, j]:.3f}', ha='center', va='center', color='black')\n",
    "\n",
    "plt.colorbar(label='Average Score')\n",
    "\n",
    "plt.show()"
   ]
  }
 ],
 "metadata": {
  "kernelspec": {
   "display_name": "venv",
   "language": "python",
   "name": "python3"
  },
  "language_info": {
   "codemirror_mode": {
    "name": "ipython",
    "version": 3
   },
   "file_extension": ".py",
   "mimetype": "text/x-python",
   "name": "python",
   "nbconvert_exporter": "python",
   "pygments_lexer": "ipython3",
   "version": "3.9.13"
  },
  "orig_nbformat": 4
 },
 "nbformat": 4,
 "nbformat_minor": 2
}
