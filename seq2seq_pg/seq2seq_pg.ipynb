{
  "cells": [
    {
      "cell_type": "code",
      "execution_count": null,
      "metadata": {
        "colab": {
          "base_uri": "https://localhost:8080/"
        },
        "id": "KE9ijIZ6WVMU",
        "outputId": "def79a5b-e1f2-48f7-987d-0a76db3735e0"
      },
      "outputs": [
        {
          "name": "stdout",
          "output_type": "stream",
          "text": [
            "Collecting contractions\n",
            "  Downloading contractions-0.1.73-py2.py3-none-any.whl (8.7 kB)\n",
            "Collecting datasets\n",
            "  Downloading datasets-2.14.3-py3-none-any.whl (519 kB)\n",
            "\u001b[?25l     \u001b[90m━━━━━━━━━━━━━━━━━━━━━━━━━━━━━━━━━━━━━━━━\u001b[0m \u001b[32m0.0/519.1 kB\u001b[0m \u001b[31m?\u001b[0m eta \u001b[36m-:--:--\u001b[0m\r\u001b[2K     \u001b[91m━━━━━━━━━━━━━━\u001b[0m\u001b[91m╸\u001b[0m\u001b[90m━━━━━━━━━━━━━━━━━━━━━━━━\u001b[0m \u001b[32m194.6/519.1 kB\u001b[0m \u001b[31m5.6 MB/s\u001b[0m eta \u001b[36m0:00:01\u001b[0m\r\u001b[2K     \u001b[90m━━━━━━━━━━━━━━━━━━━━━━━━━━━━━━━━━━━━━━\u001b[0m \u001b[32m519.1/519.1 kB\u001b[0m \u001b[31m10.3 MB/s\u001b[0m eta \u001b[36m0:00:00\u001b[0m\n",
            "\u001b[?25hRequirement already satisfied: tensorflow in /usr/local/lib/python3.10/dist-packages (2.12.0)\n",
            "Requirement already satisfied: nltk in /usr/local/lib/python3.10/dist-packages (3.8.1)\n",
            "Collecting rouge\n",
            "  Downloading rouge-1.0.1-py3-none-any.whl (13 kB)\n",
            "Collecting textsearch>=0.0.21 (from contractions)\n",
            "  Downloading textsearch-0.0.24-py2.py3-none-any.whl (7.6 kB)\n",
            "Requirement already satisfied: numpy>=1.17 in /usr/local/lib/python3.10/dist-packages (from datasets) (1.22.4)\n",
            "Requirement already satisfied: pyarrow>=8.0.0 in /usr/local/lib/python3.10/dist-packages (from datasets) (9.0.0)\n",
            "Collecting dill<0.3.8,>=0.3.0 (from datasets)\n",
            "  Downloading dill-0.3.7-py3-none-any.whl (115 kB)\n",
            "\u001b[2K     \u001b[90m━━━━━━━━━━━━━━━━━━━━━━━━━━━━━━━━━━━━━━\u001b[0m \u001b[32m115.3/115.3 kB\u001b[0m \u001b[31m17.4 MB/s\u001b[0m eta \u001b[36m0:00:00\u001b[0m\n",
            "\u001b[?25hRequirement already satisfied: pandas in /usr/local/lib/python3.10/dist-packages (from datasets) (1.5.3)\n",
            "Requirement already satisfied: requests>=2.19.0 in /usr/local/lib/python3.10/dist-packages (from datasets) (2.27.1)\n",
            "Requirement already satisfied: tqdm>=4.62.1 in /usr/local/lib/python3.10/dist-packages (from datasets) (4.65.0)\n",
            "Collecting xxhash (from datasets)\n",
            "  Downloading xxhash-3.3.0-cp310-cp310-manylinux_2_17_x86_64.manylinux2014_x86_64.whl (194 kB)\n",
            "\u001b[2K     \u001b[90m━━━━━━━━━━━━━━━━━━━━━━━━━━━━━━━━━━━━━━\u001b[0m \u001b[32m194.1/194.1 kB\u001b[0m \u001b[31m25.2 MB/s\u001b[0m eta \u001b[36m0:00:00\u001b[0m\n",
            "\u001b[?25hCollecting multiprocess (from datasets)\n",
            "  Downloading multiprocess-0.70.15-py310-none-any.whl (134 kB)\n",
            "\u001b[2K     \u001b[90m━━━━━━━━━━━━━━━━━━━━━━━━━━━━━━━━━━━━━━\u001b[0m \u001b[32m134.8/134.8 kB\u001b[0m \u001b[31m19.6 MB/s\u001b[0m eta \u001b[36m0:00:00\u001b[0m\n",
            "\u001b[?25hRequirement already satisfied: fsspec[http]>=2021.11.1 in /usr/local/lib/python3.10/dist-packages (from datasets) (2023.6.0)\n",
            "Requirement already satisfied: aiohttp in /usr/local/lib/python3.10/dist-packages (from datasets) (3.8.5)\n",
            "Collecting huggingface-hub<1.0.0,>=0.14.0 (from datasets)\n",
            "  Downloading huggingface_hub-0.16.4-py3-none-any.whl (268 kB)\n",
            "\u001b[2K     \u001b[90m━━━━━━━━━━━━━━━━━━━━━━━━━━━━━━━━━━━━━━\u001b[0m \u001b[32m268.8/268.8 kB\u001b[0m \u001b[31m34.0 MB/s\u001b[0m eta \u001b[36m0:00:00\u001b[0m\n",
            "\u001b[?25hRequirement already satisfied: packaging in /usr/local/lib/python3.10/dist-packages (from datasets) (23.1)\n",
            "Requirement already satisfied: pyyaml>=5.1 in /usr/local/lib/python3.10/dist-packages (from datasets) (6.0.1)\n",
            "Requirement already satisfied: absl-py>=1.0.0 in /usr/local/lib/python3.10/dist-packages (from tensorflow) (1.4.0)\n",
            "Requirement already satisfied: astunparse>=1.6.0 in /usr/local/lib/python3.10/dist-packages (from tensorflow) (1.6.3)\n",
            "Requirement already satisfied: flatbuffers>=2.0 in /usr/local/lib/python3.10/dist-packages (from tensorflow) (23.5.26)\n",
            "Requirement already satisfied: gast<=0.4.0,>=0.2.1 in /usr/local/lib/python3.10/dist-packages (from tensorflow) (0.4.0)\n",
            "Requirement already satisfied: google-pasta>=0.1.1 in /usr/local/lib/python3.10/dist-packages (from tensorflow) (0.2.0)\n",
            "Requirement already satisfied: grpcio<2.0,>=1.24.3 in /usr/local/lib/python3.10/dist-packages (from tensorflow) (1.56.2)\n",
            "Requirement already satisfied: h5py>=2.9.0 in /usr/local/lib/python3.10/dist-packages (from tensorflow) (3.8.0)\n",
            "Requirement already satisfied: jax>=0.3.15 in /usr/local/lib/python3.10/dist-packages (from tensorflow) (0.4.13)\n",
            "Requirement already satisfied: keras<2.13,>=2.12.0 in /usr/local/lib/python3.10/dist-packages (from tensorflow) (2.12.0)\n",
            "Requirement already satisfied: libclang>=13.0.0 in /usr/local/lib/python3.10/dist-packages (from tensorflow) (16.0.6)\n",
            "Requirement already satisfied: opt-einsum>=2.3.2 in /usr/local/lib/python3.10/dist-packages (from tensorflow) (3.3.0)\n",
            "Requirement already satisfied: protobuf!=4.21.0,!=4.21.1,!=4.21.2,!=4.21.3,!=4.21.4,!=4.21.5,<5.0.0dev,>=3.20.3 in /usr/local/lib/python3.10/dist-packages (from tensorflow) (3.20.3)\n",
            "Requirement already satisfied: setuptools in /usr/local/lib/python3.10/dist-packages (from tensorflow) (67.7.2)\n",
            "Requirement already satisfied: six>=1.12.0 in /usr/local/lib/python3.10/dist-packages (from tensorflow) (1.16.0)\n",
            "Requirement already satisfied: tensorboard<2.13,>=2.12 in /usr/local/lib/python3.10/dist-packages (from tensorflow) (2.12.3)\n",
            "Requirement already satisfied: tensorflow-estimator<2.13,>=2.12.0 in /usr/local/lib/python3.10/dist-packages (from tensorflow) (2.12.0)\n",
            "Requirement already satisfied: termcolor>=1.1.0 in /usr/local/lib/python3.10/dist-packages (from tensorflow) (2.3.0)\n",
            "Requirement already satisfied: typing-extensions>=3.6.6 in /usr/local/lib/python3.10/dist-packages (from tensorflow) (4.7.1)\n",
            "Requirement already satisfied: wrapt<1.15,>=1.11.0 in /usr/local/lib/python3.10/dist-packages (from tensorflow) (1.14.1)\n",
            "Requirement already satisfied: tensorflow-io-gcs-filesystem>=0.23.1 in /usr/local/lib/python3.10/dist-packages (from tensorflow) (0.32.0)\n",
            "Requirement already satisfied: click in /usr/local/lib/python3.10/dist-packages (from nltk) (8.1.6)\n",
            "Requirement already satisfied: joblib in /usr/local/lib/python3.10/dist-packages (from nltk) (1.3.1)\n",
            "Requirement already satisfied: regex>=2021.8.3 in /usr/local/lib/python3.10/dist-packages (from nltk) (2022.10.31)\n",
            "Requirement already satisfied: wheel<1.0,>=0.23.0 in /usr/local/lib/python3.10/dist-packages (from astunparse>=1.6.0->tensorflow) (0.41.0)\n",
            "Requirement already satisfied: attrs>=17.3.0 in /usr/local/lib/python3.10/dist-packages (from aiohttp->datasets) (23.1.0)\n",
            "Requirement already satisfied: charset-normalizer<4.0,>=2.0 in /usr/local/lib/python3.10/dist-packages (from aiohttp->datasets) (2.0.12)\n",
            "Requirement already satisfied: multidict<7.0,>=4.5 in /usr/local/lib/python3.10/dist-packages (from aiohttp->datasets) (6.0.4)\n",
            "Requirement already satisfied: async-timeout<5.0,>=4.0.0a3 in /usr/local/lib/python3.10/dist-packages (from aiohttp->datasets) (4.0.2)\n",
            "Requirement already satisfied: yarl<2.0,>=1.0 in /usr/local/lib/python3.10/dist-packages (from aiohttp->datasets) (1.9.2)\n",
            "Requirement already satisfied: frozenlist>=1.1.1 in /usr/local/lib/python3.10/dist-packages (from aiohttp->datasets) (1.4.0)\n",
            "Requirement already satisfied: aiosignal>=1.1.2 in /usr/local/lib/python3.10/dist-packages (from aiohttp->datasets) (1.3.1)\n",
            "Requirement already satisfied: filelock in /usr/local/lib/python3.10/dist-packages (from huggingface-hub<1.0.0,>=0.14.0->datasets) (3.12.2)\n",
            "Requirement already satisfied: ml-dtypes>=0.1.0 in /usr/local/lib/python3.10/dist-packages (from jax>=0.3.15->tensorflow) (0.2.0)\n",
            "Requirement already satisfied: scipy>=1.7 in /usr/local/lib/python3.10/dist-packages (from jax>=0.3.15->tensorflow) (1.10.1)\n",
            "Requirement already satisfied: urllib3<1.27,>=1.21.1 in /usr/local/lib/python3.10/dist-packages (from requests>=2.19.0->datasets) (1.26.16)\n",
            "Requirement already satisfied: certifi>=2017.4.17 in /usr/local/lib/python3.10/dist-packages (from requests>=2.19.0->datasets) (2023.7.22)\n",
            "Requirement already satisfied: idna<4,>=2.5 in /usr/local/lib/python3.10/dist-packages (from requests>=2.19.0->datasets) (3.4)\n",
            "Requirement already satisfied: google-auth<3,>=1.6.3 in /usr/local/lib/python3.10/dist-packages (from tensorboard<2.13,>=2.12->tensorflow) (2.17.3)\n",
            "Requirement already satisfied: google-auth-oauthlib<1.1,>=0.5 in /usr/local/lib/python3.10/dist-packages (from tensorboard<2.13,>=2.12->tensorflow) (1.0.0)\n",
            "Requirement already satisfied: markdown>=2.6.8 in /usr/local/lib/python3.10/dist-packages (from tensorboard<2.13,>=2.12->tensorflow) (3.4.4)\n",
            "Requirement already satisfied: tensorboard-data-server<0.8.0,>=0.7.0 in /usr/local/lib/python3.10/dist-packages (from tensorboard<2.13,>=2.12->tensorflow) (0.7.1)\n",
            "Requirement already satisfied: werkzeug>=1.0.1 in /usr/local/lib/python3.10/dist-packages (from tensorboard<2.13,>=2.12->tensorflow) (2.3.6)\n",
            "Collecting anyascii (from textsearch>=0.0.21->contractions)\n",
            "  Downloading anyascii-0.3.2-py3-none-any.whl (289 kB)\n",
            "\u001b[2K     \u001b[90m━━━━━━━━━━━━━━━━━━━━━━━━━━━━━━━━━━━━━━\u001b[0m \u001b[32m289.9/289.9 kB\u001b[0m \u001b[31m33.3 MB/s\u001b[0m eta \u001b[36m0:00:00\u001b[0m\n",
            "\u001b[?25hCollecting pyahocorasick (from textsearch>=0.0.21->contractions)\n",
            "  Downloading pyahocorasick-2.0.0-cp310-cp310-manylinux_2_5_x86_64.manylinux1_x86_64.manylinux_2_12_x86_64.manylinux2010_x86_64.whl (110 kB)\n",
            "\u001b[2K     \u001b[90m━━━━━━━━━━━━━━━━━━━━━━━━━━━━━━━━━━━━━━\u001b[0m \u001b[32m110.8/110.8 kB\u001b[0m \u001b[31m16.8 MB/s\u001b[0m eta \u001b[36m0:00:00\u001b[0m\n",
            "\u001b[?25hRequirement already satisfied: python-dateutil>=2.8.1 in /usr/local/lib/python3.10/dist-packages (from pandas->datasets) (2.8.2)\n",
            "Requirement already satisfied: pytz>=2020.1 in /usr/local/lib/python3.10/dist-packages (from pandas->datasets) (2022.7.1)\n",
            "Requirement already satisfied: cachetools<6.0,>=2.0.0 in /usr/local/lib/python3.10/dist-packages (from google-auth<3,>=1.6.3->tensorboard<2.13,>=2.12->tensorflow) (5.3.1)\n",
            "Requirement already satisfied: pyasn1-modules>=0.2.1 in /usr/local/lib/python3.10/dist-packages (from google-auth<3,>=1.6.3->tensorboard<2.13,>=2.12->tensorflow) (0.3.0)\n",
            "Requirement already satisfied: rsa<5,>=3.1.4 in /usr/local/lib/python3.10/dist-packages (from google-auth<3,>=1.6.3->tensorboard<2.13,>=2.12->tensorflow) (4.9)\n",
            "Requirement already satisfied: requests-oauthlib>=0.7.0 in /usr/local/lib/python3.10/dist-packages (from google-auth-oauthlib<1.1,>=0.5->tensorboard<2.13,>=2.12->tensorflow) (1.3.1)\n",
            "Requirement already satisfied: MarkupSafe>=2.1.1 in /usr/local/lib/python3.10/dist-packages (from werkzeug>=1.0.1->tensorboard<2.13,>=2.12->tensorflow) (2.1.3)\n",
            "Requirement already satisfied: pyasn1<0.6.0,>=0.4.6 in /usr/local/lib/python3.10/dist-packages (from pyasn1-modules>=0.2.1->google-auth<3,>=1.6.3->tensorboard<2.13,>=2.12->tensorflow) (0.5.0)\n",
            "Requirement already satisfied: oauthlib>=3.0.0 in /usr/local/lib/python3.10/dist-packages (from requests-oauthlib>=0.7.0->google-auth-oauthlib<1.1,>=0.5->tensorboard<2.13,>=2.12->tensorflow) (3.2.2)\n",
            "Installing collected packages: xxhash, rouge, pyahocorasick, dill, anyascii, textsearch, multiprocess, huggingface-hub, contractions, datasets\n",
            "Successfully installed anyascii-0.3.2 contractions-0.1.73 datasets-2.14.3 dill-0.3.7 huggingface-hub-0.16.4 multiprocess-0.70.15 pyahocorasick-2.0.0 rouge-1.0.1 textsearch-0.0.24 xxhash-3.3.0\n"
          ]
        }
      ],
      "source": [
        "! pip install contractions datasets tensorflow nltk rouge"
      ]
    },
    {
      "cell_type": "code",
      "execution_count": null,
      "metadata": {
        "id": "7x5IFN8xWMuY"
      },
      "outputs": [],
      "source": [
        "import contractions\n",
        "import string\n",
        "import re\n",
        "import os\n",
        "import glob\n",
        "import pickle\n",
        "import json\n",
        "import numpy as np\n",
        "import pandas as pd\n",
        "import tensorflow as tf\n",
        "from datasets import load_dataset\n",
        "from rouge import Rouge\n",
        "import gensim.downloader as gensim_api\n",
        "from collections import Counter\n",
        "from matplotlib import pyplot as plt\n",
        "\n",
        "from tensorflow.keras.callbacks import Callback\n",
        "from tensorflow.keras import backend as K\n",
        "from tensorflow.keras.preprocessing.text import Tokenizer\n",
        "from tensorflow.keras.preprocessing.sequence import pad_sequences\n",
        "from tensorflow.keras.models import Model, load_model\n",
        "from tensorflow.keras.layers import Input, LSTM, Embedding, Dense, TimeDistributed\n",
        "from tensorflow.keras.callbacks import EarlyStopping\n",
        "from tensorflow.keras.callbacks import ModelCheckpoint\n",
        "from tensorflow.keras.layers import Bidirectional\n",
        "\n",
        "import nltk\n",
        "from nltk.corpus import stopwords, wordnet\n",
        "from nltk.stem import WordNetLemmatizer\n",
        "from nltk.tokenize import word_tokenize, sent_tokenize"
      ]
    },
    {
      "cell_type": "code",
      "execution_count": null,
      "metadata": {
        "colab": {
          "base_uri": "https://localhost:8080/"
        },
        "id": "ZAS4c1kCYpN9",
        "outputId": "c94dbf4e-5519-4361-99ca-cab936a3e95a"
      },
      "outputs": [
        {
          "name": "stdout",
          "output_type": "stream",
          "text": [
            "Mounted at /content/drive\n"
          ]
        }
      ],
      "source": [
        "from google.colab import drive\n",
        "drive.mount('/content/drive')"
      ]
    },
    {
      "cell_type": "code",
      "execution_count": null,
      "metadata": {
        "colab": {
          "base_uri": "https://localhost:8080/",
          "height": 113,
          "referenced_widgets": [
            "5c3d2cf6a4e04eb9af8e223c073bf860",
            "e88006f613ed4c7ba44585489e21918f",
            "e9cb539754d945f3a1dc736dc211d0d9",
            "e8af555c878a4c7a9a5e1c39fc1dfaae",
            "80b817ba034d47bb949cc6c3ef4bdc79",
            "9b93fea7526f4b8c974d506e741126e7",
            "93933e9af4914549b86f00d2ddd7703d",
            "ea784db488fa4b2b85dad373c5654a9e",
            "8ef4e3b050b3423bbccc45207a071ec8",
            "9ff216683569413892943434a01c7851",
            "c02682ca18384da3b18ba85b87326069",
            "3b97909a3e1c408b9cbf1d7fd1c1294f",
            "04adf857e289476ea6ddb6424ed7f38a",
            "cf1ebe6734d34d98877737952a8ffab6",
            "49e5d416eec34bb7abc88e069cecef02",
            "0fac5bd07afc4cadab1745f22a1fd86e",
            "d97ad14334234a7fb73f8a6d4497d5ee",
            "412c672990694f0ab26e8a4246bf4225",
            "b5e62cbda7d34e70a2e9bb998f67b9ba",
            "1d0819ad206749be8c14921686211d4d",
            "32c6b3c6a50b4d139298b96f7999f947",
            "bf2b0d4ffd5d41ebb767b30daaa524c9",
            "1fd0434f2aae46afa8ca023e5cb9a49f",
            "1ed3df897d1b4ab58aa967d7d7f1159d",
            "13d104939d6f4fa0ab7be6d4e2bdf40e",
            "8310fef84eee4ccdbf4e69b0fce5b914",
            "6cdc5f9b81504801a4058bfc2c286475",
            "5d5e04b44907419eba711dcb28789a18",
            "31ded2b4f55f47288c10955121075e00",
            "2756a0d31e6b45caa0f2d3fa2db93f79",
            "0acf2294789f4df1a62635d616eae3ae",
            "c3c93ee5e1fe4648a31f1c7a4fe147c8",
            "05509c7c26d8472182a21eb25b1c4354"
          ]
        },
        "id": "X47fNOUrWMuZ",
        "outputId": "bbaa4f58-f22d-4a4c-c532-a503ef43b6ba"
      },
      "outputs": [
        {
          "data": {
            "application/vnd.jupyter.widget-view+json": {
              "model_id": "5c3d2cf6a4e04eb9af8e223c073bf860",
              "version_major": 2,
              "version_minor": 0
            },
            "text/plain": [
              "Downloading builder script:   0%|          | 0.00/8.33k [00:00<?, ?B/s]"
            ]
          },
          "metadata": {},
          "output_type": "display_data"
        },
        {
          "data": {
            "application/vnd.jupyter.widget-view+json": {
              "model_id": "3b97909a3e1c408b9cbf1d7fd1c1294f",
              "version_major": 2,
              "version_minor": 0
            },
            "text/plain": [
              "Downloading metadata:   0%|          | 0.00/9.88k [00:00<?, ?B/s]"
            ]
          },
          "metadata": {},
          "output_type": "display_data"
        },
        {
          "data": {
            "application/vnd.jupyter.widget-view+json": {
              "model_id": "1fd0434f2aae46afa8ca023e5cb9a49f",
              "version_major": 2,
              "version_minor": 0
            },
            "text/plain": [
              "Downloading readme:   0%|          | 0.00/15.1k [00:00<?, ?B/s]"
            ]
          },
          "metadata": {},
          "output_type": "display_data"
        }
      ],
      "source": [
        "dataset = load_dataset('cnn_dailymail', '3.0.0', cache_dir=\"/content/drive/MyDrive/aroha/dataset\")"
      ]
    },
    {
      "cell_type": "code",
      "execution_count": null,
      "metadata": {
        "id": "3GZXm3XTWMua"
      },
      "outputs": [],
      "source": [
        "train_data = dataset['train']\n",
        "train_df = pd.DataFrame(train_data).head(50000)"
      ]
    },
    {
      "cell_type": "code",
      "execution_count": null,
      "metadata": {
        "id": "ucRw6scAWMua"
      },
      "outputs": [],
      "source": [
        "validation_data = dataset['validation']\n",
        "validation_df = pd.DataFrame(validation_data)"
      ]
    },
    {
      "cell_type": "code",
      "execution_count": null,
      "metadata": {
        "id": "Flj2AnoUWMua"
      },
      "outputs": [],
      "source": [
        "test_data = dataset['test']\n",
        "test_df = pd.DataFrame(test_data)"
      ]
    },
    {
      "cell_type": "code",
      "execution_count": null,
      "metadata": {
        "colab": {
          "base_uri": "https://localhost:8080/"
        },
        "id": "NtOWw9qCWMub",
        "outputId": "07a4c74f-44ef-4dcb-91f3-f070082bd66c"
      },
      "outputs": [
        {
          "name": "stderr",
          "output_type": "stream",
          "text": [
            "[nltk_data] Downloading package wordnet to /root/nltk_data...\n",
            "[nltk_data] Downloading package punkt to /root/nltk_data...\n",
            "[nltk_data]   Unzipping tokenizers/punkt.zip.\n",
            "[nltk_data] Downloading package stopwords to /root/nltk_data...\n",
            "[nltk_data]   Unzipping corpora/stopwords.zip.\n"
          ]
        }
      ],
      "source": [
        "nltk.download('wordnet')\n",
        "nltk.download('punkt')\n",
        "nltk.download('stopwords')\n",
        "def preprocess_text(text):\n",
        "\n",
        "    text = text.lower()\n",
        "\n",
        "    text = text.translate(str.maketrans(\"\", \"\", string.punctuation))\n",
        "\n",
        "    text = re.sub(r'\\.(?=[^ \\W\\d])', '. ', str(text))\n",
        "\n",
        "    text = re.sub(r\"[^\\w\\s]\", \"\", text)\n",
        "\n",
        "    text = \" \".join([single_word.strip() for single_word in text.split()])\n",
        "\n",
        "    text = ''.join([char for char in text if char.isalpha() or char.isspace()])\n",
        "\n",
        "    tokens = word_tokenize(text)\n",
        "\n",
        "    stop_words = set(stopwords.words('english'))\n",
        "    tokens = [token for token in tokens if token not in stop_words]\n",
        "\n",
        "    lemmatizer = WordNetLemmatizer()\n",
        "    tokens = [lemmatizer.lemmatize(token, wordnet.VERB) for token in tokens]\n",
        "\n",
        "    preprocessed_text = ' '.join(tokens)\n",
        "\n",
        "    preprocessed_text = contractions.fix(preprocessed_text)\n",
        "\n",
        "    return preprocessed_text"
      ]
    },
    {
      "cell_type": "code",
      "execution_count": null,
      "metadata": {
        "id": "AUqAqGziWMub"
      },
      "outputs": [],
      "source": [
        "train_df['article'] = train_df['article'].apply(preprocess_text)\n",
        "train_df['highlights'] = train_df['highlights'].apply(preprocess_text)"
      ]
    },
    {
      "cell_type": "code",
      "execution_count": null,
      "metadata": {
        "id": "PmGSwMU1vWQX"
      },
      "outputs": [],
      "source": [
        "test_df['article'] = test_df['article'].apply(preprocess_text)\n",
        "test_df['highlights'] = test_df['highlights'].apply(preprocess_text)"
      ]
    },
    {
      "cell_type": "code",
      "execution_count": null,
      "metadata": {
        "id": "KfAjBgl4vgNf"
      },
      "outputs": [],
      "source": [
        "validation_df['article'] = validation_df['article'].apply(preprocess_text)\n",
        "validation_df['highlights'] = validation_df['highlights'].apply(preprocess_text)"
      ]
    },
    {
      "cell_type": "code",
      "execution_count": null,
      "metadata": {
        "id": "xhN4Slwl2nnP"
      },
      "outputs": [],
      "source": [
        "# Tokenize the 'article' column\n",
        "article_words = train_df['article'].str.split(expand=True).stack()\n",
        "\n",
        "# Count the occurrences of each word\n",
        "article_word_counts = Counter(article_words)\n",
        "\n",
        "# Convert the Counter object to a DataFrame\n",
        "article_word_counts_df = pd.DataFrame.from_dict(article_word_counts, orient='index').reset_index()\n",
        "\n",
        "# Rename the columns\n",
        "article_word_counts_df.columns = ['word', 'frequency']\n",
        "\n",
        "# Filter the DataFrame to only include words with a frequency greater than 5\n",
        "article_top_words_df = article_word_counts_df[article_word_counts_df['frequency'] > 5]"
      ]
    },
    {
      "cell_type": "code",
      "execution_count": null,
      "metadata": {
        "id": "8FKymEbV35wy"
      },
      "outputs": [],
      "source": [
        "# Tokenize the 'article' column\n",
        "summary_words = train_df['highlights'].str.split(expand=True).stack()\n",
        "\n",
        "# Count the occurrences of each word\n",
        "summary_word_counts = Counter(summary_words)\n",
        "\n",
        "# Convert the Counter object to a DataFrame\n",
        "summary_word_counts_df = pd.DataFrame.from_dict(summary_word_counts, orient='index').reset_index()\n",
        "\n",
        "# Rename the columns\n",
        "summary_word_counts_df.columns = ['word', 'frequency']\n",
        "\n",
        "# Filter the DataFrame to only include words with a frequency greater than 5\n",
        "summary_top_words_df = summary_word_counts_df[summary_word_counts_df['frequency'] > 5]"
      ]
    },
    {
      "cell_type": "code",
      "execution_count": null,
      "metadata": {
        "id": "PTr_2iL4WMuc"
      },
      "outputs": [],
      "source": [
        "train_articles = train_df['article'].tolist()\n",
        "train_summaries = train_df['highlights'].tolist()"
      ]
    },
    {
      "cell_type": "code",
      "execution_count": null,
      "metadata": {
        "id": "q203VzGxWMuc"
      },
      "outputs": [],
      "source": [
        "test_articles = test_df['article'].tolist()\n",
        "test_summaries = test_df['highlights'].tolist()"
      ]
    },
    {
      "cell_type": "code",
      "execution_count": null,
      "metadata": {
        "id": "t94sWdLnWMuc"
      },
      "outputs": [],
      "source": [
        "validation_articles = validation_df['article'].tolist()\n",
        "validation_summaries = validation_df['highlights'].tolist()"
      ]
    },
    {
      "cell_type": "code",
      "execution_count": null,
      "metadata": {
        "id": "n4DNo4DUWMuc"
      },
      "outputs": [],
      "source": [
        "# add start and end tokens to articles and summaries\n",
        "train_articles = ['<start> ' + article + ' <end>' for article in train_articles]\n",
        "train_summaries = ['<start> ' + summary + ' <end>' for summary in train_summaries]\n",
        "\n",
        "validation_articles = ['<start> ' + article + ' <end>' for article in validation_articles]\n",
        "validation_summaries = ['<start> ' + summary + ' <end>' for summary in validation_summaries]\n",
        "\n",
        "test_articles = ['<start> ' + article + ' <end>' for article in test_articles]\n",
        "test_summaries = ['<start> ' + summary + ' <end>' for summary in test_summaries]"
      ]
    },
    {
      "cell_type": "code",
      "execution_count": null,
      "metadata": {
        "id": "R8NivVTGAzxa"
      },
      "outputs": [],
      "source": [
        "train_articles_tokens = [sentence.split() for sentence in train_articles]\n",
        "train_summaries_tokens = [sentence.split() for sentence in train_summaries]"
      ]
    },
    {
      "cell_type": "code",
      "execution_count": null,
      "metadata": {
        "id": "9rD6TnhbWMuc"
      },
      "outputs": [],
      "source": [
        "article_tokenizer = Tokenizer(num_words=len(article_top_words_df), oov_token=None, lower=False, char_level=False)\n",
        "article_tokenizer.fit_on_texts(train_articles_tokens)\n",
        "\n",
        "summary_tokenizer = Tokenizer(num_words=len(summary_top_words_df), oov_token=None, lower=False, char_level=False)\n",
        "summary_tokenizer.fit_on_texts(train_summaries_tokens)"
      ]
    },
    {
      "cell_type": "code",
      "execution_count": null,
      "metadata": {
        "id": "eSb7XikD9SNv"
      },
      "outputs": [],
      "source": [
        "article_vocabulary = {\"<PAD>\":0}\n",
        "article_words = dict(list(article_tokenizer.word_index.items())[0:len(article_top_words_df)+1])\n",
        "article_vocabulary.update(article_words)"
      ]
    },
    {
      "cell_type": "code",
      "execution_count": null,
      "metadata": {
        "id": "AjxvoeXy-BWH"
      },
      "outputs": [],
      "source": [
        "summary_vocabulary = {\"<PAD>\":0}\n",
        "summary_words = dict(list(summary_tokenizer.word_index.items())[0:len(summary_top_words_df)+1])\n",
        "summary_vocabulary.update(summary_words)"
      ]
    },
    {
      "cell_type": "code",
      "execution_count": null,
      "metadata": {
        "id": "KGrH589_WMuc"
      },
      "outputs": [],
      "source": [
        "train_articles_seq = article_tokenizer.texts_to_sequences(train_articles)\n",
        "train_summaries_seq = summary_tokenizer.texts_to_sequences(train_summaries)\n",
        "\n",
        "validation_articles_seq = article_tokenizer.texts_to_sequences(validation_articles)\n",
        "validation_summaries_seq = summary_tokenizer.texts_to_sequences(validation_summaries)\n",
        "\n",
        "test_articles_seq = article_tokenizer.texts_to_sequences(test_articles)\n",
        "test_summaries_seq = summary_tokenizer.texts_to_sequences(test_summaries)"
      ]
    },
    {
      "cell_type": "code",
      "execution_count": null,
      "metadata": {
        "id": "xTGb0A71WMud"
      },
      "outputs": [],
      "source": [
        "article_max_len = 500\n",
        "summary_max_len = 50\n",
        "\n",
        "train_articles_seq = pad_sequences(train_articles_seq, maxlen=article_max_len, padding='post', truncating=\"post\")\n",
        "train_summaries_seq = pad_sequences(train_summaries_seq, maxlen=summary_max_len, padding='post', truncating=\"post\")"
      ]
    },
    {
      "cell_type": "code",
      "execution_count": null,
      "metadata": {
        "id": "NADT-FaNWMud"
      },
      "outputs": [],
      "source": [
        "validation_articles_seq = pad_sequences(validation_articles_seq, maxlen=article_max_len, padding='post', truncating=\"post\")\n",
        "validation_summaries_seq = pad_sequences(validation_summaries_seq, maxlen=summary_max_len, padding='post', truncating=\"post\")"
      ]
    },
    {
      "cell_type": "code",
      "execution_count": null,
      "metadata": {
        "id": "_ayoZk8yWMud"
      },
      "outputs": [],
      "source": [
        "test_articles_seq = pad_sequences(test_articles_seq, maxlen=article_max_len, padding='post', truncating=\"post\")\n",
        "test_summaries_seq = pad_sequences(test_summaries_seq, maxlen=summary_max_len, padding='post', truncating=\"post\")"
      ]
    },
    {
      "cell_type": "code",
      "execution_count": null,
      "metadata": {
        "colab": {
          "base_uri": "https://localhost:8080/"
        },
        "id": "76Wki6ktFaqr",
        "outputId": "cbbd7d53-6bed-483e-cf09-74338d496074"
      },
      "outputs": [
        {
          "name": "stdout",
          "output_type": "stream",
          "text": [
            "[==================================================] 100.0% 376.1/376.1MB downloaded\n"
          ]
        }
      ],
      "source": [
        "glove_model = gensim_api.load(\"glove-wiki-gigaword-300\")"
      ]
    },
    {
      "cell_type": "code",
      "execution_count": null,
      "metadata": {
        "id": "U9_rxhLVG_ij"
      },
      "outputs": [],
      "source": [
        "article_embeddings = np.zeros((len(article_vocabulary)+1, glove_model.vector_size))\n",
        "for word,index in article_vocabulary.items():\n",
        "    try:\n",
        "        article_embeddings[index] =  glove_model[word]\n",
        "    except:\n",
        "        pass"
      ]
    },
    {
      "cell_type": "code",
      "execution_count": null,
      "metadata": {
        "id": "Ji7i9ot-Gfel"
      },
      "outputs": [],
      "source": [
        "summary_embeddings = np.zeros((len(summary_vocabulary)+1, glove_model.vector_size))\n",
        "for word,index in article_vocabulary.items():\n",
        "    try:\n",
        "        summary_embeddings[index] =  glove_model[word]\n",
        "    except:\n",
        "        pass"
      ]
    },
    {
      "cell_type": "code",
      "execution_count": null,
      "metadata": {
        "id": "8jC_0gjmWMud"
      },
      "outputs": [],
      "source": [
        "embedding_dim = 300"
      ]
    },
    {
      "cell_type": "code",
      "execution_count": null,
      "metadata": {
        "id": "rDhLaUAqik5Q"
      },
      "outputs": [],
      "source": [
        "article_vocab_size = len(article_tokenizer.word_index) + 1\n",
        "summary_vocab_size = len(summary_tokenizer.word_index) + 1"
      ]
    },
    {
      "cell_type": "code",
      "execution_count": null,
      "metadata": {
        "id": "tFgKT9NvWMuj"
      },
      "outputs": [],
      "source": [
        "with open('/content/drive/MyDrive/aroha/seq2seq_pg/article_tokenizer.pickle', 'wb') as handle:\n",
        "    pickle.dump(article_tokenizer, handle, protocol=pickle.HIGHEST_PROTOCOL)"
      ]
    },
    {
      "cell_type": "code",
      "execution_count": null,
      "metadata": {
        "id": "qkLPbF-jWMuj"
      },
      "outputs": [],
      "source": [
        "with open('/content/drive/MyDrive/aroha/seq2seq_pg/summary_tokenizer.pickle', 'wb') as handle:\n",
        "    pickle.dump(summary_tokenizer, handle, protocol=pickle.HIGHEST_PROTOCOL)"
      ]
    },
    {
      "cell_type": "code",
      "execution_count": null,
      "metadata": {
        "colab": {
          "base_uri": "https://localhost:8080/"
        },
        "id": "h4-d5oHrXoP_",
        "outputId": "7538a792-0af8-41c1-b4df-b29713dc8f90"
      },
      "outputs": [
        {
          "name": "stderr",
          "output_type": "stream",
          "text": [
            "WARNING:tensorflow:Layer encoder_lstm1 will not use cuDNN kernels since it doesn't meet the criteria. It will use a generic GPU kernel as fallback when running on GPU.\n",
            "WARNING:tensorflow:Layer encoder_lstm1 will not use cuDNN kernels since it doesn't meet the criteria. It will use a generic GPU kernel as fallback when running on GPU.\n",
            "WARNING:tensorflow:Layer encoder_lstm1 will not use cuDNN kernels since it doesn't meet the criteria. It will use a generic GPU kernel as fallback when running on GPU.\n",
            "WARNING:tensorflow:Layer encoder_lstm2 will not use cuDNN kernels since it doesn't meet the criteria. It will use a generic GPU kernel as fallback when running on GPU.\n",
            "WARNING:tensorflow:Layer encoder_lstm2 will not use cuDNN kernels since it doesn't meet the criteria. It will use a generic GPU kernel as fallback when running on GPU.\n",
            "WARNING:tensorflow:Layer encoder_lstm2 will not use cuDNN kernels since it doesn't meet the criteria. It will use a generic GPU kernel as fallback when running on GPU.\n",
            "WARNING:tensorflow:Layer encoder_lstm3 will not use cuDNN kernels since it doesn't meet the criteria. It will use a generic GPU kernel as fallback when running on GPU.\n",
            "WARNING:tensorflow:Layer encoder_lstm3 will not use cuDNN kernels since it doesn't meet the criteria. It will use a generic GPU kernel as fallback when running on GPU.\n",
            "WARNING:tensorflow:Layer encoder_lstm3 will not use cuDNN kernels since it doesn't meet the criteria. It will use a generic GPU kernel as fallback when running on GPU.\n",
            "WARNING:tensorflow:Layer decoder_lstm will not use cuDNN kernels since it doesn't meet the criteria. It will use a generic GPU kernel as fallback when running on GPU.\n"
          ]
        }
      ],
      "source": [
        "# Encoder\n",
        "encoder_inputs = Input(shape=(article_max_len,), name = \"encoder_inputs\")\n",
        "encoder_embedding = Embedding(article_embeddings.shape[0], embedding_dim, weights=[article_embeddings], name = \"encoder_embedding\")(encoder_inputs)\n",
        "encoder_lstm1 = Bidirectional(LSTM(128, return_sequences=True, return_state=True, dropout=0.4, recurrent_dropout=0.4, name = \"encoder_lstm1\"))\n",
        "encoder_outputs1, forward_h1, forward_c1, backward_h1, backward_c1 = encoder_lstm1(encoder_embedding)\n",
        "encoder_lstm2 = Bidirectional(LSTM(128, return_sequences=True, return_state=True, dropout=0.4, recurrent_dropout=0.4, name = \"encoder_lstm2\"))\n",
        "encoder_outputs2, forward_h2, forward_c2, backward_h2, backward_c2 = encoder_lstm2(encoder_outputs1)\n",
        "encoder_lstm3 = Bidirectional(LSTM(128, return_sequences=True, return_state=True, dropout=0.4, recurrent_dropout=0.4, name = \"encoder_lstm3\"))\n",
        "encoder_outputs, forward_h3, forward_c3, backward_h3, backward_c3 = encoder_lstm3(encoder_outputs2)\n",
        "state_h = tf.keras.layers.Concatenate()([forward_h3, backward_h3])\n",
        "state_c = tf.keras.layers.Concatenate()([forward_c3, backward_c3])\n",
        "encoder_states = [state_h, state_c]\n",
        "\n",
        "# Decoder\n",
        "decoder_inputs = Input(shape=(None,), name = \"decoder_inputs\")\n",
        "decoder_embedding = Embedding(summary_embeddings.shape[0], embedding_dim, weights=[summary_embeddings], trainable=False, name = \"decoder_embedding\")(decoder_inputs)\n",
        "decoder_lstm = LSTM(256, dropout=0.2, recurrent_dropout=0.2, return_sequences=True, return_state=True, name = \"decoder_lstm\")\n",
        "decoder_outputs, _, _ = decoder_lstm(decoder_embedding, initial_state=encoder_states)\n",
        "\n",
        "# Attention mechanism\n",
        "attention = tf.keras.layers.Attention(name = \"attention\")([decoder_outputs, encoder_outputs])\n",
        "context_vector = tf.keras.layers.Concatenate(axis=-1)([decoder_outputs, attention])\n",
        "\n",
        "# Pointer network\n",
        "pointer_logits = TimeDistributed(Dense(1, name = \"pointer\"))(context_vector)\n",
        "pointer_probs = tf.keras.layers.Softmax(axis=-1)(pointer_logits)\n",
        "\n",
        "# Output gate\n",
        "# output_gate = TimeDistributed(Dense(1, activation='sigmoid'))(context_vector)\n",
        "output_gate = Dense(1, activation='sigmoid', kernel_regularizer='l2')(context_vector)\n",
        "\n",
        "# Final probabilities\n",
        "vocab_logits = TimeDistributed(Dense(len(summary_vocabulary), name = \"dense\"))(decoder_outputs)\n",
        "vocab_probs = tf.keras.layers.Softmax(axis=-1)(vocab_logits)\n",
        "\n",
        "# Calculate final output distribution\n",
        "final_probs = output_gate * vocab_probs + 1.5 * (1 - output_gate) * pointer_probs\n",
        "\n",
        "model = Model([encoder_inputs, decoder_inputs], final_probs, name=\"Seq2Seq_pg\")"
      ]
    },
    {
      "cell_type": "code",
      "execution_count": null,
      "metadata": {
        "colab": {
          "base_uri": "https://localhost:8080/"
        },
        "id": "kQzx8_EfWMui",
        "outputId": "efce7f6e-7529-4883-ce51-a5032f2c0a6c"
      },
      "outputs": [
        {
          "name": "stdout",
          "output_type": "stream",
          "text": [
            "Model: \"Seq2Seq_pg\"\n",
            "__________________________________________________________________________________________________\n",
            " Layer (type)                   Output Shape         Param #     Connected to                     \n",
            "==================================================================================================\n",
            " encoder_inputs (InputLayer)    [(None, 500)]        0           []                               \n",
            "                                                                                                  \n",
            " encoder_embedding (Embedding)  (None, 500, 300)     18576300    ['encoder_inputs[0][0]']         \n",
            "                                                                                                  \n",
            " bidirectional (Bidirectional)  [(None, 500, 256),   439296      ['encoder_embedding[0][0]']      \n",
            "                                 (None, 128),                                                     \n",
            "                                 (None, 128),                                                     \n",
            "                                 (None, 128),                                                     \n",
            "                                 (None, 128)]                                                     \n",
            "                                                                                                  \n",
            " bidirectional_1 (Bidirectional  [(None, 500, 256),  394240      ['bidirectional[0][0]']          \n",
            " )                               (None, 128),                                                     \n",
            "                                 (None, 128),                                                     \n",
            "                                 (None, 128),                                                     \n",
            "                                 (None, 128)]                                                     \n",
            "                                                                                                  \n",
            " decoder_inputs (InputLayer)    [(None, None)]       0           []                               \n",
            "                                                                                                  \n",
            " bidirectional_2 (Bidirectional  [(None, 500, 256),  394240      ['bidirectional_1[0][0]']        \n",
            " )                               (None, 128),                                                     \n",
            "                                 (None, 128),                                                     \n",
            "                                 (None, 128),                                                     \n",
            "                                 (None, 128)]                                                     \n",
            "                                                                                                  \n",
            " decoder_embedding (Embedding)  (None, None, 300)    4717800     ['decoder_inputs[0][0]']         \n",
            "                                                                                                  \n",
            " concatenate (Concatenate)      (None, 256)          0           ['bidirectional_2[0][1]',        \n",
            "                                                                  'bidirectional_2[0][3]']        \n",
            "                                                                                                  \n",
            " concatenate_1 (Concatenate)    (None, 256)          0           ['bidirectional_2[0][2]',        \n",
            "                                                                  'bidirectional_2[0][4]']        \n",
            "                                                                                                  \n",
            " decoder_lstm (LSTM)            [(None, None, 256),  570368      ['decoder_embedding[0][0]',      \n",
            "                                 (None, 256),                     'concatenate[0][0]',            \n",
            "                                 (None, 256)]                     'concatenate_1[0][0]']          \n",
            "                                                                                                  \n",
            " attention (Attention)          (None, None, 256)    0           ['decoder_lstm[0][0]',           \n",
            "                                                                  'bidirectional_2[0][0]']        \n",
            "                                                                                                  \n",
            " concatenate_2 (Concatenate)    (None, None, 512)    0           ['decoder_lstm[0][0]',           \n",
            "                                                                  'attention[0][0]']              \n",
            "                                                                                                  \n",
            " dense (Dense)                  (None, None, 1)      513         ['concatenate_2[0][0]']          \n",
            "                                                                                                  \n",
            " time_distributed_1 (TimeDistri  (None, None, 15725)  4041325    ['decoder_lstm[0][0]']           \n",
            " buted)                                                                                           \n",
            "                                                                                                  \n",
            " tf.math.subtract (TFOpLambda)  (None, None, 1)      0           ['dense[0][0]']                  \n",
            "                                                                                                  \n",
            " time_distributed (TimeDistribu  (None, None, 1)     513         ['concatenate_2[0][0]']          \n",
            " ted)                                                                                             \n",
            "                                                                                                  \n",
            " softmax_1 (Softmax)            (None, None, 15725)  0           ['time_distributed_1[0][0]']     \n",
            "                                                                                                  \n",
            " tf.math.multiply_1 (TFOpLambda  (None, None, 1)     0           ['tf.math.subtract[0][0]']       \n",
            " )                                                                                                \n",
            "                                                                                                  \n",
            " softmax (Softmax)              (None, None, 1)      0           ['time_distributed[0][0]']       \n",
            "                                                                                                  \n",
            " tf.math.multiply (TFOpLambda)  (None, None, 15725)  0           ['dense[0][0]',                  \n",
            "                                                                  'softmax_1[0][0]']              \n",
            "                                                                                                  \n",
            " tf.math.multiply_2 (TFOpLambda  (None, None, 1)     0           ['tf.math.multiply_1[0][0]',     \n",
            " )                                                                'softmax[0][0]']                \n",
            "                                                                                                  \n",
            " tf.__operators__.add (TFOpLamb  (None, None, 15725)  0          ['tf.math.multiply[0][0]',       \n",
            " da)                                                              'tf.math.multiply_2[0][0]']     \n",
            "                                                                                                  \n",
            "==================================================================================================\n",
            "Total params: 29,134,595\n",
            "Trainable params: 24,416,795\n",
            "Non-trainable params: 4,717,800\n",
            "__________________________________________________________________________________________________\n"
          ]
        }
      ],
      "source": [
        "# Compile the model\n",
        "model.compile(optimizer='adam', loss='sparse_categorical_crossentropy')\n",
        "\n",
        "# Define early stopping callback\n",
        "early_stopping = EarlyStopping(monitor='val_loss', patience=3, mode='min', verbose=1)\n",
        "\n",
        "# Print the model summary\n",
        "model.summary()"
      ]
    },
    {
      "cell_type": "code",
      "execution_count": null,
      "metadata": {
        "colab": {
          "base_uri": "https://localhost:8080/"
        },
        "id": "PRHA5fR8WMui",
        "outputId": "aa2d7224-22d6-4ab8-fdcc-d5cfd040c18f"
      },
      "outputs": [
        {
          "name": "stderr",
          "output_type": "stream",
          "text": [
            "WARNING:tensorflow:`period` argument is deprecated. Please use `save_freq` to specify the frequency in number of batches seen.\n"
          ]
        }
      ],
      "source": [
        "checkpoint_path = \"/content/drive/MyDrive/aroha/seq2seq_pg/checkpoints/seq2seq_pg.h5\"\n",
        "checkpoint = ModelCheckpoint(checkpoint_path, period=5, save_weights_only=False, verbose=1)"
      ]
    },
    {
      "cell_type": "code",
      "execution_count": null,
      "metadata": {
        "id": "dIkmALmMS3-4"
      },
      "outputs": [],
      "source": [
        "def get_last_epoch(params_file):\n",
        "    last_epoch = None\n",
        "    with open(params_file, 'r') as f:\n",
        "        lines = f.readlines()\n",
        "        if lines:\n",
        "            last_data = json.loads(lines[-1])\n",
        "            last_epoch = last_data['epoch']\n",
        "    return last_epoch"
      ]
    },
    {
      "cell_type": "code",
      "execution_count": null,
      "metadata": {
        "id": "Z9bM01TVRZke"
      },
      "outputs": [],
      "source": [
        "class SaveParamsCallback(Callback):\n",
        "    def __init__(self, params_file):\n",
        "        super().__init__()\n",
        "        self.params_file = params_file\n",
        "\n",
        "    def on_epoch_end(self, epoch, logs=None):\n",
        "        if os.path.exists(checkpoint_path):\n",
        "            completed_epochs = get_last_epoch(params_path)\n",
        "            data = {\n",
        "                'epoch': completed_epochs + 1,\n",
        "                'train_loss': logs['loss'],\n",
        "                'val_loss': logs['val_loss']\n",
        "            }\n",
        "            with open(self.params_file, 'a') as f:\n",
        "                json.dump(data, f)\n",
        "                f.write('\\n')\n",
        "        else:\n",
        "            data = {\n",
        "                'epoch': epoch + 1,\n",
        "                'train_loss': logs['loss'],\n",
        "                'val_loss': logs['val_loss']\n",
        "            }\n",
        "            with open(self.params_file, 'a') as f:\n",
        "                json.dump(data, f)\n",
        "                f.write('\\n')"
      ]
    },
    {
      "cell_type": "code",
      "execution_count": null,
      "metadata": {
        "id": "uEyiPV68R4T6"
      },
      "outputs": [],
      "source": [
        "params_path = \"/content/drive/MyDrive/aroha/seq2seq_pg/checkpoints/params.txt\"\n",
        "save_params = SaveParamsCallback(params_path)"
      ]
    },
    {
      "cell_type": "code",
      "execution_count": null,
      "metadata": {
        "id": "IGqdVB96glNV"
      },
      "outputs": [],
      "source": [
        "def remove_lines_from_epoch(params_file, starting_epoch):\n",
        "    # Read the file and parse each line\n",
        "    with open(params_file, 'r') as f:\n",
        "        lines = f.readlines()\n",
        "\n",
        "    # Filter lines up to the starting_epoch\n",
        "    kept_lines = [line for line in lines if json.loads(line)['epoch'] <= starting_epoch]\n",
        "\n",
        "    # Write the kept lines back to the file\n",
        "    with open(params_file, 'w') as f:\n",
        "        f.writelines(kept_lines)"
      ]
    },
    {
      "cell_type": "code",
      "execution_count": 40,
      "metadata": {
        "colab": {
          "base_uri": "https://localhost:8080/"
        },
        "id": "QP4wYCl6WMuj",
        "outputId": "215f8275-afcf-4bdd-decb-b11742c5015e"
      },
      "outputs": [
        {
          "name": "stderr",
          "output_type": "stream",
          "text": [
            "WARNING:tensorflow:Layer encoder_lstm1 will not use cuDNN kernels since it doesn't meet the criteria. It will use a generic GPU kernel as fallback when running on GPU.\n",
            "WARNING:tensorflow:Layer encoder_lstm1 will not use cuDNN kernels since it doesn't meet the criteria. It will use a generic GPU kernel as fallback when running on GPU.\n",
            "WARNING:tensorflow:Layer encoder_lstm1 will not use cuDNN kernels since it doesn't meet the criteria. It will use a generic GPU kernel as fallback when running on GPU.\n",
            "WARNING:tensorflow:Layer encoder_lstm2 will not use cuDNN kernels since it doesn't meet the criteria. It will use a generic GPU kernel as fallback when running on GPU.\n",
            "WARNING:tensorflow:Layer encoder_lstm2 will not use cuDNN kernels since it doesn't meet the criteria. It will use a generic GPU kernel as fallback when running on GPU.\n",
            "WARNING:tensorflow:Layer encoder_lstm2 will not use cuDNN kernels since it doesn't meet the criteria. It will use a generic GPU kernel as fallback when running on GPU.\n",
            "WARNING:tensorflow:Layer encoder_lstm3 will not use cuDNN kernels since it doesn't meet the criteria. It will use a generic GPU kernel as fallback when running on GPU.\n",
            "WARNING:tensorflow:Layer encoder_lstm3 will not use cuDNN kernels since it doesn't meet the criteria. It will use a generic GPU kernel as fallback when running on GPU.\n",
            "WARNING:tensorflow:Layer encoder_lstm3 will not use cuDNN kernels since it doesn't meet the criteria. It will use a generic GPU kernel as fallback when running on GPU.\n",
            "WARNING:tensorflow:Layer decoder_lstm will not use cuDNN kernels since it doesn't meet the criteria. It will use a generic GPU kernel as fallback when running on GPU.\n"
          ]
        },
        {
          "name": "stdout",
          "output_type": "stream",
          "text": [
            "Completed epochs: 20\n",
            "Restarting training from:  20\n",
            "Epoch 1/30\n",
            "391/391 [==============================] - 3742s 10s/step - loss: 0.0297 - val_loss: 0.0366\n",
            "Epoch 2/30\n",
            "391/391 [==============================] - 3705s 9s/step - loss: 0.0288 - val_loss: 0.0360\n",
            "Epoch 3/30\n",
            "391/391 [==============================] - 3699s 9s/step - loss: 0.0280 - val_loss: 0.0361\n",
            "Epoch 4/30\n",
            "391/391 [==============================] - 3687s 9s/step - loss: 0.0276 - val_loss: 0.0364\n",
            "Epoch 5/30\n",
            "391/391 [==============================] - ETA: 0s - loss: 0.0269\n",
            "Epoch 5: saving model to /content/drive/MyDrive/aroha/seq2seq_pg/checkpoints/seq2seq_pg.h5\n",
            "391/391 [==============================] - 3676s 9s/step - loss: 0.0269 - val_loss: 0.0353\n",
            "Epoch 6/30\n",
            "391/391 [==============================] - 3671s 9s/step - loss: 0.0260 - val_loss: 0.0353\n",
            "Epoch 7/30\n",
            "391/391 [==============================] - 3674s 9s/step - loss: 0.0253 - val_loss: 0.0352\n",
            "Epoch 8/30\n",
            "391/391 [==============================] - 3666s 9s/step - loss: 0.0244 - val_loss: 0.0353\n",
            "Epoch 9/30\n",
            "391/391 [==============================] - 3673s 9s/step - loss: 0.0238 - val_loss: 0.0347\n",
            "Epoch 10/30\n",
            "391/391 [==============================] - ETA: 0s - loss: 0.0232\n",
            "Epoch 10: saving model to /content/drive/MyDrive/aroha/seq2seq_pg/checkpoints/seq2seq_pg.h5\n",
            "391/391 [==============================] - 3679s 9s/step - loss: 0.0232 - val_loss: 0.0351\n",
            "Epoch 11/30\n",
            "391/391 [==============================] - 3669s 9s/step - loss: 0.0225 - val_loss: 0.0341\n",
            "Epoch 12/30\n",
            "391/391 [==============================] - 3668s 9s/step - loss: 0.0218 - val_loss: 0.0341\n",
            "Epoch 13/30\n",
            "391/391 [==============================] - 3678s 9s/step - loss: 0.0210 - val_loss: 0.0340\n",
            "Epoch 14/30\n",
            "391/391 [==============================] - 3675s 9s/step - loss: 0.0204 - val_loss: 0.0338\n",
            "Epoch 15/30\n",
            "391/391 [==============================] - ETA: 0s - loss: 0.0197\n",
            "Epoch 15: saving model to /content/drive/MyDrive/aroha/seq2seq_pg/checkpoints/seq2seq_pg.h5\n",
            "391/391 [==============================] - 3662s 9s/step - loss: 0.0197 - val_loss: 0.0340\n",
            "Epoch 16/30\n",
            "391/391 [==============================] - 3675s 9s/step - loss: 0.0192 - val_loss: 0.0337\n",
            "Epoch 17/30\n",
            "391/391 [==============================] - 3668s 9s/step - loss: 0.0184 - val_loss: 0.0337\n",
            "Epoch 18/30\n",
            "391/391 [==============================] - 3667s 9s/step - loss: 0.0178 - val_loss: 0.0335\n",
            "Epoch 19/30\n",
            "391/391 [==============================] - 3673s 9s/step - loss: 0.0174 - val_loss: 0.0337\n",
            "Epoch 20/30\n",
            "391/391 [==============================] - ETA: 0s - loss: 0.0169\n",
            "Epoch 20: saving model to /content/drive/MyDrive/aroha/seq2seq_pg/checkpoints/seq2seq_pg.h5\n",
            "391/391 [==============================] - 3663s 9s/step - loss: 0.0169 - val_loss: 0.0341\n",
            "Epoch 21/30\n",
            "391/391 [==============================] - 3672s 9s/step - loss: 0.0164 - val_loss: 0.0338\n",
            "Epoch 21: early stopping\n"
          ]
        }
      ],
      "source": [
        "epochs = 50\n",
        "\n",
        "if os.path.exists(checkpoint_path):\n",
        "    # Load the model\n",
        "    model = load_model(checkpoint_path)\n",
        "    completed_epochs = get_last_epoch(params_path)\n",
        "    print('Completed epochs:', completed_epochs)\n",
        "    restart_epoch = (completed_epochs // 5) * 5\n",
        "    print('Restarting training from: ', restart_epoch)\n",
        "    remove_lines_from_epoch(params_path, restart_epoch)\n",
        "    history = model.fit(\n",
        "    [train_articles_seq, train_summaries_seq],\n",
        "    np.expand_dims(train_summaries_seq, axis=-1),\n",
        "    validation_data=(\n",
        "        [validation_articles_seq, validation_summaries_seq],\n",
        "        np.expand_dims(validation_summaries_seq, axis=-1)),\n",
        "    epochs=epochs - restart_epoch,\n",
        "    batch_size=128,\n",
        "    callbacks=[early_stopping, checkpoint, save_params]\n",
        "    )\n",
        "else:\n",
        "    # model fit from start if it doesn't already exist\n",
        "    history = model.fit(\n",
        "    [train_articles_seq, train_summaries_seq],\n",
        "    np.expand_dims(train_summaries_seq, axis=-1),\n",
        "    validation_data=(\n",
        "        [validation_articles_seq, validation_summaries_seq],\n",
        "        np.expand_dims(validation_summaries_seq, axis=-1)),\n",
        "    epochs=epochs,\n",
        "    batch_size=128,\n",
        "    callbacks=[early_stopping, checkpoint, save_params]\n",
        "    )"
      ]
    },
    {
      "cell_type": "code",
      "execution_count": 41,
      "metadata": {
        "colab": {
          "base_uri": "https://localhost:8080/",
          "height": 433
        },
        "id": "PB-CcCTcWMuj",
        "outputId": "9b35f507-44e4-49a9-fef4-353ba0cb1fbb"
      },
      "outputs": [
        {
          "data": {
            "image/png": "[encoded data removed]",
            "text/plain": [
              "<Figure size 640x480 with 1 Axes>"
            ]
          },
          "metadata": {},
          "output_type": "display_data"
        }
      ],
      "source": [
        "plt.plot(history.history['loss'], label='train')\n",
        "plt.plot(history.history['val_loss'], label='val')\n",
        "plt.legend()\n",
        "plt.show()"
      ]
    },
    {
      "cell_type": "code",
      "execution_count": 42,
      "metadata": {
        "colab": {
          "base_uri": "https://localhost:8080/",
          "height": 564
        },
        "id": "IPXxcQ3LwSal",
        "outputId": "c71ccb88-ceaf-4b50-b81c-a1f34eb65bd6"
      },
      "outputs": [
        {
          "data": {
            "image/png": "[encoded data removed]",
            "text/plain": [
              "<Figure size 1000x600 with 1 Axes>"
            ]
          },
          "metadata": {},
          "output_type": "display_data"
        }
      ],
      "source": [
        "epochs = []\n",
        "train_losses = []\n",
        "val_losses = []\n",
        "\n",
        "# Read the file and extract losses\n",
        "with open(params_path, 'r') as f:\n",
        "    for line in f:\n",
        "        data = json.loads(line)\n",
        "        epochs.append(data['epoch'])\n",
        "        train_losses.append(data['train_loss'])\n",
        "        val_losses.append(data['val_loss'])\n",
        "\n",
        "# Plot the losses\n",
        "plt.figure(figsize=(10, 6))\n",
        "plt.plot(epochs, train_losses, label='Training Loss', color='blue')\n",
        "plt.plot(epochs, val_losses, label='Validation Loss', color='red')\n",
        "plt.xlabel('Epochs')\n",
        "plt.ylabel('Loss')\n",
        "plt.title('Training and Validation Losses')\n",
        "plt.legend()\n",
        "plt.grid(True)\n",
        "plt.show()"
      ]
    },
    {
      "cell_type": "code",
      "execution_count": 44,
      "metadata": {
        "colab": {
          "base_uri": "https://localhost:8080/"
        },
        "id": "-JrFNlsfWMuk",
        "outputId": "fdf272eb-96cc-48f2-c342-3762b96e8a94"
      },
      "outputs": [
        {
          "name": "stdout",
          "output_type": "stream",
          "text": [
            "360/360 [==============================] - 332s 921ms/step - loss: 0.0325\n",
            "Test Loss: 0.03251456096768379\n"
          ]
        }
      ],
      "source": [
        "loss = model.evaluate(\n",
        "    [test_articles_seq, test_summaries_seq],\n",
        "    tf.expand_dims(test_summaries_seq, axis=-1)\n",
        ")\n",
        "\n",
        "print(\"Test Loss:\", loss)"
      ]
    },
    {
      "cell_type": "code",
      "execution_count": null,
      "metadata": {
        "id": "pp21IjGNhg_y"
      },
      "outputs": [],
      "source": [
        "latent_dim = 128\n",
        "\n",
        "# Inference Encoder\n",
        "encoder_model = Model(encoder_inputs,[encoder_outputs, state_h, state_c], name=\"prediction_encoder\")\n",
        "encoder_model.summary()\n",
        "\n",
        "# New inputs for the encoder outputs and the input sequence\n",
        "encoder_outputs_input = Input(shape=(article_max_len, latent_dim * 2))\n",
        "encoder_inputs = Input(shape=(article_max_len,))\n",
        "\n",
        "# Decoder inputs\n",
        "decoder_hidden_state_input = Input(shape=(article_max_len, latent_dim * 2))\n",
        "decoder_state_input_h = Input(shape=(latent_dim * 2,))\n",
        "decoder_state_input_c = Input(shape=(latent_dim * 2,))\n",
        "decoder_states_inputs = [decoder_state_input_h, decoder_state_input_c]\n",
        "decoder_inputs = Input(shape=(1,))\n",
        "\n",
        "# Decoder LSTM and dense layer\n",
        "decoder_embedding2 = Embedding(input_dim=len(summary_vocabulary), output_dim=embedding_dim,trainable=True)(decoder_inputs)\n",
        "decoder_outputs2, state_h2, state_c2 = LSTM(latent_dim * 2, dropout=0.2, recurrent_dropout=0.2, return_sequences=True, return_state=True)(decoder_embedding2, initial_state=decoder_states_inputs)\n",
        "\n",
        "# Attention mechanism\n",
        "attention = tf.keras.layers.Attention(name = \"attention\")([decoder_outputs2, encoder_outputs_input])\n",
        "context_vector = tf.keras.layers.Concatenate(axis=-1)([decoder_outputs2, attention])\n",
        "\n",
        "# Pointer network\n",
        "pointer_logits = TimeDistributed(Dense(1, name = \"pointer\"))(context_vector)\n",
        "pointer_probs = tf.keras.layers.Softmax(axis=-1)(pointer_logits)  # Convert logits to probabilities\n",
        "\n",
        "# Output gate (generation scalar)\n",
        "output_gate = Dense(1, activation='sigmoid', kernel_regularizer='l2')(context_vector)\n",
        "\n",
        "# Vocabulary probabilities\n",
        "vocab_logits = TimeDistributed(Dense(len(summary_vocabulary), name = \"dense\"))(decoder_outputs2)\n",
        "vocab_probs = tf.keras.layers.Softmax(axis=-1)(vocab_logits)  # Convert logits to probabilities\n",
        "\n",
        "# Calculate final output distribution\n",
        "final_probs = output_gate * vocab_probs + 1.5 * (1 - output_gate) * pointer_probs\n",
        "\n",
        "# Final decoder model\n",
        "decoder_model = Model(\n",
        "    [decoder_inputs, encoder_inputs, encoder_outputs_input] + decoder_states_inputs,\n",
        "    [final_probs, state_h2, state_c2],\n",
        "    name = \"prediction_decoder\"\n",
        ")"
      ]
    },
    {
      "cell_type": "code",
      "execution_count": null,
      "metadata": {
        "id": "vTPoNR7xW3l4"
      },
      "outputs": [],
      "source": [
        "encoder_model.save('/content/drive/MyDrive/aroha/seq2seq_pg/encoder_model.h5')\n",
        "decoder_model.save('/content/drive/MyDrive/aroha/seq2seq_pg/decoder_model.h5')"
      ]
    }
  ],
  "metadata": {
    "accelerator": "GPU",
    "colab": {
      "gpuType": "A100",
      "machine_shape": "hm",
      "provenance": []
    },
    "kernelspec": {
      "display_name": "Python 3",
      "name": "python3"
    },
    "language_info": {
      "codemirror_mode": {
        "name": "ipython",
        "version": 3
      },
      "file_extension": ".py",
      "mimetype": "text/x-python",
      "name": "python",
      "nbconvert_exporter": "python",
      "pygments_lexer": "ipython3",
      "version": "3.9.17"
    },
    "orig_nbformat": 4,
    "widgets": {
      "application/vnd.jupyter.widget-state+json": {
        "04adf857e289476ea6ddb6424ed7f38a": {
          "model_module": "@jupyter-widgets/controls",
          "model_module_version": "1.5.0",
          "model_name": "HTMLModel",
          "state": {
            "_dom_classes": [],
            "_model_module": "@jupyter-widgets/controls",
            "_model_module_version": "1.5.0",
            "_model_name": "HTMLModel",
            "_view_count": null,
            "_view_module": "@jupyter-widgets/controls",
            "_view_module_version": "1.5.0",
            "_view_name": "HTMLView",
            "description": "",
            "description_tooltip": null,
            "layout": "IPY_MODEL_d97ad14334234a7fb73f8a6d4497d5ee",
            "placeholder": "​",
            "style": "IPY_MODEL_412c672990694f0ab26e8a4246bf4225",
            "value": "Downloading metadata: 100%"
          }
        },
        "05509c7c26d8472182a21eb25b1c4354": {
          "model_module": "@jupyter-widgets/controls",
          "model_module_version": "1.5.0",
          "model_name": "DescriptionStyleModel",
          "state": {
            "_model_module": "@jupyter-widgets/controls",
            "_model_module_version": "1.5.0",
            "_model_name": "DescriptionStyleModel",
            "_view_count": null,
            "_view_module": "@jupyter-widgets/base",
            "_view_module_version": "1.2.0",
            "_view_name": "StyleView",
            "description_width": ""
          }
        },
        "0acf2294789f4df1a62635d616eae3ae": {
          "model_module": "@jupyter-widgets/controls",
          "model_module_version": "1.5.0",
          "model_name": "ProgressStyleModel",
          "state": {
            "_model_module": "@jupyter-widgets/controls",
            "_model_module_version": "1.5.0",
            "_model_name": "ProgressStyleModel",
            "_view_count": null,
            "_view_module": "@jupyter-widgets/base",
            "_view_module_version": "1.2.0",
            "_view_name": "StyleView",
            "bar_color": null,
            "description_width": ""
          }
        },
        "0fac5bd07afc4cadab1745f22a1fd86e": {
          "model_module": "@jupyter-widgets/base",
          "model_module_version": "1.2.0",
          "model_name": "LayoutModel",
          "state": {
            "_model_module": "@jupyter-widgets/base",
            "_model_module_version": "1.2.0",
            "_model_name": "LayoutModel",
            "_view_count": null,
            "_view_module": "@jupyter-widgets/base",
            "_view_module_version": "1.2.0",
            "_view_name": "LayoutView",
            "align_content": null,
            "align_items": null,
            "align_self": null,
            "border": null,
            "bottom": null,
            "display": null,
            "flex": null,
            "flex_flow": null,
            "grid_area": null,
            "grid_auto_columns": null,
            "grid_auto_flow": null,
            "grid_auto_rows": null,
            "grid_column": null,
            "grid_gap": null,
            "grid_row": null,
            "grid_template_areas": null,
            "grid_template_columns": null,
            "grid_template_rows": null,
            "height": null,
            "justify_content": null,
            "justify_items": null,
            "left": null,
            "margin": null,
            "max_height": null,
            "max_width": null,
            "min_height": null,
            "min_width": null,
            "object_fit": null,
            "object_position": null,
            "order": null,
            "overflow": null,
            "overflow_x": null,
            "overflow_y": null,
            "padding": null,
            "right": null,
            "top": null,
            "visibility": null,
            "width": null
          }
        },
        "13d104939d6f4fa0ab7be6d4e2bdf40e": {
          "model_module": "@jupyter-widgets/controls",
          "model_module_version": "1.5.0",
          "model_name": "FloatProgressModel",
          "state": {
            "_dom_classes": [],
            "_model_module": "@jupyter-widgets/controls",
            "_model_module_version": "1.5.0",
            "_model_name": "FloatProgressModel",
            "_view_count": null,
            "_view_module": "@jupyter-widgets/controls",
            "_view_module_version": "1.5.0",
            "_view_name": "ProgressView",
            "bar_style": "success",
            "description": "",
            "description_tooltip": null,
            "layout": "IPY_MODEL_2756a0d31e6b45caa0f2d3fa2db93f79",
            "max": 15079,
            "min": 0,
            "orientation": "horizontal",
            "style": "IPY_MODEL_0acf2294789f4df1a62635d616eae3ae",
            "value": 15079
          }
        },
        "1d0819ad206749be8c14921686211d4d": {
          "model_module": "@jupyter-widgets/controls",
          "model_module_version": "1.5.0",
          "model_name": "ProgressStyleModel",
          "state": {
            "_model_module": "@jupyter-widgets/controls",
            "_model_module_version": "1.5.0",
            "_model_name": "ProgressStyleModel",
            "_view_count": null,
            "_view_module": "@jupyter-widgets/base",
            "_view_module_version": "1.2.0",
            "_view_name": "StyleView",
            "bar_color": null,
            "description_width": ""
          }
        },
        "1ed3df897d1b4ab58aa967d7d7f1159d": {
          "model_module": "@jupyter-widgets/controls",
          "model_module_version": "1.5.0",
          "model_name": "HTMLModel",
          "state": {
            "_dom_classes": [],
            "_model_module": "@jupyter-widgets/controls",
            "_model_module_version": "1.5.0",
            "_model_name": "HTMLModel",
            "_view_count": null,
            "_view_module": "@jupyter-widgets/controls",
            "_view_module_version": "1.5.0",
            "_view_name": "HTMLView",
            "description": "",
            "description_tooltip": null,
            "layout": "IPY_MODEL_5d5e04b44907419eba711dcb28789a18",
            "placeholder": "​",
            "style": "IPY_MODEL_31ded2b4f55f47288c10955121075e00",
            "value": "Downloading readme: 100%"
          }
        },
        "1fd0434f2aae46afa8ca023e5cb9a49f": {
          "model_module": "@jupyter-widgets/controls",
          "model_module_version": "1.5.0",
          "model_name": "HBoxModel",
          "state": {
            "_dom_classes": [],
            "_model_module": "@jupyter-widgets/controls",
            "_model_module_version": "1.5.0",
            "_model_name": "HBoxModel",
            "_view_count": null,
            "_view_module": "@jupyter-widgets/controls",
            "_view_module_version": "1.5.0",
            "_view_name": "HBoxView",
            "box_style": "",
            "children": [
              "IPY_MODEL_1ed3df897d1b4ab58aa967d7d7f1159d",
              "IPY_MODEL_13d104939d6f4fa0ab7be6d4e2bdf40e",
              "IPY_MODEL_8310fef84eee4ccdbf4e69b0fce5b914"
            ],
            "layout": "IPY_MODEL_6cdc5f9b81504801a4058bfc2c286475"
          }
        },
        "2756a0d31e6b45caa0f2d3fa2db93f79": {
          "model_module": "@jupyter-widgets/base",
          "model_module_version": "1.2.0",
          "model_name": "LayoutModel",
          "state": {
            "_model_module": "@jupyter-widgets/base",
            "_model_module_version": "1.2.0",
            "_model_name": "LayoutModel",
            "_view_count": null,
            "_view_module": "@jupyter-widgets/base",
            "_view_module_version": "1.2.0",
            "_view_name": "LayoutView",
            "align_content": null,
            "align_items": null,
            "align_self": null,
            "border": null,
            "bottom": null,
            "display": null,
            "flex": null,
            "flex_flow": null,
            "grid_area": null,
            "grid_auto_columns": null,
            "grid_auto_flow": null,
            "grid_auto_rows": null,
            "grid_column": null,
            "grid_gap": null,
            "grid_row": null,
            "grid_template_areas": null,
            "grid_template_columns": null,
            "grid_template_rows": null,
            "height": null,
            "justify_content": null,
            "justify_items": null,
            "left": null,
            "margin": null,
            "max_height": null,
            "max_width": null,
            "min_height": null,
            "min_width": null,
            "object_fit": null,
            "object_position": null,
            "order": null,
            "overflow": null,
            "overflow_x": null,
            "overflow_y": null,
            "padding": null,
            "right": null,
            "top": null,
            "visibility": null,
            "width": null
          }
        },
        "31ded2b4f55f47288c10955121075e00": {
          "model_module": "@jupyter-widgets/controls",
          "model_module_version": "1.5.0",
          "model_name": "DescriptionStyleModel",
          "state": {
            "_model_module": "@jupyter-widgets/controls",
            "_model_module_version": "1.5.0",
            "_model_name": "DescriptionStyleModel",
            "_view_count": null,
            "_view_module": "@jupyter-widgets/base",
            "_view_module_version": "1.2.0",
            "_view_name": "StyleView",
            "description_width": ""
          }
        },
        "32c6b3c6a50b4d139298b96f7999f947": {
          "model_module": "@jupyter-widgets/base",
          "model_module_version": "1.2.0",
          "model_name": "LayoutModel",
          "state": {
            "_model_module": "@jupyter-widgets/base",
            "_model_module_version": "1.2.0",
            "_model_name": "LayoutModel",
            "_view_count": null,
            "_view_module": "@jupyter-widgets/base",
            "_view_module_version": "1.2.0",
            "_view_name": "LayoutView",
            "align_content": null,
            "align_items": null,
            "align_self": null,
            "border": null,
            "bottom": null,
            "display": null,
            "flex": null,
            "flex_flow": null,
            "grid_area": null,
            "grid_auto_columns": null,
            "grid_auto_flow": null,
            "grid_auto_rows": null,
            "grid_column": null,
            "grid_gap": null,
            "grid_row": null,
            "grid_template_areas": null,
            "grid_template_columns": null,
            "grid_template_rows": null,
            "height": null,
            "justify_content": null,
            "justify_items": null,
            "left": null,
            "margin": null,
            "max_height": null,
            "max_width": null,
            "min_height": null,
            "min_width": null,
            "object_fit": null,
            "object_position": null,
            "order": null,
            "overflow": null,
            "overflow_x": null,
            "overflow_y": null,
            "padding": null,
            "right": null,
            "top": null,
            "visibility": null,
            "width": null
          }
        },
        "3b97909a3e1c408b9cbf1d7fd1c1294f": {
          "model_module": "@jupyter-widgets/controls",
          "model_module_version": "1.5.0",
          "model_name": "HBoxModel",
          "state": {
            "_dom_classes": [],
            "_model_module": "@jupyter-widgets/controls",
            "_model_module_version": "1.5.0",
            "_model_name": "HBoxModel",
            "_view_count": null,
            "_view_module": "@jupyter-widgets/controls",
            "_view_module_version": "1.5.0",
            "_view_name": "HBoxView",
            "box_style": "",
            "children": [
              "IPY_MODEL_04adf857e289476ea6ddb6424ed7f38a",
              "IPY_MODEL_cf1ebe6734d34d98877737952a8ffab6",
              "IPY_MODEL_49e5d416eec34bb7abc88e069cecef02"
            ],
            "layout": "IPY_MODEL_0fac5bd07afc4cadab1745f22a1fd86e"
          }
        },
        "412c672990694f0ab26e8a4246bf4225": {
          "model_module": "@jupyter-widgets/controls",
          "model_module_version": "1.5.0",
          "model_name": "DescriptionStyleModel",
          "state": {
            "_model_module": "@jupyter-widgets/controls",
            "_model_module_version": "1.5.0",
            "_model_name": "DescriptionStyleModel",
            "_view_count": null,
            "_view_module": "@jupyter-widgets/base",
            "_view_module_version": "1.2.0",
            "_view_name": "StyleView",
            "description_width": ""
          }
        },
        "49e5d416eec34bb7abc88e069cecef02": {
          "model_module": "@jupyter-widgets/controls",
          "model_module_version": "1.5.0",
          "model_name": "HTMLModel",
          "state": {
            "_dom_classes": [],
            "_model_module": "@jupyter-widgets/controls",
            "_model_module_version": "1.5.0",
            "_model_name": "HTMLModel",
            "_view_count": null,
            "_view_module": "@jupyter-widgets/controls",
            "_view_module_version": "1.5.0",
            "_view_name": "HTMLView",
            "description": "",
            "description_tooltip": null,
            "layout": "IPY_MODEL_32c6b3c6a50b4d139298b96f7999f947",
            "placeholder": "​",
            "style": "IPY_MODEL_bf2b0d4ffd5d41ebb767b30daaa524c9",
            "value": " 9.88k/9.88k [00:00&lt;00:00, 789kB/s]"
          }
        },
        "5c3d2cf6a4e04eb9af8e223c073bf860": {
          "model_module": "@jupyter-widgets/controls",
          "model_module_version": "1.5.0",
          "model_name": "HBoxModel",
          "state": {
            "_dom_classes": [],
            "_model_module": "@jupyter-widgets/controls",
            "_model_module_version": "1.5.0",
            "_model_name": "HBoxModel",
            "_view_count": null,
            "_view_module": "@jupyter-widgets/controls",
            "_view_module_version": "1.5.0",
            "_view_name": "HBoxView",
            "box_style": "",
            "children": [
              "IPY_MODEL_e88006f613ed4c7ba44585489e21918f",
              "IPY_MODEL_e9cb539754d945f3a1dc736dc211d0d9",
              "IPY_MODEL_e8af555c878a4c7a9a5e1c39fc1dfaae"
            ],
            "layout": "IPY_MODEL_80b817ba034d47bb949cc6c3ef4bdc79"
          }
        },
        "5d5e04b44907419eba711dcb28789a18": {
          "model_module": "@jupyter-widgets/base",
          "model_module_version": "1.2.0",
          "model_name": "LayoutModel",
          "state": {
            "_model_module": "@jupyter-widgets/base",
            "_model_module_version": "1.2.0",
            "_model_name": "LayoutModel",
            "_view_count": null,
            "_view_module": "@jupyter-widgets/base",
            "_view_module_version": "1.2.0",
            "_view_name": "LayoutView",
            "align_content": null,
            "align_items": null,
            "align_self": null,
            "border": null,
            "bottom": null,
            "display": null,
            "flex": null,
            "flex_flow": null,
            "grid_area": null,
            "grid_auto_columns": null,
            "grid_auto_flow": null,
            "grid_auto_rows": null,
            "grid_column": null,
            "grid_gap": null,
            "grid_row": null,
            "grid_template_areas": null,
            "grid_template_columns": null,
            "grid_template_rows": null,
            "height": null,
            "justify_content": null,
            "justify_items": null,
            "left": null,
            "margin": null,
            "max_height": null,
            "max_width": null,
            "min_height": null,
            "min_width": null,
            "object_fit": null,
            "object_position": null,
            "order": null,
            "overflow": null,
            "overflow_x": null,
            "overflow_y": null,
            "padding": null,
            "right": null,
            "top": null,
            "visibility": null,
            "width": null
          }
        },
        "6cdc5f9b81504801a4058bfc2c286475": {
          "model_module": "@jupyter-widgets/base",
          "model_module_version": "1.2.0",
          "model_name": "LayoutModel",
          "state": {
            "_model_module": "@jupyter-widgets/base",
            "_model_module_version": "1.2.0",
            "_model_name": "LayoutModel",
            "_view_count": null,
            "_view_module": "@jupyter-widgets/base",
            "_view_module_version": "1.2.0",
            "_view_name": "LayoutView",
            "align_content": null,
            "align_items": null,
            "align_self": null,
            "border": null,
            "bottom": null,
            "display": null,
            "flex": null,
            "flex_flow": null,
            "grid_area": null,
            "grid_auto_columns": null,
            "grid_auto_flow": null,
            "grid_auto_rows": null,
            "grid_column": null,
            "grid_gap": null,
            "grid_row": null,
            "grid_template_areas": null,
            "grid_template_columns": null,
            "grid_template_rows": null,
            "height": null,
            "justify_content": null,
            "justify_items": null,
            "left": null,
            "margin": null,
            "max_height": null,
            "max_width": null,
            "min_height": null,
            "min_width": null,
            "object_fit": null,
            "object_position": null,
            "order": null,
            "overflow": null,
            "overflow_x": null,
            "overflow_y": null,
            "padding": null,
            "right": null,
            "top": null,
            "visibility": null,
            "width": null
          }
        },
        "80b817ba034d47bb949cc6c3ef4bdc79": {
          "model_module": "@jupyter-widgets/base",
          "model_module_version": "1.2.0",
          "model_name": "LayoutModel",
          "state": {
            "_model_module": "@jupyter-widgets/base",
            "_model_module_version": "1.2.0",
            "_model_name": "LayoutModel",
            "_view_count": null,
            "_view_module": "@jupyter-widgets/base",
            "_view_module_version": "1.2.0",
            "_view_name": "LayoutView",
            "align_content": null,
            "align_items": null,
            "align_self": null,
            "border": null,
            "bottom": null,
            "display": null,
            "flex": null,
            "flex_flow": null,
            "grid_area": null,
            "grid_auto_columns": null,
            "grid_auto_flow": null,
            "grid_auto_rows": null,
            "grid_column": null,
            "grid_gap": null,
            "grid_row": null,
            "grid_template_areas": null,
            "grid_template_columns": null,
            "grid_template_rows": null,
            "height": null,
            "justify_content": null,
            "justify_items": null,
            "left": null,
            "margin": null,
            "max_height": null,
            "max_width": null,
            "min_height": null,
            "min_width": null,
            "object_fit": null,
            "object_position": null,
            "order": null,
            "overflow": null,
            "overflow_x": null,
            "overflow_y": null,
            "padding": null,
            "right": null,
            "top": null,
            "visibility": null,
            "width": null
          }
        },
        "8310fef84eee4ccdbf4e69b0fce5b914": {
          "model_module": "@jupyter-widgets/controls",
          "model_module_version": "1.5.0",
          "model_name": "HTMLModel",
          "state": {
            "_dom_classes": [],
            "_model_module": "@jupyter-widgets/controls",
            "_model_module_version": "1.5.0",
            "_model_name": "HTMLModel",
            "_view_count": null,
            "_view_module": "@jupyter-widgets/controls",
            "_view_module_version": "1.5.0",
            "_view_name": "HTMLView",
            "description": "",
            "description_tooltip": null,
            "layout": "IPY_MODEL_c3c93ee5e1fe4648a31f1c7a4fe147c8",
            "placeholder": "​",
            "style": "IPY_MODEL_05509c7c26d8472182a21eb25b1c4354",
            "value": " 15.1k/15.1k [00:00&lt;00:00, 1.20MB/s]"
          }
        },
        "8ef4e3b050b3423bbccc45207a071ec8": {
          "model_module": "@jupyter-widgets/controls",
          "model_module_version": "1.5.0",
          "model_name": "ProgressStyleModel",
          "state": {
            "_model_module": "@jupyter-widgets/controls",
            "_model_module_version": "1.5.0",
            "_model_name": "ProgressStyleModel",
            "_view_count": null,
            "_view_module": "@jupyter-widgets/base",
            "_view_module_version": "1.2.0",
            "_view_name": "StyleView",
            "bar_color": null,
            "description_width": ""
          }
        },
        "93933e9af4914549b86f00d2ddd7703d": {
          "model_module": "@jupyter-widgets/controls",
          "model_module_version": "1.5.0",
          "model_name": "DescriptionStyleModel",
          "state": {
            "_model_module": "@jupyter-widgets/controls",
            "_model_module_version": "1.5.0",
            "_model_name": "DescriptionStyleModel",
            "_view_count": null,
            "_view_module": "@jupyter-widgets/base",
            "_view_module_version": "1.2.0",
            "_view_name": "StyleView",
            "description_width": ""
          }
        },
        "9b93fea7526f4b8c974d506e741126e7": {
          "model_module": "@jupyter-widgets/base",
          "model_module_version": "1.2.0",
          "model_name": "LayoutModel",
          "state": {
            "_model_module": "@jupyter-widgets/base",
            "_model_module_version": "1.2.0",
            "_model_name": "LayoutModel",
            "_view_count": null,
            "_view_module": "@jupyter-widgets/base",
            "_view_module_version": "1.2.0",
            "_view_name": "LayoutView",
            "align_content": null,
            "align_items": null,
            "align_self": null,
            "border": null,
            "bottom": null,
            "display": null,
            "flex": null,
            "flex_flow": null,
            "grid_area": null,
            "grid_auto_columns": null,
            "grid_auto_flow": null,
            "grid_auto_rows": null,
            "grid_column": null,
            "grid_gap": null,
            "grid_row": null,
            "grid_template_areas": null,
            "grid_template_columns": null,
            "grid_template_rows": null,
            "height": null,
            "justify_content": null,
            "justify_items": null,
            "left": null,
            "margin": null,
            "max_height": null,
            "max_width": null,
            "min_height": null,
            "min_width": null,
            "object_fit": null,
            "object_position": null,
            "order": null,
            "overflow": null,
            "overflow_x": null,
            "overflow_y": null,
            "padding": null,
            "right": null,
            "top": null,
            "visibility": null,
            "width": null
          }
        },
        "9ff216683569413892943434a01c7851": {
          "model_module": "@jupyter-widgets/base",
          "model_module_version": "1.2.0",
          "model_name": "LayoutModel",
          "state": {
            "_model_module": "@jupyter-widgets/base",
            "_model_module_version": "1.2.0",
            "_model_name": "LayoutModel",
            "_view_count": null,
            "_view_module": "@jupyter-widgets/base",
            "_view_module_version": "1.2.0",
            "_view_name": "LayoutView",
            "align_content": null,
            "align_items": null,
            "align_self": null,
            "border": null,
            "bottom": null,
            "display": null,
            "flex": null,
            "flex_flow": null,
            "grid_area": null,
            "grid_auto_columns": null,
            "grid_auto_flow": null,
            "grid_auto_rows": null,
            "grid_column": null,
            "grid_gap": null,
            "grid_row": null,
            "grid_template_areas": null,
            "grid_template_columns": null,
            "grid_template_rows": null,
            "height": null,
            "justify_content": null,
            "justify_items": null,
            "left": null,
            "margin": null,
            "max_height": null,
            "max_width": null,
            "min_height": null,
            "min_width": null,
            "object_fit": null,
            "object_position": null,
            "order": null,
            "overflow": null,
            "overflow_x": null,
            "overflow_y": null,
            "padding": null,
            "right": null,
            "top": null,
            "visibility": null,
            "width": null
          }
        },
        "b5e62cbda7d34e70a2e9bb998f67b9ba": {
          "model_module": "@jupyter-widgets/base",
          "model_module_version": "1.2.0",
          "model_name": "LayoutModel",
          "state": {
            "_model_module": "@jupyter-widgets/base",
            "_model_module_version": "1.2.0",
            "_model_name": "LayoutModel",
            "_view_count": null,
            "_view_module": "@jupyter-widgets/base",
            "_view_module_version": "1.2.0",
            "_view_name": "LayoutView",
            "align_content": null,
            "align_items": null,
            "align_self": null,
            "border": null,
            "bottom": null,
            "display": null,
            "flex": null,
            "flex_flow": null,
            "grid_area": null,
            "grid_auto_columns": null,
            "grid_auto_flow": null,
            "grid_auto_rows": null,
            "grid_column": null,
            "grid_gap": null,
            "grid_row": null,
            "grid_template_areas": null,
            "grid_template_columns": null,
            "grid_template_rows": null,
            "height": null,
            "justify_content": null,
            "justify_items": null,
            "left": null,
            "margin": null,
            "max_height": null,
            "max_width": null,
            "min_height": null,
            "min_width": null,
            "object_fit": null,
            "object_position": null,
            "order": null,
            "overflow": null,
            "overflow_x": null,
            "overflow_y": null,
            "padding": null,
            "right": null,
            "top": null,
            "visibility": null,
            "width": null
          }
        },
        "bf2b0d4ffd5d41ebb767b30daaa524c9": {
          "model_module": "@jupyter-widgets/controls",
          "model_module_version": "1.5.0",
          "model_name": "DescriptionStyleModel",
          "state": {
            "_model_module": "@jupyter-widgets/controls",
            "_model_module_version": "1.5.0",
            "_model_name": "DescriptionStyleModel",
            "_view_count": null,
            "_view_module": "@jupyter-widgets/base",
            "_view_module_version": "1.2.0",
            "_view_name": "StyleView",
            "description_width": ""
          }
        },
        "c02682ca18384da3b18ba85b87326069": {
          "model_module": "@jupyter-widgets/controls",
          "model_module_version": "1.5.0",
          "model_name": "DescriptionStyleModel",
          "state": {
            "_model_module": "@jupyter-widgets/controls",
            "_model_module_version": "1.5.0",
            "_model_name": "DescriptionStyleModel",
            "_view_count": null,
            "_view_module": "@jupyter-widgets/base",
            "_view_module_version": "1.2.0",
            "_view_name": "StyleView",
            "description_width": ""
          }
        },
        "c3c93ee5e1fe4648a31f1c7a4fe147c8": {
          "model_module": "@jupyter-widgets/base",
          "model_module_version": "1.2.0",
          "model_name": "LayoutModel",
          "state": {
            "_model_module": "@jupyter-widgets/base",
            "_model_module_version": "1.2.0",
            "_model_name": "LayoutModel",
            "_view_count": null,
            "_view_module": "@jupyter-widgets/base",
            "_view_module_version": "1.2.0",
            "_view_name": "LayoutView",
            "align_content": null,
            "align_items": null,
            "align_self": null,
            "border": null,
            "bottom": null,
            "display": null,
            "flex": null,
            "flex_flow": null,
            "grid_area": null,
            "grid_auto_columns": null,
            "grid_auto_flow": null,
            "grid_auto_rows": null,
            "grid_column": null,
            "grid_gap": null,
            "grid_row": null,
            "grid_template_areas": null,
            "grid_template_columns": null,
            "grid_template_rows": null,
            "height": null,
            "justify_content": null,
            "justify_items": null,
            "left": null,
            "margin": null,
            "max_height": null,
            "max_width": null,
            "min_height": null,
            "min_width": null,
            "object_fit": null,
            "object_position": null,
            "order": null,
            "overflow": null,
            "overflow_x": null,
            "overflow_y": null,
            "padding": null,
            "right": null,
            "top": null,
            "visibility": null,
            "width": null
          }
        },
        "cf1ebe6734d34d98877737952a8ffab6": {
          "model_module": "@jupyter-widgets/controls",
          "model_module_version": "1.5.0",
          "model_name": "FloatProgressModel",
          "state": {
            "_dom_classes": [],
            "_model_module": "@jupyter-widgets/controls",
            "_model_module_version": "1.5.0",
            "_model_name": "FloatProgressModel",
            "_view_count": null,
            "_view_module": "@jupyter-widgets/controls",
            "_view_module_version": "1.5.0",
            "_view_name": "ProgressView",
            "bar_style": "success",
            "description": "",
            "description_tooltip": null,
            "layout": "IPY_MODEL_b5e62cbda7d34e70a2e9bb998f67b9ba",
            "max": 9881,
            "min": 0,
            "orientation": "horizontal",
            "style": "IPY_MODEL_1d0819ad206749be8c14921686211d4d",
            "value": 9881
          }
        },
        "d97ad14334234a7fb73f8a6d4497d5ee": {
          "model_module": "@jupyter-widgets/base",
          "model_module_version": "1.2.0",
          "model_name": "LayoutModel",
          "state": {
            "_model_module": "@jupyter-widgets/base",
            "_model_module_version": "1.2.0",
            "_model_name": "LayoutModel",
            "_view_count": null,
            "_view_module": "@jupyter-widgets/base",
            "_view_module_version": "1.2.0",
            "_view_name": "LayoutView",
            "align_content": null,
            "align_items": null,
            "align_self": null,
            "border": null,
            "bottom": null,
            "display": null,
            "flex": null,
            "flex_flow": null,
            "grid_area": null,
            "grid_auto_columns": null,
            "grid_auto_flow": null,
            "grid_auto_rows": null,
            "grid_column": null,
            "grid_gap": null,
            "grid_row": null,
            "grid_template_areas": null,
            "grid_template_columns": null,
            "grid_template_rows": null,
            "height": null,
            "justify_content": null,
            "justify_items": null,
            "left": null,
            "margin": null,
            "max_height": null,
            "max_width": null,
            "min_height": null,
            "min_width": null,
            "object_fit": null,
            "object_position": null,
            "order": null,
            "overflow": null,
            "overflow_x": null,
            "overflow_y": null,
            "padding": null,
            "right": null,
            "top": null,
            "visibility": null,
            "width": null
          }
        },
        "e88006f613ed4c7ba44585489e21918f": {
          "model_module": "@jupyter-widgets/controls",
          "model_module_version": "1.5.0",
          "model_name": "HTMLModel",
          "state": {
            "_dom_classes": [],
            "_model_module": "@jupyter-widgets/controls",
            "_model_module_version": "1.5.0",
            "_model_name": "HTMLModel",
            "_view_count": null,
            "_view_module": "@jupyter-widgets/controls",
            "_view_module_version": "1.5.0",
            "_view_name": "HTMLView",
            "description": "",
            "description_tooltip": null,
            "layout": "IPY_MODEL_9b93fea7526f4b8c974d506e741126e7",
            "placeholder": "​",
            "style": "IPY_MODEL_93933e9af4914549b86f00d2ddd7703d",
            "value": "Downloading builder script: 100%"
          }
        },
        "e8af555c878a4c7a9a5e1c39fc1dfaae": {
          "model_module": "@jupyter-widgets/controls",
          "model_module_version": "1.5.0",
          "model_name": "HTMLModel",
          "state": {
            "_dom_classes": [],
            "_model_module": "@jupyter-widgets/controls",
            "_model_module_version": "1.5.0",
            "_model_name": "HTMLModel",
            "_view_count": null,
            "_view_module": "@jupyter-widgets/controls",
            "_view_module_version": "1.5.0",
            "_view_name": "HTMLView",
            "description": "",
            "description_tooltip": null,
            "layout": "IPY_MODEL_9ff216683569413892943434a01c7851",
            "placeholder": "​",
            "style": "IPY_MODEL_c02682ca18384da3b18ba85b87326069",
            "value": " 8.33k/8.33k [00:00&lt;00:00, 636kB/s]"
          }
        },
        "e9cb539754d945f3a1dc736dc211d0d9": {
          "model_module": "@jupyter-widgets/controls",
          "model_module_version": "1.5.0",
          "model_name": "FloatProgressModel",
          "state": {
            "_dom_classes": [],
            "_model_module": "@jupyter-widgets/controls",
            "_model_module_version": "1.5.0",
            "_model_name": "FloatProgressModel",
            "_view_count": null,
            "_view_module": "@jupyter-widgets/controls",
            "_view_module_version": "1.5.0",
            "_view_name": "ProgressView",
            "bar_style": "success",
            "description": "",
            "description_tooltip": null,
            "layout": "IPY_MODEL_ea784db488fa4b2b85dad373c5654a9e",
            "max": 8326,
            "min": 0,
            "orientation": "horizontal",
            "style": "IPY_MODEL_8ef4e3b050b3423bbccc45207a071ec8",
            "value": 8326
          }
        },
        "ea784db488fa4b2b85dad373c5654a9e": {
          "model_module": "@jupyter-widgets/base",
          "model_module_version": "1.2.0",
          "model_name": "LayoutModel",
          "state": {
            "_model_module": "@jupyter-widgets/base",
            "_model_module_version": "1.2.0",
            "_model_name": "LayoutModel",
            "_view_count": null,
            "_view_module": "@jupyter-widgets/base",
            "_view_module_version": "1.2.0",
            "_view_name": "LayoutView",
            "align_content": null,
            "align_items": null,
            "align_self": null,
            "border": null,
            "bottom": null,
            "display": null,
            "flex": null,
            "flex_flow": null,
            "grid_area": null,
            "grid_auto_columns": null,
            "grid_auto_flow": null,
            "grid_auto_rows": null,
            "grid_column": null,
            "grid_gap": null,
            "grid_row": null,
            "grid_template_areas": null,
            "grid_template_columns": null,
            "grid_template_rows": null,
            "height": null,
            "justify_content": null,
            "justify_items": null,
            "left": null,
            "margin": null,
            "max_height": null,
            "max_width": null,
            "min_height": null,
            "min_width": null,
            "object_fit": null,
            "object_position": null,
            "order": null,
            "overflow": null,
            "overflow_x": null,
            "overflow_y": null,
            "padding": null,
            "right": null,
            "top": null,
            "visibility": null,
            "width": null
          }
        }
      }
    }
  },
  "nbformat": 4,
  "nbformat_minor": 0
}
